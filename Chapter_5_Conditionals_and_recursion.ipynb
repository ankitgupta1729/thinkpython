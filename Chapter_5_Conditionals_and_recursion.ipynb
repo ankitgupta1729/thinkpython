{
 "cells": [
  {
   "cell_type": "markdown",
   "id": "c42820a8",
   "metadata": {},
   "source": [
    "The floor division operator, //, divides two numbers and rounds down to an integer."
   ]
  },
  {
   "cell_type": "code",
   "execution_count": 1,
   "id": "8cef7635",
   "metadata": {},
   "outputs": [
    {
     "data": {
      "text/plain": [
       "1.75"
      ]
     },
     "execution_count": 1,
     "metadata": {},
     "output_type": "execute_result"
    }
   ],
   "source": [
    "minutes = 105\n",
    "minutes / 60"
   ]
  },
  {
   "cell_type": "code",
   "execution_count": 2,
   "id": "9863a30b",
   "metadata": {},
   "outputs": [
    {
     "data": {
      "text/plain": [
       "1"
      ]
     },
     "execution_count": 2,
     "metadata": {},
     "output_type": "execute_result"
    }
   ],
   "source": [
    "minutes = 105\n",
    "hours = minutes // 60\n",
    "hours"
   ]
  },
  {
   "cell_type": "code",
   "execution_count": 3,
   "id": "cb2a9ebb",
   "metadata": {},
   "outputs": [
    {
     "data": {
      "text/plain": [
       "45"
      ]
     },
     "execution_count": 3,
     "metadata": {},
     "output_type": "execute_result"
    }
   ],
   "source": [
    "#To get the remainder, you could subtract off one hour in minutes:\n",
    "remainder = minutes - hours * 60\n",
    "remainder"
   ]
  },
  {
   "cell_type": "code",
   "execution_count": 4,
   "id": "ef95eefe",
   "metadata": {},
   "outputs": [
    {
     "data": {
      "text/plain": [
       "45"
      ]
     },
     "execution_count": 4,
     "metadata": {},
     "output_type": "execute_result"
    }
   ],
   "source": [
    "#An alternative is to use the modulus operator, %, which divides two numbers and returns\n",
    "#the remainder.\n",
    "remainder = minutes % 60\n",
    "remainder"
   ]
  },
  {
   "cell_type": "code",
   "execution_count": 5,
   "id": "17d1c20a",
   "metadata": {},
   "outputs": [],
   "source": [
    "#If you are using Python 2, division works differently. The division operator, /, performs\n",
    "#floor division if both operands are integers, and floating-point division if either operand is\n",
    "#a float."
   ]
  },
  {
   "cell_type": "code",
   "execution_count": 6,
   "id": "aa9a4f12",
   "metadata": {},
   "outputs": [
    {
     "data": {
      "text/plain": [
       "False"
      ]
     },
     "execution_count": 6,
     "metadata": {},
     "output_type": "execute_result"
    }
   ],
   "source": [
    "5 == 6"
   ]
  },
  {
   "cell_type": "code",
   "execution_count": 7,
   "id": "05d8f28e",
   "metadata": {},
   "outputs": [
    {
     "data": {
      "text/plain": [
       "bool"
      ]
     },
     "execution_count": 7,
     "metadata": {},
     "output_type": "execute_result"
    }
   ],
   "source": [
    "type(True)"
   ]
  },
  {
   "cell_type": "code",
   "execution_count": 8,
   "id": "dc5ad180",
   "metadata": {},
   "outputs": [
    {
     "data": {
      "text/plain": [
       "False"
      ]
     },
     "execution_count": 8,
     "metadata": {},
     "output_type": "execute_result"
    }
   ],
   "source": [
    "not (2 > 0)"
   ]
  },
  {
   "cell_type": "code",
   "execution_count": 9,
   "id": "d7bfa6b6",
   "metadata": {},
   "outputs": [
    {
     "data": {
      "text/plain": [
       "True"
      ]
     },
     "execution_count": 9,
     "metadata": {},
     "output_type": "execute_result"
    }
   ],
   "source": [
    "42 and True"
   ]
  },
  {
   "cell_type": "markdown",
   "id": "1288b59e",
   "metadata": {},
   "source": [
    "There is no limit on the number of statements that can appear in the body, but there has to\n",
    "be at least one. Occasionally, it is useful to have a body with no statements (usually as a\n",
    "place keeper for code you haven’t written yet). In that case, you can use the pass statement,\n",
    "which does nothing"
   ]
  },
  {
   "cell_type": "code",
   "execution_count": 11,
   "id": "0d4c02cb",
   "metadata": {},
   "outputs": [],
   "source": [
    "x=-1\n",
    "if x < 0:\n",
    "    pass # TODO: need to handle negative values!"
   ]
  },
  {
   "cell_type": "code",
   "execution_count": null,
   "id": "25a95a55",
   "metadata": {},
   "outputs": [],
   "source": [
    "# if choice == 'a':\n",
    "#     draw_a()\n",
    "# elif choice == 'b':\n",
    "#     draw_b()\n",
    "# elif choice == 'c':\n",
    "#     draw_c()"
   ]
  },
  {
   "cell_type": "markdown",
   "id": "a59a329f",
   "metadata": {},
   "source": [
    "Each condition is checked in order. If the first is false, the next is checked, and so on. If one\n",
    "of them is true, the corresponding branch runs and the statement ends. Even if more than\n",
    "one condition is true, only the first true branch runs."
   ]
  },
  {
   "cell_type": "markdown",
   "id": "acc232b1",
   "metadata": {},
   "source": [
    "function that calls itself is recursive; the process of executing it is called recursion"
   ]
  },
  {
   "cell_type": "markdown",
   "id": "1881a4a0",
   "metadata": {},
   "source": [
    "If a recursion never reaches a base case, it goes on making recursive calls forever, and the\n",
    "program never terminates. This is known as infinite recursion, and it is generally not a\n",
    "good idea."
   ]
  },
  {
   "cell_type": "markdown",
   "id": "8f69d185",
   "metadata": {},
   "source": [
    "In most programming environments, a program with infinite recursion does not really run\n",
    "forever. Python reports an error message when the maximum recursion depth is reached\n",
    "\n",
    "If you encounter an infinite recursion by accident, review your function to confirm that\n",
    "there is a base case that does not make a recursive call. And if there is a base case, check\n",
    "whether you are guaranteed to reach it."
   ]
  },
  {
   "cell_type": "markdown",
   "id": "0b74abd2",
   "metadata": {},
   "source": [
    "\"input\" function returns what the user typed as a string.\n",
    "In Python 2, the same function is called \"raw_input\"."
   ]
  },
  {
   "cell_type": "code",
   "execution_count": null,
   "id": "242b6c89",
   "metadata": {},
   "outputs": [],
   "source": []
  }
 ],
 "metadata": {
  "kernelspec": {
   "display_name": "Python 3 (ipykernel)",
   "language": "python",
   "name": "python3"
  },
  "language_info": {
   "codemirror_mode": {
    "name": "ipython",
    "version": 3
   },
   "file_extension": ".py",
   "mimetype": "text/x-python",
   "name": "python",
   "nbconvert_exporter": "python",
   "pygments_lexer": "ipython3",
   "version": "3.9.18"
  }
 },
 "nbformat": 4,
 "nbformat_minor": 5
}
