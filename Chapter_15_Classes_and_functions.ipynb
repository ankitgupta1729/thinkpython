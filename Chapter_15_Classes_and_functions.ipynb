{
 "cells": [
  {
   "cell_type": "markdown",
   "id": "4a7ca1c5",
   "metadata": {},
   "source": [
    "## 16.1 Time"
   ]
  },
  {
   "cell_type": "markdown",
   "id": "7c5a1bc1",
   "metadata": {},
   "source": [
    "As another example of a programmer-defined type, we’ll define a class called Time that\n",
    "records the time of day. The class definition looks like this:"
   ]
  },
  {
   "cell_type": "code",
   "execution_count": 1,
   "id": "f59dfe53",
   "metadata": {},
   "outputs": [],
   "source": [
    "class Time:\n",
    "    \"\"\"Represents the time of day.\n",
    "    attributes: hour, minute, second\n",
    "    \"\"\""
   ]
  },
  {
   "cell_type": "code",
   "execution_count": 2,
   "id": "ab0e35b9",
   "metadata": {},
   "outputs": [],
   "source": [
    "time = Time()\n",
    "time.hour = 11\n",
    "time.minute = 59\n",
    "time.second = 30"
   ]
  },
  {
   "cell_type": "markdown",
   "id": "d0b8ccd9",
   "metadata": {},
   "source": [
    "## 16.2 Pure functions"
   ]
  },
  {
   "cell_type": "markdown",
   "id": "f185b1f0",
   "metadata": {},
   "source": [
    "In the next few sections, we’ll write two functions that add time values. They demonstrate\n",
    "two kinds of functions: pure functions and modifiers. They also demonstrate a development\n",
    "plan I’ll call prototype and patch, which is a way of tackling a complex problem by\n",
    "starting with a simple prototype and incrementally dealing with the complications."
   ]
  },
  {
   "cell_type": "markdown",
   "id": "5ead87b0",
   "metadata": {},
   "source": [
    "Here is a simple prototype of add_time:"
   ]
  },
  {
   "cell_type": "code",
   "execution_count": 3,
   "id": "af06fde9",
   "metadata": {},
   "outputs": [],
   "source": [
    "def add_time(t1, t2):\n",
    "    sum = Time()\n",
    "    sum.hour = t1.hour + t2.hour\n",
    "    sum.minute = t1.minute + t2.minute\n",
    "    sum.second = t1.second + t2.second\n",
    "    return sum"
   ]
  },
  {
   "cell_type": "markdown",
   "id": "ecaab362",
   "metadata": {},
   "source": [
    "The function creates a new Time object, initializes its attributes, and returns a reference to\n",
    "the new object. This is called a pure function because it does not modify any of the objects\n",
    "passed to it as arguments and it has no effect, like displaying a value or getting user input,\n",
    "other than returning a value"
   ]
  },
  {
   "cell_type": "markdown",
   "id": "82882de4",
   "metadata": {},
   "source": [
    "To test this function, I’ll create two Time objects: start contains the start time of a movie,\n",
    "like Monty Python and the Holy Grail, and duration contains the run time of the movie,\n",
    "which is one hour 35 minutes."
   ]
  },
  {
   "cell_type": "markdown",
   "id": "1a7f8bf0",
   "metadata": {},
   "source": [
    "add_time figures out when the movie will be done."
   ]
  },
  {
   "cell_type": "code",
   "execution_count": 4,
   "id": "9af8fabc",
   "metadata": {},
   "outputs": [],
   "source": [
    "start = Time()\n",
    "start.hour = 9\n",
    "start.minute = 45\n",
    "start.second = 0"
   ]
  },
  {
   "cell_type": "code",
   "execution_count": 5,
   "id": "1025ee9e",
   "metadata": {},
   "outputs": [],
   "source": [
    "duration = Time()\n",
    "duration.hour = 1\n",
    "duration.minute = 35\n",
    "duration.second = 0"
   ]
  },
  {
   "cell_type": "code",
   "execution_count": 9,
   "id": "d56fff91",
   "metadata": {},
   "outputs": [
    {
     "name": "stdout",
     "output_type": "stream",
     "text": [
      "10 : 80 : 0\n"
     ]
    }
   ],
   "source": [
    "done = add_time(start, duration)\n",
    "print(done.hour,\":\",done.minute,\":\",done.second)"
   ]
  },
  {
   "cell_type": "markdown",
   "id": "ab1da0fe",
   "metadata": {},
   "source": [
    "The result, 10:80:00 might not be what you were hoping for. The problem is that this\n",
    "function does not deal with cases where the number of seconds or minutes adds up to\n",
    "more than sixty. When that happens, we have to “carry” the extra seconds into the minute\n",
    "column or the extra minutes into the hour column.\n",
    "Here’s an improved version:"
   ]
  },
  {
   "cell_type": "code",
   "execution_count": 11,
   "id": "be8f4ec2",
   "metadata": {},
   "outputs": [],
   "source": [
    "def add_time(t1, t2):\n",
    "    sum = Time()\n",
    "    sum.hour = t1.hour + t2.hour\n",
    "    sum.minute = t1.minute + t2.minute\n",
    "    sum.second = t1.second + t2.second\n",
    "    if sum.second >= 60:\n",
    "        sum.second -= 60\n",
    "        sum.minute += 1\n",
    "    if sum.minute >= 60:\n",
    "        sum.minute -= 60\n",
    "        sum.hour += 1\n",
    "    return sum"
   ]
  },
  {
   "cell_type": "markdown",
   "id": "1cef118a",
   "metadata": {},
   "source": [
    "Although this function is correct, it is starting to get big. We will see a shorter alternative\n",
    "later."
   ]
  },
  {
   "cell_type": "markdown",
   "id": "27f41268",
   "metadata": {},
   "source": [
    "## 16.3 Modifiers"
   ]
  },
  {
   "cell_type": "markdown",
   "id": "458312f5",
   "metadata": {},
   "source": [
    "Sometimes it is useful for a function to modify the objects it gets as parameters. In that case,\n",
    "the changes are visible to the caller. Functions that work this way are called modifiers."
   ]
  },
  {
   "cell_type": "code",
   "execution_count": 12,
   "id": "5bf23433",
   "metadata": {},
   "outputs": [],
   "source": [
    "def increment(time, seconds):\n",
    "    time.second += seconds\n",
    "    if time.second >= 60:\n",
    "        time.second -= 60\n",
    "        time.minute += 1\n",
    "    if time.minute >= 60:\n",
    "        time.minute -= 60\n",
    "        time.hour += 1"
   ]
  },
  {
   "cell_type": "markdown",
   "id": "1de81ca2",
   "metadata": {},
   "source": [
    "Is this function correct? What happens if seconds is much greater than sixty?\n",
    "In that case, it is not enough to carry once; we have to keep doing it until time.second is\n",
    "less than sixty. One solution is to replace the if statements with while statements. That\n",
    "would make the function correct, but not very efficient. As an exercise, write a correct\n",
    "version of increment that doesn’t contain any loops."
   ]
  },
  {
   "cell_type": "markdown",
   "id": "5a903c4b",
   "metadata": {},
   "source": [
    "Anything that can be done with modifiers can also be done with pure functions. In fact,\n",
    "some programming languages only allow pure functions. There is some evidence that\n",
    "programs that use pure functions are faster to develop and less error-prone than programs\n",
    "that use modifiers. But modifiers are convenient at times, and functional programs tend to\n",
    "be less efficient"
   ]
  },
  {
   "cell_type": "markdown",
   "id": "e5cb2e8f",
   "metadata": {},
   "source": [
    "In general, I recommend that you write pure functions whenever it is reasonable and resort\n",
    "to modifiers only if there is a compelling advantage. This approach might be called a\n",
    "functional programming style."
   ]
  },
  {
   "cell_type": "markdown",
   "id": "09600ecb",
   "metadata": {},
   "source": [
    "## 16.4 Prototyping versus planning"
   ]
  },
  {
   "cell_type": "markdown",
   "id": "00114bea",
   "metadata": {},
   "source": [
    "The development plan I am demonstrating is called “prototype and patch”. For each function,\n",
    "I wrote a prototype that performed the basic calculation and then tested it, patching\n",
    "errors along the way."
   ]
  },
  {
   "cell_type": "markdown",
   "id": "5d7ca25d",
   "metadata": {},
   "source": [
    "An alternative is designed development, in which high-level insight into the problem can\n",
    "make the programming much easier. In this case, the insight is that a Time object is really\n",
    "a three-digit number in base 60 (see http://en.wikipedia.org/wiki/Sexagesimal). The\n",
    "second attribute is the “ones column”, the minute attribute is the “sixties column”, and the\n",
    "hour attribute is the “thirty-six hundreds column”."
   ]
  },
  {
   "cell_type": "markdown",
   "id": "bdebfbde",
   "metadata": {},
   "source": [
    "When we wrote add_time and increment, we were effectively doing addition in base 60,\n",
    "which is why we had to carry from one column to the next."
   ]
  },
  {
   "cell_type": "markdown",
   "id": "2825f514",
   "metadata": {},
   "source": [
    "This observation suggests another approach to the whole problem—we can convert Time\n",
    "objects to integers and take advantage of the fact that the computer knows how to do\n",
    "integer arithmetic.    \n",
    "   \n",
    "Here is a function that converts Times to integers:"
   ]
  },
  {
   "cell_type": "code",
   "execution_count": 13,
   "id": "fee518b1",
   "metadata": {},
   "outputs": [],
   "source": [
    "def time_to_int(time):\n",
    "    minutes = time.hour * 60 + time.minute\n",
    "    seconds = minutes * 60 + time.second\n",
    "    return seconds"
   ]
  },
  {
   "cell_type": "markdown",
   "id": "ee85ae3a",
   "metadata": {},
   "source": [
    "And here is a function that converts an integer to a Time (recall that divmod divides the first\n",
    "argument by the second and returns the quotient and remainder as a tuple)."
   ]
  },
  {
   "cell_type": "code",
   "execution_count": 14,
   "id": "d5d07ae8",
   "metadata": {},
   "outputs": [],
   "source": [
    "def int_to_time(seconds):\n",
    "    time = Time()\n",
    "    minutes, time.second = divmod(seconds, 60)\n",
    "    time.hour, time.minute = divmod(minutes, 60)\n",
    "    return time"
   ]
  },
  {
   "cell_type": "code",
   "execution_count": 15,
   "id": "c3bd7701",
   "metadata": {},
   "outputs": [],
   "source": [
    "def add_time(t1, t2):\n",
    "    seconds = time_to_int(t1) + time_to_int(t2)\n",
    "    return int_to_time(seconds)"
   ]
  },
  {
   "cell_type": "markdown",
   "id": "b1b2311c",
   "metadata": {},
   "source": [
    "This version is shorter than the original, and easier to verify"
   ]
  },
  {
   "cell_type": "markdown",
   "id": "f09dc583",
   "metadata": {},
   "source": [
    "In some ways, converting from base 60 to base 10 and back is harder than just dealing with\n",
    "times. Base conversion is more abstract; our intuition for dealing with time values is better.\n",
    "But if we have the insight to treat times as base 60 numbers and make the investment of\n",
    "writing the conversion functions (time_to_int and int_to_time), we get a program that\n",
    "is shorter, easier to read and debug, and more reliable."
   ]
  },
  {
   "cell_type": "code",
   "execution_count": null,
   "id": "7a48a654",
   "metadata": {},
   "outputs": [],
   "source": []
  }
 ],
 "metadata": {
  "kernelspec": {
   "display_name": "Python 3 (ipykernel)",
   "language": "python",
   "name": "python3"
  },
  "language_info": {
   "codemirror_mode": {
    "name": "ipython",
    "version": 3
   },
   "file_extension": ".py",
   "mimetype": "text/x-python",
   "name": "python",
   "nbconvert_exporter": "python",
   "pygments_lexer": "ipython3",
   "version": "3.9.18"
  }
 },
 "nbformat": 4,
 "nbformat_minor": 5
}
