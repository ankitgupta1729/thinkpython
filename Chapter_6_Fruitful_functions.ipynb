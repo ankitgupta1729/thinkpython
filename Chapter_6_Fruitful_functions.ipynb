{
 "cells": [
  {
   "cell_type": "markdown",
   "id": "ba6ec5c7",
   "metadata": {},
   "source": [
    "The print statements we wrote are useful for debugging, but once you get the\n",
    "function working, you should remove them. Code like that is called scaffolding because it\n",
    "is helpful for building the program but is not part of the final product."
   ]
  },
  {
   "cell_type": "markdown",
   "id": "a85c2271",
   "metadata": {},
   "source": [
    "As you should expect by now, you can call one function from within another"
   ]
  },
  {
   "cell_type": "markdown",
   "id": "a37987e7",
   "metadata": {},
   "source": [
    "What happens if we call factorial and give it 1.5 as an argument?   \n",
    "factorial(1.5)   \n",
    "RuntimeError: Maximum recursion depth exceeded\n",
    "It looks like an infinite recursion. How can that be ? The function has a base case—when n== 0. But if n is not an integer, we can miss the base case and recurse forever"
   ]
  },
  {
   "cell_type": "markdown",
   "id": "1c904c26",
   "metadata": {},
   "source": [
    " We can try to generalize the factorial function to work with\n",
    "floating-point numbers, or we can make factorial check the type of its argument. The\n",
    "first option is called the gamma function and it’s a little beyond the scope of this book. So\n",
    "we’ll go for the second"
   ]
  },
  {
   "cell_type": "code",
   "execution_count": 1,
   "id": "e301e326",
   "metadata": {},
   "outputs": [],
   "source": [
    "# if not isinstance(n, int):"
   ]
  },
  {
   "cell_type": "code",
   "execution_count": 2,
   "id": "c3368f3b",
   "metadata": {},
   "outputs": [],
   "source": [
    "def factorial(n):\n",
    "    if not isinstance(n, int):\n",
    "        print('Factorial is only defined for integers.')\n",
    "        return None\n",
    "    elif n < 0:\n",
    "        print('Factorial is not defined for negative integers.')\n",
    "        return None\n",
    "    elif n == 0:\n",
    "        return 1\n",
    "    else:\n",
    "        return n * factorial(n-1)"
   ]
  },
  {
   "cell_type": "markdown",
   "id": "317950e5",
   "metadata": {},
   "source": [
    "This program demonstrates a pattern sometimes called a guardian. The first two conditionals act as guardians, protecting the code that follows from values that might cause an\n",
    "error. The guardians make it possible to prove the correctness of the code."
   ]
  },
  {
   "cell_type": "code",
   "execution_count": null,
   "id": "aa5e8ba5",
   "metadata": {},
   "outputs": [],
   "source": []
  }
 ],
 "metadata": {
  "kernelspec": {
   "display_name": "Python 3 (ipykernel)",
   "language": "python",
   "name": "python3"
  },
  "language_info": {
   "codemirror_mode": {
    "name": "ipython",
    "version": 3
   },
   "file_extension": ".py",
   "mimetype": "text/x-python",
   "name": "python",
   "nbconvert_exporter": "python",
   "pygments_lexer": "ipython3",
   "version": "3.9.18"
  }
 },
 "nbformat": 4,
 "nbformat_minor": 5
}
