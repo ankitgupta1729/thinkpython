{
 "cells": [
  {
   "cell_type": "markdown",
   "id": "da2845fe",
   "metadata": {},
   "source": [
    "This chapter presents a case study that demonstrates a process for designing functions that\n",
    "work together.\n",
    "It introduces the turtle module, which allows you to create images using turtle graphics.\n",
    "The turtle module is included in most Python installations, but if you are running Python\n",
    "using PythonAnywhere, you won’t be able to run the turtle examples (at least you couldn’t\n",
    "when I wrote this)."
   ]
  },
  {
   "cell_type": "markdown",
   "id": "8b6617c7",
   "metadata": {},
   "source": [
    "## 4.1 The turtle module"
   ]
  },
  {
   "cell_type": "code",
   "execution_count": 1,
   "id": "fd7efc72",
   "metadata": {},
   "outputs": [],
   "source": [
    "import turtle\n",
    "bob = turtle.Turtle()"
   ]
  },
  {
   "cell_type": "code",
   "execution_count": 2,
   "id": "a42bda95",
   "metadata": {},
   "outputs": [
    {
     "name": "stdout",
     "output_type": "stream",
     "text": [
      "<turtle.Turtle object at 0x0000016F966920D0>\n"
     ]
    }
   ],
   "source": [
    "print(bob)"
   ]
  },
  {
   "cell_type": "markdown",
   "id": "e01688eb",
   "metadata": {},
   "source": [
    "When you run this code, it should create a new window with small arrow that represents\n",
    "the turtle. Close the window"
   ]
  },
  {
   "cell_type": "markdown",
   "id": "29ffc0c8",
   "metadata": {},
   "source": [
    "Create a file named mypolygon.py and type in the following code:\n",
    "    \n",
    "The turtle module (with a lowercase ’t’) provides a function called Turtle (with an uppercase\n",
    "’T’) that creates a Turtle object, which we assign to a variable named bob. Printing\n",
    "bob displays something like:\n",
    "<turtle.Turtle object at 0xb7bfbf4c>\n",
    "\n",
    "This means that bob refers to an object with type Turtle as defined in module turtle.\n",
    "mainloop tells the window to wait for the user to do something, although in this case\n",
    "there’s not much for the user to do except close the window."
   ]
  },
  {
   "cell_type": "markdown",
   "id": "9ce57286",
   "metadata": {},
   "source": [
    "Once you create a Turtle, you can call a method to move it around the window. A method\n",
    "is similar to a function, but it uses slightly different syntax. For example, to move the turtle\n",
    "forward:\n",
    "    \n",
    "bob.fd(100)\n",
    "The method, fd, is associated with the turtle object we’re calling bob. Calling a method is\n",
    "like making a request: you are asking bob to move forward.\n",
    "The argument of fd is a distance in pixels, so the actual size depends on your display.\n",
    "\n",
    "Other methods you can call on a Turtle are bk to move backward, lt for left turn, and rt\n",
    "right turn. The argument for lt and rt is an angle in degrees\n"
   ]
  },
  {
   "cell_type": "markdown",
   "id": "e9b93363",
   "metadata": {},
   "source": [
    "Also, each Turtle is holding a pen, which is either down or up; if the pen is down, the Turtle\n",
    "leaves a trail when it moves. The methods pu and pd stand for “pen up” and “pen down”.\n",
    "To draw a right angle, add these lines to the program (after creating bob and before calling\n",
    "mainloop):"
   ]
  },
  {
   "cell_type": "code",
   "execution_count": 3,
   "id": "67cfb484",
   "metadata": {},
   "outputs": [],
   "source": [
    "bob.fd(100)\n",
    "bob.lt(90)\n",
    "bob.fd(100)"
   ]
  },
  {
   "cell_type": "markdown",
   "id": "cae3af8c",
   "metadata": {},
   "source": [
    "Wrapping a piece of code up in a function is called encapsulation. One of the benefits of\n",
    "encapsulation is that it attaches a name to the code, which serves as a kind of documentation.\n",
    "Another advantage is that if you re-use the code, it is more concise to call a function\n",
    "twice than to copy and paste the body"
   ]
  },
  {
   "cell_type": "markdown",
   "id": "fad377fa",
   "metadata": {},
   "source": [
    "Adding a parameter to a function is called generalization because it makes the function\n",
    "more general: in the previous version, the square is always the same size; in this version it\n",
    "can be any size."
   ]
  },
  {
   "cell_type": "markdown",
   "id": "ddabe5e0",
   "metadata": {},
   "source": [
    "By convention, import statements are\n",
    "usually at the beginning of the script."
   ]
  },
  {
   "cell_type": "markdown",
   "id": "6199cca6",
   "metadata": {},
   "source": [
    "This process—rearranging a program to improve interfaces and facilitate code re-use—is\n",
    "called refactoring"
   ]
  },
  {
   "cell_type": "markdown",
   "id": "b0504d91",
   "metadata": {},
   "source": [
    "## 4.9 docstring"
   ]
  },
  {
   "cell_type": "markdown",
   "id": "c636dc2b",
   "metadata": {},
   "source": [
    "A docstring is a string at the beginning of a function that explains the interface (“doc” is\n",
    "short for “documentation”)"
   ]
  },
  {
   "cell_type": "code",
   "execution_count": 1,
   "id": "4284a019",
   "metadata": {},
   "outputs": [],
   "source": [
    "def polyline(t, n, length, angle):\n",
    "    \"\"\"Draws n line segments with the given length and\n",
    "    angle (in degrees) between them. t is a turtle.\n",
    "    \"\"\"\n",
    "    for i in range(n):\n",
    "        t.fd(length)\n",
    "        t.lt(angle)"
   ]
  },
  {
   "cell_type": "markdown",
   "id": "92e956d7",
   "metadata": {},
   "source": [
    "By convention, all docstrings are triple-quoted strings, also known as multiline strings\n",
    "because the triple quotes allow the string to span more than one line"
   ]
  },
  {
   "cell_type": "code",
   "execution_count": null,
   "id": "571ba8ce",
   "metadata": {},
   "outputs": [],
   "source": []
  }
 ],
 "metadata": {
  "kernelspec": {
   "display_name": "Python 3 (ipykernel)",
   "language": "python",
   "name": "python3"
  },
  "language_info": {
   "codemirror_mode": {
    "name": "ipython",
    "version": 3
   },
   "file_extension": ".py",
   "mimetype": "text/x-python",
   "name": "python",
   "nbconvert_exporter": "python",
   "pygments_lexer": "ipython3",
   "version": "3.9.18"
  }
 },
 "nbformat": 4,
 "nbformat_minor": 5
}
