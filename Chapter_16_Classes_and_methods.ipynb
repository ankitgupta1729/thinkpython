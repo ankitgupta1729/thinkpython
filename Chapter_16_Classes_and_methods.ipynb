{
 "cells": [
  {
   "cell_type": "markdown",
   "id": "a6f9aaa2",
   "metadata": {},
   "source": [
    "Although we are using some of Python’s object-oriented features, the programs from the\n",
    "last two chapters are not really object-oriented because they don’t represent the relationships\n",
    "between programmer-defined types and the functions that operate on them. The next\n",
    "step is to transform those functions into methods that make the relationships explicit."
   ]
  },
  {
   "cell_type": "markdown",
   "id": "2a60b83c",
   "metadata": {},
   "source": [
    "## 17.1 Object-oriented features"
   ]
  },
  {
   "cell_type": "markdown",
   "id": "ccb61fee",
   "metadata": {},
   "source": [
    "Python is an object-oriented programming language, which means that it provides features\n",
    "that support object-oriented programming, which has these defining characteristics:    \n",
    "       \n",
    "• Programs include class and method definitions.    \n",
    "   \n",
    "• Most of the computation is expressed in terms of operations on objects.    \n",
    "   \n",
    "• Objects often represent things in the real world, and methods often correspond to the\n",
    "ways things in the real world interact."
   ]
  },
  {
   "cell_type": "markdown",
   "id": "b89c55bd",
   "metadata": {},
   "source": [
    "a method is a function that is associated\n",
    "with a particular class. We have seen methods for strings, lists, dictionaries and tuples. In\n",
    "this chapter, we will define methods for programmer-defined types."
   ]
  },
  {
   "cell_type": "markdown",
   "id": "87c8f08a",
   "metadata": {},
   "source": [
    "Methods are semantically the same as functions, but there are two syntactic differences:     \n",
    "         \n",
    "• Methods are defined inside a class definition in order to make the relationship between\n",
    "the class and the method explicit.    \n",
    "    \n",
    "• The syntax for invoking a method is different from the syntax for calling a function."
   ]
  },
  {
   "cell_type": "markdown",
   "id": "b36b6a32",
   "metadata": {},
   "source": [
    "## 17.2 Printing objects"
   ]
  },
  {
   "cell_type": "code",
   "execution_count": 1,
   "id": "e907e975",
   "metadata": {},
   "outputs": [],
   "source": [
    "class Time:\n",
    "    \"\"\"Represents the time of day.\"\"\"\n",
    "def print_time(time):\n",
    "    print('%.2d:%.2d:%.2d' % (time.hour, time.minute, time.second))"
   ]
  },
  {
   "cell_type": "markdown",
   "id": "1ebef598",
   "metadata": {},
   "source": [
    "To call this function, you have to pass a Time object as an argument:"
   ]
  },
  {
   "cell_type": "code",
   "execution_count": 2,
   "id": "38a8f913",
   "metadata": {},
   "outputs": [
    {
     "name": "stdout",
     "output_type": "stream",
     "text": [
      "09:45:00\n"
     ]
    }
   ],
   "source": [
    "start = Time()\n",
    "start.hour = 9\n",
    "start.minute = 45\n",
    "start.second = 00\n",
    "print_time(start)"
   ]
  },
  {
   "cell_type": "markdown",
   "id": "6bd709e6",
   "metadata": {},
   "source": [
    "To make print_time a method, all we have to do is move the function definition inside the\n",
    "class definition. Notice the change in indentation."
   ]
  },
  {
   "cell_type": "code",
   "execution_count": 6,
   "id": "c4a5ff31",
   "metadata": {},
   "outputs": [],
   "source": [
    "class Time:\n",
    "    def print_time(time):\n",
    "        print('%.2d:%.2d:%.2d' % (time.hour, time.minute, time.second))"
   ]
  },
  {
   "cell_type": "markdown",
   "id": "1a2c3cc6",
   "metadata": {},
   "source": [
    "Now there are two ways to call print_time. The first (and less common) way is to use\n",
    "function syntax:"
   ]
  },
  {
   "cell_type": "code",
   "execution_count": 4,
   "id": "b940cc89",
   "metadata": {},
   "outputs": [
    {
     "name": "stdout",
     "output_type": "stream",
     "text": [
      "09:45:00\n"
     ]
    }
   ],
   "source": [
    "Time.print_time(start)"
   ]
  },
  {
   "cell_type": "markdown",
   "id": "579c31f6",
   "metadata": {},
   "source": [
    "In this use of dot notation, Time is the name of the class, and print_time is the name of the\n",
    "method. start is passed as a parameter."
   ]
  },
  {
   "cell_type": "code",
   "execution_count": 10,
   "id": "bea6d1a3",
   "metadata": {},
   "outputs": [],
   "source": [
    "start = Time()\n",
    "start.hour = 9\n",
    "start.minute = 45\n",
    "start.second = 00"
   ]
  },
  {
   "cell_type": "markdown",
   "id": "1b54a3c1",
   "metadata": {},
   "source": [
    "The second (and more concise) way is to use method syntax:"
   ]
  },
  {
   "cell_type": "code",
   "execution_count": 11,
   "id": "4c83e9c8",
   "metadata": {},
   "outputs": [
    {
     "name": "stdout",
     "output_type": "stream",
     "text": [
      "09:45:00\n"
     ]
    }
   ],
   "source": [
    "start.print_time()"
   ]
  },
  {
   "cell_type": "markdown",
   "id": "38877720",
   "metadata": {},
   "source": [
    "In this use of dot notation, print_time is the name of the method (again), and start is\n",
    "the object the method is invoked on, which is called the subject. Just as the subject of\n",
    "a sentence is what the sentence is about, the subject of a method invocation is what the\n",
    "method is about."
   ]
  },
  {
   "cell_type": "markdown",
   "id": "683ea4a8",
   "metadata": {},
   "source": [
    "Inside the method, the subject is assigned to the first parameter, so in this case start is\n",
    "assigned to time."
   ]
  },
  {
   "cell_type": "markdown",
   "id": "e64f9b03",
   "metadata": {},
   "source": [
    "By convention, the first parameter of a method is called self, so it would be more common\n",
    "to write print_time like this:"
   ]
  },
  {
   "cell_type": "code",
   "execution_count": 12,
   "id": "9ed2f98f",
   "metadata": {},
   "outputs": [],
   "source": [
    "class Time:\n",
    "    def print_time(self):\n",
    "        print('%.2d:%.2d:%.2d' % (self.hour, self.minute, self.second))"
   ]
  },
  {
   "cell_type": "markdown",
   "id": "c7e1de1b",
   "metadata": {},
   "source": [
    "The reason for this convention is an implicit metaphor:     \n",
    "        \n",
    "• The syntax for a function call, print_time(start), suggests that the function is the\n",
    "active agent. It says something like, “Hey print_time! Here’s an object for you to\n",
    "print.”     \n",
    "     \n",
    "• In object-oriented programming, the objects are the active agents. A method invocation\n",
    "like start.print_time() says “Hey start! Please print yourself.”"
   ]
  },
  {
   "cell_type": "markdown",
   "id": "fe5e5d62",
   "metadata": {},
   "source": [
    "## 17.3 Another example"
   ]
  },
  {
   "cell_type": "code",
   "execution_count": 45,
   "id": "6e0d9ec5",
   "metadata": {},
   "outputs": [],
   "source": [
    "class Time:\n",
    "    def print_time(self):\n",
    "        print('%.2d:%.2d:%.2d' % (self.hour, self.minute, self.second))\n",
    "    def time_to_int(self):\n",
    "        minutes = self.hour * 60 + self.minute\n",
    "        seconds = minutes * 60 + self.second\n",
    "        return seconds\n",
    "    def int_to_time(self,seconds):\n",
    "        minutes, self.second = divmod(seconds, 60)\n",
    "        self.hour, self.minute = divmod(minutes, 60)\n",
    "    def increment(self, seconds):\n",
    "        seconds += self.time_to_int()\n",
    "        minutes, self.second = divmod(seconds, 60)\n",
    "        self.hour, self.minute = divmod(minutes, 60)\n",
    "        return self"
   ]
  },
  {
   "cell_type": "code",
   "execution_count": 46,
   "id": "bcb9dabc",
   "metadata": {},
   "outputs": [
    {
     "name": "stdout",
     "output_type": "stream",
     "text": [
      "09:45:00\n"
     ]
    }
   ],
   "source": [
    "start = Time()\n",
    "start.hour = 9\n",
    "start.minute = 45\n",
    "start.second = 00\n",
    "start.print_time()"
   ]
  },
  {
   "cell_type": "code",
   "execution_count": 47,
   "id": "c6afcd7e",
   "metadata": {},
   "outputs": [],
   "source": [
    "end = start.increment(1337)"
   ]
  },
  {
   "cell_type": "code",
   "execution_count": 48,
   "id": "a20188ed",
   "metadata": {},
   "outputs": [
    {
     "name": "stdout",
     "output_type": "stream",
     "text": [
      "10:07:17\n"
     ]
    }
   ],
   "source": [
    "end.print_time()"
   ]
  },
  {
   "cell_type": "markdown",
   "id": "ea937eb7",
   "metadata": {},
   "source": [
    "The subject, start, gets assigned to the first parameter, self. The argument, 1337, gets\n",
    "assigned to the second parameter, seconds.    \n",
    "     \n",
    "This mechanism can be confusing, especially if you make an error. For example, if you\n",
    "invoke increment with two arguments, you get:"
   ]
  },
  {
   "cell_type": "code",
   "execution_count": 49,
   "id": "3dfad61f",
   "metadata": {},
   "outputs": [
    {
     "ename": "TypeError",
     "evalue": "increment() takes 2 positional arguments but 3 were given",
     "output_type": "error",
     "traceback": [
      "\u001b[1;31m---------------------------------------------------------------------------\u001b[0m",
      "\u001b[1;31mTypeError\u001b[0m                                 Traceback (most recent call last)",
      "\u001b[1;32m<ipython-input-49-a8fd8b8bdfbc>\u001b[0m in \u001b[0;36m<module>\u001b[1;34m\u001b[0m\n\u001b[1;32m----> 1\u001b[1;33m \u001b[0mend\u001b[0m \u001b[1;33m=\u001b[0m \u001b[0mstart\u001b[0m\u001b[1;33m.\u001b[0m\u001b[0mincrement\u001b[0m\u001b[1;33m(\u001b[0m\u001b[1;36m1337\u001b[0m\u001b[1;33m,\u001b[0m \u001b[1;36m460\u001b[0m\u001b[1;33m)\u001b[0m\u001b[1;33m\u001b[0m\u001b[1;33m\u001b[0m\u001b[0m\n\u001b[0m",
      "\u001b[1;31mTypeError\u001b[0m: increment() takes 2 positional arguments but 3 were given"
     ]
    }
   ],
   "source": [
    "end = start.increment(1337, 460)"
   ]
  },
  {
   "cell_type": "markdown",
   "id": "01cc5abc",
   "metadata": {},
   "source": [
    "The error message is initially confusing, because there are only two arguments in parentheses.\n",
    "But the subject is also considered an argument, so all together that’s three.    \n",
    "    \n",
    "By the way, a positional argument is an argument that doesn’t have a parameter name;\n",
    "that is, it is not a keyword argument. In this function call:   \n",
    "       \n",
    "sketch(parrot, cage, dead=True)   \n",
    "   \n",
    "parrot and cage are positional, and dead is a keyword argument."
   ]
  },
  {
   "cell_type": "markdown",
   "id": "e5d02354",
   "metadata": {},
   "source": [
    "## 17.4 A more complicated example"
   ]
  },
  {
   "cell_type": "markdown",
   "id": "3066fe2e",
   "metadata": {},
   "source": [
    "Rewriting is_after (from Section 16.1) is slightly more complicated because it takes two\n",
    "Time objects as parameters. In this case it is conventional to name the first parameter self\n",
    "and the second parameter other:"
   ]
  },
  {
   "cell_type": "code",
   "execution_count": 50,
   "id": "9f947487",
   "metadata": {},
   "outputs": [],
   "source": [
    "class Time:\n",
    "    def print_time(self):\n",
    "        print('%.2d:%.2d:%.2d' % (self.hour, self.minute, self.second))\n",
    "    def time_to_int(self):\n",
    "        minutes = self.hour * 60 + self.minute\n",
    "        seconds = minutes * 60 + self.second\n",
    "        return seconds\n",
    "    def int_to_time(self,seconds):\n",
    "        minutes, self.second = divmod(seconds, 60)\n",
    "        self.hour, self.minute = divmod(minutes, 60)\n",
    "    def increment(self, seconds):\n",
    "        seconds += self.time_to_int()\n",
    "        minutes, self.second = divmod(seconds, 60)\n",
    "        self.hour, self.minute = divmod(minutes, 60)\n",
    "        return self\n",
    "    def is_after(self, other):\n",
    "        return self.time_to_int() > other.time_to_int()"
   ]
  },
  {
   "cell_type": "code",
   "execution_count": 51,
   "id": "b4163bd1",
   "metadata": {},
   "outputs": [
    {
     "name": "stdout",
     "output_type": "stream",
     "text": [
      "09:45:00\n"
     ]
    }
   ],
   "source": [
    "start = Time()\n",
    "start.hour = 9\n",
    "start.minute = 45\n",
    "start.second = 00\n",
    "start.print_time()"
   ]
  },
  {
   "cell_type": "code",
   "execution_count": 54,
   "id": "413fd0a9",
   "metadata": {},
   "outputs": [],
   "source": [
    "end = start.increment(1337)"
   ]
  },
  {
   "cell_type": "code",
   "execution_count": 55,
   "id": "39b704a7",
   "metadata": {},
   "outputs": [
    {
     "data": {
      "text/plain": [
       "False"
      ]
     },
     "execution_count": 55,
     "metadata": {},
     "output_type": "execute_result"
    }
   ],
   "source": [
    "end.is_after(start)"
   ]
  },
  {
   "cell_type": "markdown",
   "id": "27d201f3",
   "metadata": {},
   "source": [
    "## 17.5 The init method"
   ]
  },
  {
   "cell_type": "markdown",
   "id": "c2a96611",
   "metadata": {},
   "source": [
    "The init method (short for “initialization”) is a special method that gets invoked when an\n",
    "object is instantiated. Its full name is $\\text{__init__}$ (two underscore characters, followed by\n",
    "init, and then two more underscores). An init method for the Time class might look like\n",
    "this:"
   ]
  },
  {
   "cell_type": "code",
   "execution_count": 56,
   "id": "cae05f54",
   "metadata": {},
   "outputs": [],
   "source": [
    "class Time:\n",
    "    def __init__(self, hour=0, minute=0, second=0):\n",
    "        self.hour = hour\n",
    "        self.minute = minute\n",
    "        self.second = second\n",
    "    def print_time(self):\n",
    "        print('%.2d:%.2d:%.2d' % (self.hour, self.minute, self.second))\n",
    "    def time_to_int(self):\n",
    "        minutes = self.hour * 60 + self.minute\n",
    "        seconds = minutes * 60 + self.second\n",
    "        return seconds\n",
    "    def int_to_time(self,seconds):\n",
    "        minutes, self.second = divmod(seconds, 60)\n",
    "        self.hour, self.minute = divmod(minutes, 60)\n",
    "    def increment(self, seconds):\n",
    "        seconds += self.time_to_int()\n",
    "        minutes, self.second = divmod(seconds, 60)\n",
    "        self.hour, self.minute = divmod(minutes, 60)\n",
    "        return self\n",
    "    def is_after(self, other):\n",
    "        return self.time_to_int() > other.time_to_int()"
   ]
  },
  {
   "cell_type": "markdown",
   "id": "b9450aaa",
   "metadata": {},
   "source": [
    "The parameters are optional, so if you call Time with no arguments, you get the default\n",
    "values."
   ]
  },
  {
   "cell_type": "code",
   "execution_count": 57,
   "id": "bf0cc500",
   "metadata": {},
   "outputs": [
    {
     "name": "stdout",
     "output_type": "stream",
     "text": [
      "00:00:00\n"
     ]
    }
   ],
   "source": [
    "time = Time()\n",
    "time.print_time()"
   ]
  },
  {
   "cell_type": "markdown",
   "id": "b2a6a7c7",
   "metadata": {},
   "source": [
    "If you provide one argument, it overrides hour:"
   ]
  },
  {
   "cell_type": "code",
   "execution_count": 58,
   "id": "d6400e80",
   "metadata": {},
   "outputs": [
    {
     "name": "stdout",
     "output_type": "stream",
     "text": [
      "09:00:00\n"
     ]
    }
   ],
   "source": [
    "time = Time (9)\n",
    "time.print_time()"
   ]
  },
  {
   "cell_type": "markdown",
   "id": "c9d051e8",
   "metadata": {},
   "source": [
    "If you provide two arguments, they override hour and minute."
   ]
  },
  {
   "cell_type": "code",
   "execution_count": 59,
   "id": "2393a62f",
   "metadata": {},
   "outputs": [
    {
     "name": "stdout",
     "output_type": "stream",
     "text": [
      "09:45:00\n"
     ]
    }
   ],
   "source": [
    "time = Time(9, 45)\n",
    "time.print_time()"
   ]
  },
  {
   "cell_type": "markdown",
   "id": "71fb141b",
   "metadata": {},
   "source": [
    "And if you provide three arguments, they override all three default values."
   ]
  },
  {
   "cell_type": "markdown",
   "id": "0be20a99",
   "metadata": {},
   "source": [
    "## 17.6 The __str__ method"
   ]
  },
  {
   "cell_type": "markdown",
   "id": "055252b4",
   "metadata": {},
   "source": [
    "$\\text{__str__}$ is a special method, like $\\text{__init__}$, that is supposed to return a string representation\n",
    "of an object."
   ]
  },
  {
   "cell_type": "code",
   "execution_count": 60,
   "id": "02d67431",
   "metadata": {},
   "outputs": [],
   "source": [
    "class Time:\n",
    "    def __init__(self, hour=0, minute=0, second=0):\n",
    "        self.hour = hour\n",
    "        self.minute = minute\n",
    "        self.second = second\n",
    "    def __str__(self):\n",
    "        return '%.2d:%.2d:%.2d' % (self.hour, self.minute, self.second)    \n",
    "    def print_time(self):\n",
    "        print('%.2d:%.2d:%.2d' % (self.hour, self.minute, self.second))\n",
    "    def time_to_int(self):\n",
    "        minutes = self.hour * 60 + self.minute\n",
    "        seconds = minutes * 60 + self.second\n",
    "        return seconds\n",
    "    def int_to_time(self,seconds):\n",
    "        minutes, self.second = divmod(seconds, 60)\n",
    "        self.hour, self.minute = divmod(minutes, 60)\n",
    "    def increment(self, seconds):\n",
    "        seconds += self.time_to_int()\n",
    "        minutes, self.second = divmod(seconds, 60)\n",
    "        self.hour, self.minute = divmod(minutes, 60)\n",
    "        return self\n",
    "    def is_after(self, other):\n",
    "        return self.time_to_int() > other.time_to_int()"
   ]
  },
  {
   "cell_type": "code",
   "execution_count": 61,
   "id": "74da5602",
   "metadata": {},
   "outputs": [],
   "source": [
    "time = Time(9, 45)"
   ]
  },
  {
   "cell_type": "code",
   "execution_count": 62,
   "id": "1cdb98d1",
   "metadata": {},
   "outputs": [
    {
     "name": "stdout",
     "output_type": "stream",
     "text": [
      "09:45:00\n"
     ]
    }
   ],
   "source": [
    "print(time)"
   ]
  },
  {
   "cell_type": "markdown",
   "id": "f55cf336",
   "metadata": {},
   "source": [
    "When I write a new class, I almost always start by writing $\\text{__init__}$, which makes it easier\n",
    "to instantiate objects, and $\\text{__str__}$, which is useful for debugging."
   ]
  },
  {
   "cell_type": "markdown",
   "id": "c118bc8c",
   "metadata": {},
   "source": [
    "## 17.7 Operator overloading"
   ]
  },
  {
   "cell_type": "markdown",
   "id": "b1f3c6f6",
   "metadata": {},
   "source": [
    "By defining other special methods, you can specify the behavior of operators on\n",
    "programmer-defined types. For example, if you define a method named $\\text{__add__}$ for the\n",
    "Time class, you can use the + operator on Time objects.     \n",
    "     \n",
    "Here is what the definition might look like:"
   ]
  },
  {
   "cell_type": "code",
   "execution_count": 63,
   "id": "66053482",
   "metadata": {},
   "outputs": [],
   "source": [
    "# add it in time class\n",
    "def __add__(self, other):\n",
    "    seconds = self.time_to_int() + other.time_to_int()\n",
    "    return int_to_time(seconds)"
   ]
  },
  {
   "cell_type": "markdown",
   "id": "de52af38",
   "metadata": {},
   "source": [
    "And here is how you could use it:    \n",
    ">>> start = Time(9, 45)     \n",
    ">>> duration = Time(1, 35)    \n",
    ">>> print(start + duration)   \n",
    "11:20:00  "
   ]
  },
  {
   "cell_type": "markdown",
   "id": "fc9a0aa3",
   "metadata": {},
   "source": [
    "When you apply the + operator to Time objects, Python invokes $\\text{__add__}$. When you print\n",
    "the result, Python invokes $\\text{__str__}$. So there is a lot happening behind the scenes!"
   ]
  },
  {
   "cell_type": "markdown",
   "id": "064e1951",
   "metadata": {},
   "source": [
    "Changing the behavior of an operator so that it works with programmer-defined types is\n",
    "called operator overloading. For every operator in Python there is a corresponding special\n",
    "method, like $\\text{__add__}$."
   ]
  },
  {
   "cell_type": "markdown",
   "id": "69ac214d",
   "metadata": {},
   "source": [
    "## 17.8 Type-based dispatch"
   ]
  },
  {
   "cell_type": "markdown",
   "id": "a8165f0e",
   "metadata": {},
   "source": [
    "In the previous section we added two Time objects, but you also might want to add an\n",
    "integer to a Time object. The following is a version of __add__ that checks the type of\n",
    "other and invokes either add_time or increment:"
   ]
  },
  {
   "cell_type": "code",
   "execution_count": 64,
   "id": "3e83e8e9",
   "metadata": {},
   "outputs": [],
   "source": [
    "# inside class Time:\n",
    "def __add__(self, other):\n",
    "    if isinstance(other, Time):\n",
    "        return self.add_time(other)\n",
    "    else:\n",
    "        return self.increment(other)\n",
    "    def add_time(self, other):\n",
    "        seconds = self.time_to_int() + other.time_to_int()\n",
    "        return int_to_time(seconds)\n",
    "    def increment(self, seconds):\n",
    "        seconds += self.time_to_int()\n",
    "        return int_to_time(seconds)"
   ]
  },
  {
   "cell_type": "markdown",
   "id": "9d869173",
   "metadata": {},
   "source": [
    "The built-in function isinstance takes a value and a class object, and returns True if the\n",
    "value is an instance of the class."
   ]
  },
  {
   "cell_type": "markdown",
   "id": "accb214a",
   "metadata": {},
   "source": [
    "If other is a Time object, $\\text{__add__}$ invokes add_time. Otherwise it assumes that the parameter\n",
    "is a number and invokes increment. This operation is called a type-based dispatch\n",
    "because it dispatches the computation to different methods based on the type of the arguments."
   ]
  },
  {
   "cell_type": "code",
   "execution_count": 65,
   "id": "1dffc6f1",
   "metadata": {},
   "outputs": [],
   "source": [
    "# >>> start = Time(9, 45)\n",
    "# >>> duration = Time(1, 35)\n",
    "# >>> print(start + duration)\n",
    "# #11:20:00\n",
    "# >>> print(start + 1337)\n",
    "# #10:07:17"
   ]
  },
  {
   "cell_type": "markdown",
   "id": "8fe66f00",
   "metadata": {},
   "source": [
    "Unfortunately, this implementation of addition is not commutative. If the integer is the\n",
    "first operand, you get   \n",
    "    \n",
    ">>> print(1337 + start)\n",
    "      \n",
    "TypeError: unsupported operand type(s) for +: 'int' and 'instance'\n",
    "The problem is, instead of asking the Time object to add an integer, Python is asking an\n",
    "integer to add a Time object, and it doesn’t know how. But there is a clever solution for this\n",
    "problem: the special method $\\text{__radd__}$, which stands for “right-side add”. This method\n",
    "is invoked when a Time object appears on the right side of the + operator. Here’s the\n",
    "definition:"
   ]
  },
  {
   "cell_type": "code",
   "execution_count": 66,
   "id": "b6e71b53",
   "metadata": {},
   "outputs": [],
   "source": [
    "# inside class Time:\n",
    "def __radd__(self, other):\n",
    "    return self.__add__(other)"
   ]
  },
  {
   "cell_type": "code",
   "execution_count": 67,
   "id": "d9dd868b",
   "metadata": {},
   "outputs": [],
   "source": [
    "# And here’s how it’s used:\n",
    "# >>> print(1337 + start)\n",
    "# 10:07:17"
   ]
  },
  {
   "cell_type": "markdown",
   "id": "f1e488c8",
   "metadata": {},
   "source": [
    "## 17.9 Polymorphism"
   ]
  },
  {
   "cell_type": "markdown",
   "id": "67c1d2ae",
   "metadata": {},
   "source": [
    "Type-based dispatch is useful when it is necessary, but (fortunately) it is not always necessary.\n",
    "Often you can avoid it by writing functions that work correctly for arguments with\n",
    "different types.     \n",
    "     \n",
    "Many of the functions we wrote for strings also work for other sequence types. For example,\n",
    "in Section 11.2 we used histogram to count the number of times each letter appears in\n",
    "a word."
   ]
  },
  {
   "cell_type": "code",
   "execution_count": 68,
   "id": "14b2a0f2",
   "metadata": {},
   "outputs": [],
   "source": [
    "def histogram(s):\n",
    "    d = dict()\n",
    "    for c in s:\n",
    "        if c not in d:\n",
    "            d[c] = 1\n",
    "        else:\n",
    "            d[c] = d[c]+1\n",
    "    return d"
   ]
  },
  {
   "cell_type": "markdown",
   "id": "b34e8e68",
   "metadata": {},
   "source": [
    "This function also works for lists, tuples, and even dictionaries, as long as the elements of\n",
    "s are hashable, so they can be used as keys in d."
   ]
  },
  {
   "cell_type": "code",
   "execution_count": 69,
   "id": "d381d297",
   "metadata": {},
   "outputs": [
    {
     "data": {
      "text/plain": [
       "{'spam': 4, 'egg': 1, 'bacon': 1}"
      ]
     },
     "execution_count": 69,
     "metadata": {},
     "output_type": "execute_result"
    }
   ],
   "source": [
    "t = ['spam', 'egg', 'spam', 'spam', 'bacon', 'spam']\n",
    "histogram(t)"
   ]
  },
  {
   "cell_type": "markdown",
   "id": "1d15e20c",
   "metadata": {},
   "source": [
    "Functions that work with several types are called polymorphic. Polymorphism can facilitate\n",
    "code reuse. For example, the built-in function sum, which adds the elements of a\n",
    "sequence, works as long as the elements of the sequence support addition."
   ]
  },
  {
   "cell_type": "code",
   "execution_count": 70,
   "id": "5b7b11be",
   "metadata": {},
   "outputs": [
    {
     "data": {
      "text/plain": [
       "17"
      ]
     },
     "execution_count": 70,
     "metadata": {},
     "output_type": "execute_result"
    }
   ],
   "source": [
    "sum([1,2,4]+[2,3,5])"
   ]
  },
  {
   "cell_type": "code",
   "execution_count": 73,
   "id": "d5e3372c",
   "metadata": {},
   "outputs": [
    {
     "data": {
      "text/plain": [
       "3"
      ]
     },
     "execution_count": 73,
     "metadata": {},
     "output_type": "execute_result"
    }
   ],
   "source": [
    "sum((1,2))"
   ]
  },
  {
   "cell_type": "markdown",
   "id": "32400535",
   "metadata": {},
   "source": [
    "Since Time objects provide an add method, they work with sum:"
   ]
  },
  {
   "cell_type": "code",
   "execution_count": 77,
   "id": "8a7c584d",
   "metadata": {},
   "outputs": [],
   "source": [
    "# t1 = Time(7, 43)\n",
    "# t2 = Time(7, 41)\n",
    "# t3 = Time(7, 37)\n",
    "# total = sum([t1, t2, t3])\n",
    "# print(total)"
   ]
  },
  {
   "cell_type": "markdown",
   "id": "f0feb1fd",
   "metadata": {},
   "source": [
    "In general, if all of the operations inside a function work with a given type, the function\n",
    "works with that type.     \n",
    "    \n",
    "The best kind of polymorphism is the unintentional kind, where you discover that a function\n",
    "you already wrote can be applied to a type you never planned for."
   ]
  },
  {
   "cell_type": "markdown",
   "id": "c899379c",
   "metadata": {},
   "source": [
    "If you are not sure whether an object has a particular attribute, you can use the built-in\n",
    "function hasattr (see Section 15.7).    \n",
    "    \n",
    "Another way to access attributes is the built-in function vars, which takes an object and\n",
    "returns a dictionary that maps from attribute names (as strings) to their values:"
   ]
  },
  {
   "cell_type": "code",
   "execution_count": 80,
   "id": "d6c1ebd3",
   "metadata": {},
   "outputs": [
    {
     "data": {
      "text/plain": [
       "{'x': 3, 'y': 4}"
      ]
     },
     "execution_count": 80,
     "metadata": {},
     "output_type": "execute_result"
    }
   ],
   "source": [
    "class Point:\n",
    "    \"\"\"Represents a point in 2-D space.\"\"\"\n",
    "p = Point()\n",
    "p.x = 3\n",
    "p.y = 4    \n",
    "vars(p)"
   ]
  },
  {
   "cell_type": "markdown",
   "id": "859b56d9",
   "metadata": {},
   "source": [
    "For purposes of debugging, you might find it useful to keep this function handy:"
   ]
  },
  {
   "cell_type": "code",
   "execution_count": 81,
   "id": "80c9daed",
   "metadata": {},
   "outputs": [],
   "source": [
    "def print_attributes(obj):\n",
    "    for attr in vars(obj):\n",
    "        print(attr, getattr(obj, attr))"
   ]
  },
  {
   "cell_type": "code",
   "execution_count": 82,
   "id": "a9d69829",
   "metadata": {},
   "outputs": [
    {
     "name": "stdout",
     "output_type": "stream",
     "text": [
      "x 3\n",
      "y 4\n"
     ]
    }
   ],
   "source": [
    "print_attributes(p)"
   ]
  },
  {
   "cell_type": "markdown",
   "id": "73cf587c",
   "metadata": {},
   "source": [
    "print_attributes traverses the dictionary and prints each attribute name and its corresponding\n",
    "value.     \n",
    "      \n",
    "The built-in function getattr takes an object and an attribute name (as a string) and returns\n",
    "the attribute’s value."
   ]
  },
  {
   "cell_type": "markdown",
   "id": "665868e5",
   "metadata": {},
   "source": [
    "## 17.11 Interface and implementation"
   ]
  },
  {
   "cell_type": "markdown",
   "id": "243aa418",
   "metadata": {},
   "source": [
    "One of the goals of object-oriented design is to make software more maintainable, which\n",
    "means that you can keep the program working when other parts of the system change, and\n",
    "modify the program to meet new requirements.\n",
    "A design principle that helps achieve that goal is to keep interfaces separate from implementations.\n",
    "For objects, that means that the methods a class provides should not depend\n",
    "on how the attributes are represented.\n",
    "For example, in this chapter we developed a class that represents a time of day. Methods\n",
    "provided by this class include time_to_int, is_after, and add_time.\n",
    "We could implement those methods in several ways. The details of the implementation\n",
    "depend on how we represent time. In this chapter, the attributes of a Time object are hour,\n",
    "minute, and second.\n",
    "As an alternative, we could replace these attributes with a single integer representing the\n",
    "number of seconds since midnight. This implementation would make some methods, like\n",
    "is_after, easier to write, but it makes other methods harder.\n",
    "After you deploy a new class, you might discover a better implementation. If other parts\n",
    "of the program are using your class, it might be time-consuming and error-prone to change\n",
    "the interface.\n",
    "But if you designed the interface carefully, you can change the implementation without\n",
    "changing the interface, which means that other parts of the program don’t have to change."
   ]
  },
  {
   "cell_type": "code",
   "execution_count": null,
   "id": "6b034ca7",
   "metadata": {},
   "outputs": [],
   "source": []
  }
 ],
 "metadata": {
  "kernelspec": {
   "display_name": "Python 3 (ipykernel)",
   "language": "python",
   "name": "python3"
  },
  "language_info": {
   "codemirror_mode": {
    "name": "ipython",
    "version": 3
   },
   "file_extension": ".py",
   "mimetype": "text/x-python",
   "name": "python",
   "nbconvert_exporter": "python",
   "pygments_lexer": "ipython3",
   "version": "3.9.18"
  }
 },
 "nbformat": 4,
 "nbformat_minor": 5
}
