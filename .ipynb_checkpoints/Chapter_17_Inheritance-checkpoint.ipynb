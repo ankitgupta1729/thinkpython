{
 "cells": [
  {
   "cell_type": "markdown",
   "id": "8ad5592d",
   "metadata": {},
   "source": [
    "The language feature most often associated with object-oriented programming is inheritance.\n",
    "Inheritance is the ability to define a new class that is a modified version of an existing\n",
    "class. In this chapter I demonstrate inheritance using classes that represent playing\n",
    "cards, decks of cards, and poker hands."
   ]
  },
  {
   "cell_type": "markdown",
   "id": "f753e737",
   "metadata": {},
   "source": [
    "There are fifty-two cards in a deck, each of which belongs to one of four suits and one of\n",
    "thirteen ranks. The suits are Spades, Hearts, Diamonds, and Clubs (in descending order in\n",
    "bridge). The ranks are Ace, 2, 3, 4, 5, 6, 7, 8, 9, 10, Jack, Queen, and King. Depending on\n",
    "the game that you are playing, an Ace may be higher than King or lower than 2."
   ]
  },
  {
   "cell_type": "markdown",
   "id": "386b1b53",
   "metadata": {},
   "source": [
    "If we want to define a new object to represent a playing card, it is obvious what the attributes\n",
    "should be: rank and suit. It is not as obvious what type the attributes should be.\n",
    "One possibility is to use strings containing words like 'Spade' for suits and 'Queen' for\n",
    "ranks. One problem with this implementation is that it would not be easy to compare cards\n",
    "to see which had a higher rank or suit."
   ]
  },
  {
   "cell_type": "markdown",
   "id": "483210e2",
   "metadata": {},
   "source": [
    "An alternative is to use integers to encode the ranks and suits. In this context, “encode”\n",
    "means that we are going to define a mapping between numbers and suits, or between\n",
    "numbers and ranks. This kind of encoding is not meant to be a secret (that would be\n",
    "“encryption”).    \n",
    "    \n",
    "For example, this table shows the suits and the corresponding integer codes:   \n",
    "      \n",
    "Spades --> 3    \n",
    "  \n",
    "Hearts --> 2    \n",
    "  \n",
    "Diamonds --> 1    \n",
    "   \n",
    "Clubs --> 0"
   ]
  },
  {
   "cell_type": "markdown",
   "id": "ce49b09e",
   "metadata": {},
   "source": [
    "This code makes it easy to compare cards; because higher suits map to higher numbers, we\n",
    "can compare suits by comparing their codes."
   ]
  },
  {
   "cell_type": "markdown",
   "id": "df7db9fa",
   "metadata": {},
   "source": [
    "The mapping for ranks is fairly obvious; each of the numerical ranks maps to the corresponding\n",
    "integer, and for face cards:"
   ]
  },
  {
   "cell_type": "markdown",
   "id": "d2266a16",
   "metadata": {},
   "source": [
    "Jack --> 11   \n",
    "   \n",
    "Queen --> 12    \n",
    "   \n",
    "King --> 13"
   ]
  },
  {
   "cell_type": "code",
   "execution_count": 1,
   "id": "a4a09cca",
   "metadata": {},
   "outputs": [],
   "source": [
    "class Card:\n",
    "    \"\"\"Represents a standard playing card.\"\"\"\n",
    "    def __init__(self, suit=0, rank=2):\n",
    "        self.suit = suit\n",
    "        self.rank = rank"
   ]
  },
  {
   "cell_type": "code",
   "execution_count": 2,
   "id": "af800d46",
   "metadata": {},
   "outputs": [],
   "source": [
    "queen_of_diamonds = Card(1, 12)"
   ]
  },
  {
   "cell_type": "markdown",
   "id": "87b09cd6",
   "metadata": {},
   "source": [
    "## 18.2 Class attributes"
   ]
  },
  {
   "cell_type": "markdown",
   "id": "c53426fc",
   "metadata": {},
   "source": [
    "In order to print Card objects in a way that people can easily read, we need a mapping\n",
    "from the integer codes to the corresponding ranks and suits. A natural way to do that is\n",
    "with lists of strings. We assign these lists to class attributes:"
   ]
  },
  {
   "cell_type": "code",
   "execution_count": 3,
   "id": "62723a6e",
   "metadata": {},
   "outputs": [],
   "source": [
    "class Card:\n",
    "    \"\"\"Represents a standard playing card.\"\"\"\n",
    "    def __init__(self, suit=0, rank=2):\n",
    "        self.suit = suit\n",
    "        self.rank = rank\n",
    "    suit_names = ['Clubs', 'Diamonds', 'Hearts', 'Spades']\n",
    "    rank_names = [None, 'Ace', '2', '3', '4', '5', '6', '7','8', '9', '10', 'Jack', 'Queen', 'King']  \n",
    "    def __str__(self):\n",
    "        return '%s of %s' % (Card.rank_names[self.rank],Card.suit_names[self.suit])"
   ]
  },
  {
   "cell_type": "markdown",
   "id": "dae8ccc7",
   "metadata": {},
   "source": [
    "Variables like suit_names and rank_names, which are defined inside a class but outside\n",
    "of any method, are called class attributes because they are associated with the class object\n",
    "Card."
   ]
  },
  {
   "cell_type": "markdown",
   "id": "094f723e",
   "metadata": {},
   "source": [
    "This term distinguishes them from variables like suit and rank, which are called instance\n",
    "attributes because they are associated with a particular instance."
   ]
  },
  {
   "cell_type": "markdown",
   "id": "08de2aad",
   "metadata": {},
   "source": [
    "Both kinds of attribute are accessed using dot notation. For example, in __str__, self\n",
    "is a Card object, and self.rank is its rank. Similarly, Card is a class object, and\n",
    "Card.rank_names is a list of strings associated with the class."
   ]
  },
  {
   "cell_type": "markdown",
   "id": "ee57e013",
   "metadata": {},
   "source": [
    "Every card has its own suit and rank, but there is only one copy of suit_names and\n",
    "rank_names."
   ]
  },
  {
   "cell_type": "markdown",
   "id": "552ade38",
   "metadata": {},
   "source": [
    "The first element of rank_names is None because there is no card with rank zero. By including\n",
    "None as a place-keeper, we get a mapping with the nice property that the index 2 maps\n",
    "to the string '2', and so on. To avoid this tweak, we could have used a dictionary instead\n",
    "of a list."
   ]
  },
  {
   "cell_type": "code",
   "execution_count": 4,
   "id": "10cbc275",
   "metadata": {},
   "outputs": [
    {
     "name": "stdout",
     "output_type": "stream",
     "text": [
      "Jack of Hearts\n"
     ]
    }
   ],
   "source": [
    "card1 = Card(2, 11)\n",
    "print(card1)"
   ]
  },
  {
   "attachments": {
    "Capture.PNG": {
     "image/png": "[encoded data removed]"
    }
   },
   "cell_type": "markdown",
   "id": "cad5bc64",
   "metadata": {},
   "source": [
    "![Capture.PNG](attachment:Capture.PNG)"
   ]
  },
  {
   "cell_type": "markdown",
   "id": "a6d2b29a",
   "metadata": {},
   "source": [
    "## 18.3 Comparing cards"
   ]
  },
  {
   "cell_type": "markdown",
   "id": "951697e6",
   "metadata": {},
   "source": [
    "For built-in types, there are relational operators (<, >, ==, etc.) that compare values and determine\n",
    "when one is greater than, less than, or equal to another. For programmer-defined\n",
    "types, we can override the behavior of the built-in operators by providing a method named\n",
    "__lt__, which stands for “less than”.   \n",
    "     \n",
    "__lt__ takes two parameters, self and other, and returns True if self is strictly less than\n",
    "other."
   ]
  },
  {
   "cell_type": "markdown",
   "id": "853ce2d3",
   "metadata": {},
   "source": [
    "The correct ordering for cards is not obvious. For example, which is better, the 3 of Clubs\n",
    "or the 2 of Diamonds? One has a higher rank, but the other has a higher suit. In order to\n",
    "compare cards, you have to decide whether rank or suit is more important."
   ]
  },
  {
   "cell_type": "markdown",
   "id": "7b6e2e96",
   "metadata": {},
   "source": [
    "The answer might depend on what game you are playing, but to keep things simple, we’ll\n",
    "make the arbitrary choice that suit is more important, so all of the Spades outrank all of the\n",
    "Diamonds, and so on."
   ]
  },
  {
   "cell_type": "code",
   "execution_count": 5,
   "id": "ae193990",
   "metadata": {},
   "outputs": [],
   "source": [
    "class Card:\n",
    "    \"\"\"Represents a standard playing card.\"\"\"\n",
    "    def __init__(self, suit=0, rank=2):\n",
    "        self.suit = suit\n",
    "        self.rank = rank\n",
    "    suit_names = ['Clubs', 'Diamonds', 'Hearts', 'Spades']\n",
    "    rank_names = [None, 'Ace', '2', '3', '4', '5', '6', '7','8', '9', '10', 'Jack', 'Queen', 'King']  \n",
    "    def __str__(self):\n",
    "        return '%s of %s' % (Card.rank_names[self.rank],Card.suit_names[self.suit])\n",
    "    def __lt__(self, other):\n",
    "        t1 = self.suit, self.rank\n",
    "        t2 = other.suit, other.rank\n",
    "        return t1 < t2"
   ]
  },
  {
   "cell_type": "markdown",
   "id": "4cbd0f8d",
   "metadata": {},
   "source": [
    "## 18.4 Decks"
   ]
  },
  {
   "cell_type": "markdown",
   "id": "2d8f7388",
   "metadata": {},
   "source": [
    "Now that we have Cards, the next step is to define Decks. Since a deck is made up of cards,\n",
    "it is natural for each Deck to contain a list of cards as an attribute."
   ]
  },
  {
   "cell_type": "markdown",
   "id": "f9c498fd",
   "metadata": {},
   "source": [
    "The following is a class definition for Deck. The init method creates the attribute cards and\n",
    "generates the standard set of fifty-two cards:"
   ]
  },
  {
   "cell_type": "code",
   "execution_count": 6,
   "id": "afe5ae18",
   "metadata": {},
   "outputs": [],
   "source": [
    "class Deck:\n",
    "    def __init__(self):\n",
    "        self.cards = []\n",
    "        for suit in range(4):\n",
    "            for rank in range(1, 14):\n",
    "                card = Card(suit, rank)\n",
    "                self.cards.append(card)"
   ]
  },
  {
   "cell_type": "markdown",
   "id": "e00eebc4",
   "metadata": {},
   "source": [
    "## 18.5 Printing the deck"
   ]
  },
  {
   "cell_type": "code",
   "execution_count": 7,
   "id": "f5768c13",
   "metadata": {},
   "outputs": [],
   "source": [
    "class Deck:\n",
    "    def __init__(self):\n",
    "        self.cards = []\n",
    "        for suit in range(4):\n",
    "            for rank in range(1, 14):\n",
    "                card = Card(suit, rank)\n",
    "                self.cards.append(card)\n",
    "    def __str__(self):\n",
    "        res = []\n",
    "        for card in self.cards:\n",
    "            res.append(str(card))\n",
    "        return '\\n'.join(res)"
   ]
  },
  {
   "cell_type": "code",
   "execution_count": 8,
   "id": "943f2f65",
   "metadata": {},
   "outputs": [
    {
     "name": "stdout",
     "output_type": "stream",
     "text": [
      "Ace of Clubs\n",
      "2 of Clubs\n",
      "3 of Clubs\n",
      "4 of Clubs\n",
      "5 of Clubs\n",
      "6 of Clubs\n",
      "7 of Clubs\n",
      "8 of Clubs\n",
      "9 of Clubs\n",
      "10 of Clubs\n",
      "Jack of Clubs\n",
      "Queen of Clubs\n",
      "King of Clubs\n",
      "Ace of Diamonds\n",
      "2 of Diamonds\n",
      "3 of Diamonds\n",
      "4 of Diamonds\n",
      "5 of Diamonds\n",
      "6 of Diamonds\n",
      "7 of Diamonds\n",
      "8 of Diamonds\n",
      "9 of Diamonds\n",
      "10 of Diamonds\n",
      "Jack of Diamonds\n",
      "Queen of Diamonds\n",
      "King of Diamonds\n",
      "Ace of Hearts\n",
      "2 of Hearts\n",
      "3 of Hearts\n",
      "4 of Hearts\n",
      "5 of Hearts\n",
      "6 of Hearts\n",
      "7 of Hearts\n",
      "8 of Hearts\n",
      "9 of Hearts\n",
      "10 of Hearts\n",
      "Jack of Hearts\n",
      "Queen of Hearts\n",
      "King of Hearts\n",
      "Ace of Spades\n",
      "2 of Spades\n",
      "3 of Spades\n",
      "4 of Spades\n",
      "5 of Spades\n",
      "6 of Spades\n",
      "7 of Spades\n",
      "8 of Spades\n",
      "9 of Spades\n",
      "10 of Spades\n",
      "Jack of Spades\n",
      "Queen of Spades\n",
      "King of Spades\n"
     ]
    }
   ],
   "source": [
    "deck = Deck()\n",
    "print(deck)"
   ]
  },
  {
   "cell_type": "markdown",
   "id": "44efd6cb",
   "metadata": {},
   "source": [
    "Even though the result appears on 52 lines, it is one long string that contains newlines."
   ]
  },
  {
   "cell_type": "markdown",
   "id": "dc034db9",
   "metadata": {},
   "source": [
    "## 18.6 Add, remove, shuffle and sort"
   ]
  },
  {
   "cell_type": "markdown",
   "id": "7cc793d8",
   "metadata": {},
   "source": [
    "To deal cards, we would like a method that removes a card from the deck and returns it.\n",
    "The list method pop provides a convenient way to do that:"
   ]
  },
  {
   "cell_type": "markdown",
   "id": "5aba3016",
   "metadata": {},
   "source": [
    "Since pop removes the last card in the list, we are dealing from the bottom of the deck."
   ]
  },
  {
   "cell_type": "markdown",
   "id": "a3716eae",
   "metadata": {},
   "source": [
    "A method like this that uses another method without doing much work is sometimes called\n",
    "a veneer. The metaphor comes from woodworking, where a veneer is a thin layer of good\n",
    "quality wood glued to the surface of a cheaper piece of wood to improve the appearance.      \n",
    "    \n",
    "In this case add_card is a “thin” method that expresses a list operation in terms appropriate\n",
    "for decks. It improves the appearance, or interface, of the implementation.   \n",
    "   \n",
    "As another example, we can write a Deck method named shuffle using the function\n",
    "shuffle from the random module:"
   ]
  },
  {
   "cell_type": "code",
   "execution_count": 10,
   "id": "a6eadd7d",
   "metadata": {},
   "outputs": [],
   "source": [
    "import random\n",
    "class Deck:\n",
    "    def __init__(self):\n",
    "        self.cards = []\n",
    "        for suit in range(4):\n",
    "            for rank in range(1, 14):\n",
    "                card = Card(suit, rank)\n",
    "                self.cards.append(card)\n",
    "    def __str__(self):\n",
    "        res = []\n",
    "        for card in self.cards:\n",
    "            res.append(str(card))\n",
    "        return '\\n'.join(res)\n",
    "    def pop_card(self):\n",
    "        return self.cards.pop()\n",
    "    def add_card(self, card):\n",
    "        self.cards.append(card)\n",
    "    def shuffle(self):\n",
    "        random.shuffle(self.cards)"
   ]
  },
  {
   "cell_type": "markdown",
   "id": "e0f5ab62",
   "metadata": {},
   "source": [
    "## 18.7 Inheritance"
   ]
  },
  {
   "cell_type": "markdown",
   "id": "9bcd31bd",
   "metadata": {},
   "source": [
    "Inheritance is the ability to define a new class that is a modified version of an existing class.\n",
    "As an example, let’s say we want a class to represent a “hand”, that is, the cards held by\n",
    "one player. A hand is similar to a deck: both are made up of a collection of cards, and both\n",
    "require operations like adding and removing cards."
   ]
  },
  {
   "cell_type": "markdown",
   "id": "5757aa08",
   "metadata": {},
   "source": [
    "A hand is also different from a deck; there are operations we want for hands that don’t\n",
    "make sense for a deck. For example, in poker we might compare two hands to see which\n",
    "one wins. In bridge, we might compute a score for a hand in order to make a bid."
   ]
  },
  {
   "cell_type": "markdown",
   "id": "22486df5",
   "metadata": {},
   "source": [
    "This relationship between classes—similar, but different—lends itself to inheritance. To\n",
    "define a new class that inherits from an existing class, you put the name of the existing\n",
    "class in parentheses:"
   ]
  },
  {
   "cell_type": "code",
   "execution_count": 11,
   "id": "7e88e48e",
   "metadata": {},
   "outputs": [],
   "source": [
    "class Hand(Deck):\n",
    "    \"\"\"Represents a hand of playing cards.\"\"\""
   ]
  },
  {
   "cell_type": "markdown",
   "id": "a2ba4684",
   "metadata": {},
   "source": [
    "This definition indicates that Hand inherits from Deck; that means we can use methods like\n",
    "pop_card and add_card for Hands as well as Decks."
   ]
  },
  {
   "cell_type": "markdown",
   "id": "3fc3431d",
   "metadata": {},
   "source": [
    "When a new class inherits from an existing one, the existing one is called the parent and\n",
    "the new class is called the child."
   ]
  },
  {
   "cell_type": "markdown",
   "id": "deb2882b",
   "metadata": {},
   "source": [
    "In this example, Hand inherits __init__ from Deck, but it doesn’t really do what we want:\n",
    "instead of populating the hand with 52 new cards, the init method for Hands should initialize\n",
    "cards with an empty list.    \n",
    "    \n",
    "If we provide an init method in the Hand class, it overrides the one in the Deck class:"
   ]
  },
  {
   "cell_type": "code",
   "execution_count": 12,
   "id": "5a2ace57",
   "metadata": {},
   "outputs": [],
   "source": [
    "class Hand(Deck):\n",
    "    \"\"\"Represents a hand of playing cards.\"\"\"\n",
    "    def __init__(self, label=''):\n",
    "        self.cards = []\n",
    "        self.label = label"
   ]
  },
  {
   "cell_type": "markdown",
   "id": "e2f46818",
   "metadata": {},
   "source": [
    "When you create a Hand, Python invokes this init method, not the one in Deck."
   ]
  },
  {
   "cell_type": "code",
   "execution_count": 13,
   "id": "a86e7148",
   "metadata": {},
   "outputs": [
    {
     "data": {
      "text/plain": [
       "[]"
      ]
     },
     "execution_count": 13,
     "metadata": {},
     "output_type": "execute_result"
    }
   ],
   "source": [
    "hand = Hand('new hand')\n",
    "hand.cards"
   ]
  },
  {
   "cell_type": "code",
   "execution_count": 14,
   "id": "f007c243",
   "metadata": {},
   "outputs": [
    {
     "data": {
      "text/plain": [
       "'new hand'"
      ]
     },
     "execution_count": 14,
     "metadata": {},
     "output_type": "execute_result"
    }
   ],
   "source": [
    "hand.label"
   ]
  },
  {
   "cell_type": "markdown",
   "id": "48e13470",
   "metadata": {},
   "source": [
    "The other methods are inherited from Deck, so we can use pop_card and add_card to deal\n",
    "a card:"
   ]
  },
  {
   "cell_type": "code",
   "execution_count": 15,
   "id": "385d3bc0",
   "metadata": {},
   "outputs": [
    {
     "name": "stdout",
     "output_type": "stream",
     "text": [
      "King of Spades\n"
     ]
    }
   ],
   "source": [
    "deck = Deck()\n",
    "card = deck.pop_card()\n",
    "hand.add_card(card)\n",
    "print(hand)"
   ]
  },
  {
   "cell_type": "markdown",
   "id": "e46f4d88",
   "metadata": {},
   "source": [
    "A natural next step is to encapsulate this code in a method called move_cards:"
   ]
  },
  {
   "cell_type": "code",
   "execution_count": 16,
   "id": "d676e1a2",
   "metadata": {},
   "outputs": [],
   "source": [
    "import random\n",
    "class Deck:\n",
    "    def __init__(self):\n",
    "        self.cards = []\n",
    "        for suit in range(4):\n",
    "            for rank in range(1, 14):\n",
    "                card = Card(suit, rank)\n",
    "                self.cards.append(card)\n",
    "    def __str__(self):\n",
    "        res = []\n",
    "        for card in self.cards:\n",
    "            res.append(str(card))\n",
    "        return '\\n'.join(res)\n",
    "    def pop_card(self):\n",
    "        return self.cards.pop()\n",
    "    def add_card(self, card):\n",
    "        self.cards.append(card)\n",
    "    def shuffle(self):\n",
    "        random.shuffle(self.cards)\n",
    "    def move_cards(self, hand, num):\n",
    "        for i in range(num):\n",
    "            hand.add_card(self.pop_card())"
   ]
  },
  {
   "cell_type": "markdown",
   "id": "517e02ca",
   "metadata": {},
   "source": [
    "move_cards takes two arguments, a Hand object and the number of cards to deal. It modifies\n",
    "both self and hand, and returns None."
   ]
  },
  {
   "cell_type": "markdown",
   "id": "4e51b4bb",
   "metadata": {},
   "source": [
    "In some games, cards are moved from one hand to another, or from a hand back to the\n",
    "deck. You can use move_cards for any of these operations: self can be either a Deck or a\n",
    "Hand, and hand, despite the name, can also be a Deck"
   ]
  },
  {
   "cell_type": "markdown",
   "id": "e5066c0e",
   "metadata": {},
   "source": [
    "Inheritance is a useful feature. Some programs that would be repetitive without inheritance\n",
    "can be written more elegantly with it. Inheritance can facilitate code reuse, since you can\n",
    "customize the behavior of parent classes without having to modify them. In some cases,\n",
    "the inheritance structure reflects the natural structure of the problem, which makes the\n",
    "design easier to understand.   \n",
    "    \n",
    "On the other hand, inheritance can make programs difficult to read. When a method is\n",
    "invoked, it is sometimes not clear where to find its definition. The relevant code may be\n",
    "spread across several modules. Also, many of the things that can be done using inheritance\n",
    "can be done as well or better without it."
   ]
  },
  {
   "cell_type": "markdown",
   "id": "a05e49d0",
   "metadata": {},
   "source": [
    "## 18.8 Class diagrams"
   ]
  },
  {
   "cell_type": "markdown",
   "id": "b142f7f9",
   "metadata": {},
   "source": [
    "A class diagram is a more\n",
    "abstract representation of the structure of a program. Instead of showing individual objects,\n",
    "it shows classes and the relationships between them."
   ]
  },
  {
   "cell_type": "markdown",
   "id": "b75772b1",
   "metadata": {},
   "source": [
    "There are several kinds of relationship between classes:    \n",
    "        \n",
    "• Objects in one class might contain references to objects in another class. For example,\n",
    "each Rectangle contains a reference to a Point, and each Deck contains references to\n",
    "many Cards. This kind of relationship is called HAS-A, as in, “a Rectangle has a\n",
    "Point.”    \n",
    "   \n",
    "• One class might inherit from another. This relationship is called IS-A, as in, “a Hand\n",
    "is a kind of a Deck.”    \n",
    "   \n",
    "• One class might depend on another in the sense that objects in one class take objects\n",
    "in the second class as parameters, or use objects in the second class as part of a\n",
    "computation. This kind of relationship is called a dependency."
   ]
  },
  {
   "cell_type": "markdown",
   "id": "b4d58c18",
   "metadata": {},
   "source": [
    "A class diagram is a graphical representation of these relationships. For example, Figure\n",
    "18.2 shows the relationships between Card, Deck and Hand."
   ]
  },
  {
   "attachments": {
    "Capture.PNG": {
     "image/png": "[encoded data removed]"
    }
   },
   "cell_type": "markdown",
   "id": "d01fa725",
   "metadata": {},
   "source": [
    "![Capture.PNG](attachment:Capture.PNG)"
   ]
  },
  {
   "cell_type": "markdown",
   "id": "7798e1ae",
   "metadata": {},
   "source": [
    "The arrow with a hollow triangle head represents an IS-A relationship; in this case it indicates\n",
    "that Hand inherits from Deck.   \n",
    "     \n",
    "The standard arrow head represents a HAS-A relationship; in this case a Deck has references\n",
    "to Card objects."
   ]
  },
  {
   "cell_type": "markdown",
   "id": "c78bbbb9",
   "metadata": {},
   "source": [
    "The star (*) near the arrow head is a multiplicity; it indicates how many Cards a Deck has.\n",
    "A multiplicity can be a simple number, like 52, a range, like 5..7 or a star, which indicates\n",
    "that a Deck can have any number of Cards."
   ]
  },
  {
   "cell_type": "markdown",
   "id": "b56928a1",
   "metadata": {},
   "source": [
    "There are no dependencies in this diagram. They would normally be shown with a dashed\n",
    "arrow. Or if there are a lot of dependencies, they are sometimes omitted.    \n",
    "       \n",
    "         \n",
    "A more detailed diagram might show that a Deck actually contains a list of Cards, but\n",
    "built-in types like list and dict are usually not included in class diagrams."
   ]
  },
  {
   "cell_type": "markdown",
   "id": "1767e959",
   "metadata": {},
   "source": [
    "## 18.10 Data encapsulation"
   ]
  },
  {
   "cell_type": "markdown",
   "id": "de3eadf7",
   "metadata": {},
   "source": [
    "The previous chapters demonstrate a development plan we might call “object-oriented\n",
    "design”. We identified objects we needed—like Point, Rectangle and Time—and defined\n",
    "classes to represent them. In each case there is an obvious correspondence between the\n",
    "object and some entity in the real world (or at least a mathematical world).   \n",
    "       \n",
    "     \n",
    "But sometimes it is less obvious what objects you need and how they should interact. In\n",
    "that case you need a different development plan. In the same way that we discovered\n",
    "function interfaces by encapsulation and generalization, we can discover class interfaces\n",
    "by data encapsulation."
   ]
  },
  {
   "cell_type": "code",
   "execution_count": 3,
   "id": "9b13a756",
   "metadata": {},
   "outputs": [
    {
     "ename": "FileNotFoundError",
     "evalue": "[Errno 2] No such file or directory: '-f'",
     "output_type": "error",
     "traceback": [
      "\u001b[1;31m---------------------------------------------------------------------------\u001b[0m",
      "\u001b[1;31mFileNotFoundError\u001b[0m                         Traceback (most recent call last)",
      "\u001b[1;32m<ipython-input-3-d3f32f8b891a>\u001b[0m in \u001b[0;36m<module>\u001b[1;34m\u001b[0m\n\u001b[0;32m    120\u001b[0m \u001b[1;33m\u001b[0m\u001b[0m\n\u001b[0;32m    121\u001b[0m \u001b[1;32mif\u001b[0m \u001b[0m__name__\u001b[0m \u001b[1;33m==\u001b[0m \u001b[1;34m'__main__'\u001b[0m\u001b[1;33m:\u001b[0m\u001b[1;33m\u001b[0m\u001b[1;33m\u001b[0m\u001b[0m\n\u001b[1;32m--> 122\u001b[1;33m     \u001b[0mmain\u001b[0m\u001b[1;33m(\u001b[0m\u001b[1;33m*\u001b[0m\u001b[0msys\u001b[0m\u001b[1;33m.\u001b[0m\u001b[0margv\u001b[0m\u001b[1;33m)\u001b[0m\u001b[1;33m\u001b[0m\u001b[1;33m\u001b[0m\u001b[0m\n\u001b[0m",
      "\u001b[1;32m<ipython-input-3-d3f32f8b891a>\u001b[0m in \u001b[0;36mmain\u001b[1;34m(script, filename, n, order)\u001b[0m\n\u001b[0;32m    115\u001b[0m         \u001b[0mprint\u001b[0m\u001b[1;33m(\u001b[0m\u001b[1;34m'Usage: %d filename [# of words] [prefix length]'\u001b[0m \u001b[1;33m%\u001b[0m \u001b[0mscript\u001b[0m\u001b[1;33m)\u001b[0m\u001b[1;33m\u001b[0m\u001b[1;33m\u001b[0m\u001b[0m\n\u001b[0;32m    116\u001b[0m     \u001b[1;32melse\u001b[0m\u001b[1;33m:\u001b[0m\u001b[1;33m\u001b[0m\u001b[1;33m\u001b[0m\u001b[0m\n\u001b[1;32m--> 117\u001b[1;33m         \u001b[0mprocess_file\u001b[0m\u001b[1;33m(\u001b[0m\u001b[0mfilename\u001b[0m\u001b[1;33m,\u001b[0m \u001b[0morder\u001b[0m\u001b[1;33m)\u001b[0m\u001b[1;33m\u001b[0m\u001b[1;33m\u001b[0m\u001b[0m\n\u001b[0m\u001b[0;32m    118\u001b[0m         \u001b[0mrandom_text\u001b[0m\u001b[1;33m(\u001b[0m\u001b[0mn\u001b[0m\u001b[1;33m)\u001b[0m\u001b[1;33m\u001b[0m\u001b[1;33m\u001b[0m\u001b[0m\n\u001b[0;32m    119\u001b[0m         \u001b[0mprint\u001b[0m\u001b[1;33m(\u001b[0m\u001b[1;33m)\u001b[0m\u001b[1;33m\u001b[0m\u001b[1;33m\u001b[0m\u001b[0m\n",
      "\u001b[1;32m<ipython-input-3-d3f32f8b891a>\u001b[0m in \u001b[0;36mprocess_file\u001b[1;34m(filename, order)\u001b[0m\n\u001b[0;32m     29\u001b[0m     \u001b[0mreturns\u001b[0m\u001b[1;33m:\u001b[0m \u001b[0mmap\u001b[0m \u001b[1;32mfrom\u001b[0m \u001b[0mprefix\u001b[0m \u001b[0mto\u001b[0m \u001b[0mlist\u001b[0m \u001b[0mof\u001b[0m \u001b[0mpossible\u001b[0m \u001b[0msuffixes\u001b[0m\u001b[1;33m.\u001b[0m\u001b[1;33m\u001b[0m\u001b[1;33m\u001b[0m\u001b[0m\n\u001b[0;32m     30\u001b[0m     \"\"\"\n\u001b[1;32m---> 31\u001b[1;33m     \u001b[0mfp\u001b[0m \u001b[1;33m=\u001b[0m \u001b[0mopen\u001b[0m\u001b[1;33m(\u001b[0m\u001b[0mfilename\u001b[0m\u001b[1;33m)\u001b[0m\u001b[1;33m\u001b[0m\u001b[1;33m\u001b[0m\u001b[0m\n\u001b[0m\u001b[0;32m     32\u001b[0m     \u001b[0mskip_gutenberg_header\u001b[0m\u001b[1;33m(\u001b[0m\u001b[0mfp\u001b[0m\u001b[1;33m)\u001b[0m\u001b[1;33m\u001b[0m\u001b[1;33m\u001b[0m\u001b[0m\n\u001b[0;32m     33\u001b[0m \u001b[1;33m\u001b[0m\u001b[0m\n",
      "\u001b[1;31mFileNotFoundError\u001b[0m: [Errno 2] No such file or directory: '-f'"
     ]
    }
   ],
   "source": [
    "\"\"\"This module contains a code example related to\n",
    "\n",
    "Think Python, 2nd Edition\n",
    "by Allen Downey\n",
    "http://thinkpython2.com\n",
    "\n",
    "Copyright 2015 Allen Downey\n",
    "\n",
    "License: http://creativecommons.org/licenses/by/4.0/\n",
    "\"\"\"\n",
    "\n",
    "from __future__ import print_function, division\n",
    "\n",
    "import sys\n",
    "import string\n",
    "import random\n",
    "\n",
    "# global variables\n",
    "suffix_map = {}        # map from prefixes to a list of suffixes\n",
    "prefix = ()            # current tuple of words\n",
    "\n",
    "\n",
    "def process_file(filename, order=2):\n",
    "    \"\"\"Reads a file and performs Markov analysis.\n",
    "\n",
    "    filename: string\n",
    "    order: integer number of words in the prefix\n",
    "\n",
    "    returns: map from prefix to list of possible suffixes.\n",
    "    \"\"\"\n",
    "    fp = open(filename)\n",
    "    skip_gutenberg_header(fp)\n",
    "\n",
    "    for line in fp:\n",
    "        if line.startswith('*** END OF THIS'): \n",
    "            break\n",
    "\n",
    "        for word in line.rstrip().split():\n",
    "            process_word(word, order)\n",
    "\n",
    "\n",
    "def skip_gutenberg_header(fp):\n",
    "    \"\"\"Reads from fp until it finds the line that ends the header.\n",
    "\n",
    "    fp: open file object\n",
    "    \"\"\"\n",
    "    for line in fp:\n",
    "        if line.startswith('*** START OF THIS'):\n",
    "            break\n",
    "\n",
    "\n",
    "def process_word(word, order=2):\n",
    "    \"\"\"Processes each word.\n",
    "\n",
    "    word: string\n",
    "    order: integer\n",
    "\n",
    "    During the first few iterations, all we do is store up the words; \n",
    "    after that we start adding entries to the dictionary.\n",
    "    \"\"\"\n",
    "    global prefix\n",
    "    if len(prefix) < order:\n",
    "        prefix += (word,)\n",
    "        return\n",
    "\n",
    "    try:\n",
    "        suffix_map[prefix].append(word)\n",
    "    except KeyError:\n",
    "        # if there is no entry for this prefix, make one\n",
    "        suffix_map[prefix] = [word]\n",
    "\n",
    "    prefix = shift(prefix, word)\n",
    "\n",
    "\n",
    "def random_text(n=100):\n",
    "    \"\"\"Generates random wordsfrom the analyzed text.\n",
    "\n",
    "    Starts with a random prefix from the dictionary.\n",
    "\n",
    "    n: number of words to generate\n",
    "    \"\"\"\n",
    "    # choose a random prefix (not weighted by frequency)\n",
    "    start = random.choice(list(suffix_map.keys()))\n",
    "    \n",
    "    for i in range(n):\n",
    "        suffixes = suffix_map.get(start, None)\n",
    "        if suffixes == None:\n",
    "            # if the start isn't in map, we got to the end of the\n",
    "            # original text, so we have to start again.\n",
    "            random_text(n-i)\n",
    "            return\n",
    "\n",
    "        # choose a random suffix\n",
    "        word = random.choice(suffixes)\n",
    "        print(word, end=' ')\n",
    "        start = shift(start, word)\n",
    "\n",
    "\n",
    "def shift(t, word):\n",
    "    \"\"\"Forms a new tuple by removing the head and adding word to the tail.\n",
    "\n",
    "    t: tuple of strings\n",
    "    word: string\n",
    "\n",
    "    Returns: tuple of strings\n",
    "    \"\"\"\n",
    "    return t[1:] + (word,)\n",
    "\n",
    "\n",
    "def main(script, filename='158-0.txt', n=100, order=2):\n",
    "    try:\n",
    "        #n = int(n)\n",
    "        order = int(order)\n",
    "    except ValueError:\n",
    "        print('Usage: %d filename [# of words] [prefix length]' % script)\n",
    "    else: \n",
    "        process_file(filename, order)\n",
    "        random_text(n)\n",
    "        print()\n",
    "\n",
    "if __name__ == '__main__':\n",
    "    main(*sys.argv)"
   ]
  },
  {
   "cell_type": "markdown",
   "id": "28077a45",
   "metadata": {},
   "source": [
    "you’ll see that it uses two global\n",
    "variables—suffix_map and prefix—that are read and written from several functions.  \n",
    "    \n",
    "     \n",
    "suffix_map = {}     \n",
    "   \n",
    "prefix = ()\n",
    "      \n",
    "    \n",
    "Because these variables are global, we can only run one analysis at a time. If we read two\n",
    "texts, their prefixes and suffixes would be added to the same data structures (which makes\n",
    "for some interesting generated text).        "
   ]
  },
  {
   "cell_type": "markdown",
   "id": "f8e05483",
   "metadata": {},
   "source": [
    "To run multiple analyses, and keep them separate, we can encapsulate the state of each\n",
    "analysis in an object. Here’s what that looks like:"
   ]
  },
  {
   "cell_type": "code",
   "execution_count": 8,
   "id": "a55e1207",
   "metadata": {},
   "outputs": [],
   "source": [
    "class Markov:\n",
    "    def __init__(self):\n",
    "        self.suffix_map = {}\n",
    "        self.prefix = ()\n",
    "    def process_word(self, word, order=2):\n",
    "        if len(self.prefix) < order:\n",
    "            self.prefix += (word,)\n",
    "            return    \n",
    "        try:\n",
    "            self.suffix_map[self.prefix].append(word)\n",
    "        except KeyError:\n",
    "            # if there is no entry for this prefix, make one\n",
    "            self.suffix_map[self.prefix] = [word]\n",
    "        self.prefix = shift(self.prefix, word)"
   ]
  },
  {
   "cell_type": "markdown",
   "id": "0bfd34db",
   "metadata": {},
   "source": [
    "Next, we transform the functions into methods. For example, here’s process_word:"
   ]
  },
  {
   "cell_type": "markdown",
   "id": "86f20b43",
   "metadata": {},
   "source": [
    "Transforming a program like this—changing the design without changing the behavior—is\n",
    "another example of refactoring"
   ]
  },
  {
   "cell_type": "markdown",
   "id": "c5043c74",
   "metadata": {},
   "source": [
    "This example suggests a development plan for designing objects and methods:   \n",
    "      \n",
    "1. Start by writing functions that read and write global variables (when necessary).   \n",
    "   \n",
    "2. Once you get the program working, look for associations between global variables\n",
    "and the functions that use them.   \n",
    "   \n",
    "3. Encapsulate related variables as attributes of an object.   \n",
    "   \n",
    "4. Transform the associated functions into methods of the new class."
   ]
  },
  {
   "cell_type": "markdown",
   "id": "38aefeab",
   "metadata": {},
   "source": [
    "As an exercise, download my Markov code from https://thinkpython.com/code/\n",
    "markov.py, and follow the steps described above to encapsulate the global variables\n",
    "as attributes of a new class called Markov. Solution: https://thinkpython.com/code/\n",
    "markov2.py."
   ]
  },
  {
   "cell_type": "code",
   "execution_count": 9,
   "id": "6ef7c0d8",
   "metadata": {},
   "outputs": [
    {
     "ename": "ModuleNotFoundError",
     "evalue": "No module named 'markov'",
     "output_type": "error",
     "traceback": [
      "\u001b[1;31m---------------------------------------------------------------------------\u001b[0m",
      "\u001b[1;31mModuleNotFoundError\u001b[0m                       Traceback (most recent call last)",
      "\u001b[1;32m<ipython-input-9-4eee6bbf3b82>\u001b[0m in \u001b[0;36m<module>\u001b[1;34m\u001b[0m\n\u001b[0;32m     16\u001b[0m \u001b[1;32mimport\u001b[0m \u001b[0mrandom\u001b[0m\u001b[1;33m\u001b[0m\u001b[1;33m\u001b[0m\u001b[0m\n\u001b[0;32m     17\u001b[0m \u001b[1;33m\u001b[0m\u001b[0m\n\u001b[1;32m---> 18\u001b[1;33m \u001b[1;32mfrom\u001b[0m \u001b[0mmarkov\u001b[0m \u001b[1;32mimport\u001b[0m \u001b[0mskip_gutenberg_header\u001b[0m\u001b[1;33m,\u001b[0m \u001b[0mshift\u001b[0m\u001b[1;33m\u001b[0m\u001b[1;33m\u001b[0m\u001b[0m\n\u001b[0m\u001b[0;32m     19\u001b[0m \u001b[1;33m\u001b[0m\u001b[0m\n\u001b[0;32m     20\u001b[0m \u001b[1;33m\u001b[0m\u001b[0m\n",
      "\u001b[1;31mModuleNotFoundError\u001b[0m: No module named 'markov'"
     ]
    }
   ],
   "source": [
    "\"\"\"This module contains a code example related to\n",
    "\n",
    "Think Python, 2nd Edition\n",
    "by Allen Downey\n",
    "http://thinkpython2.com\n",
    "\n",
    "Copyright 2015 Allen Downey\n",
    "\n",
    "License: http://creativecommons.org/licenses/by/4.0/\n",
    "\"\"\"\n",
    "\n",
    "from __future__ import print_function, division\n",
    "\n",
    "\n",
    "import sys\n",
    "import random\n",
    "\n",
    "from markov import skip_gutenberg_header, shift\n",
    "\n",
    "\n",
    "class Markov:\n",
    "    \"\"\"Encapsulates the statistical summary of a text.\"\"\"\n",
    "\n",
    "    def __init__(self):\n",
    "        self.suffix_map = {}        # map from prefixes to a list of suffixes\n",
    "        self.prefix = ()            # current tuple of words\n",
    "\n",
    "    def process_file(self, filename, order=2):\n",
    "        \"\"\"Reads a file and performs Markov analysis.\n",
    "\n",
    "        filename: string\n",
    "        order: integer number of words in the prefix\n",
    "\n",
    "        Returns: map from prefix to list of possible suffixes.\n",
    "        \"\"\"\n",
    "        fp = open(filename)\n",
    "        skip_gutenberg_header(fp)\n",
    "\n",
    "        for line in fp:\n",
    "            if line.startswith('*** END OF THIS'): \n",
    "                break\n",
    "\n",
    "            for word in line.rstrip().split():\n",
    "                self.process_word(word, order)\n",
    "\n",
    "    def process_word(self, word, order=2):\n",
    "        \"\"\"Processes each word.\n",
    "\n",
    "        word: string\n",
    "        order: integer\n",
    "\n",
    "        During the first few iterations, all we do is store up the words; \n",
    "        after that we start adding entries to the dictionary.\n",
    "        \"\"\"\n",
    "        if len(self.prefix) < order:\n",
    "            self.prefix += (word,)\n",
    "            return\n",
    "\n",
    "        try:\n",
    "            self.suffix_map[self.prefix].append(word)\n",
    "        except KeyError:\n",
    "            # if there is no entry for this prefix, make one\n",
    "            self.suffix_map[self.prefix] = [word]\n",
    "\n",
    "        self.prefix = shift(self.prefix, word)        \n",
    "\n",
    "    def random_text(self, n=100):\n",
    "        \"\"\"Generates random wordsfrom the analyzed text.\n",
    "\n",
    "        Starts with a random prefix from the dictionary.\n",
    "\n",
    "        n: number of words to generate\n",
    "        \"\"\"\n",
    "        # choose a random prefix (not weighted by frequency)\n",
    "        start = random.choice(list(self.suffix_map.keys()))\n",
    "\n",
    "        for i in range(n):\n",
    "            suffixes = self.suffix_map.get(start, None)\n",
    "            if suffixes == None:\n",
    "                # if the prefix isn't in map, we got to the end of the\n",
    "                # original text, so we have to start again.\n",
    "                self.random_text(n-i)\n",
    "                return\n",
    "\n",
    "            # choose a random suffix\n",
    "            word = random.choice(suffixes)\n",
    "            print(word, end=' ')\n",
    "            start = shift(start, word)\n",
    "\n",
    "\n",
    "def main(script, filename='158-0.txt', n=100, order=2):\n",
    "    try:\n",
    "        n = int(n)\n",
    "        order = int(order)\n",
    "    except ValueError:\n",
    "        print('Usage: %d filename [# of words] [prefix length]' % script)\n",
    "    else: \n",
    "        markov = Markov()\n",
    "        markov.process_file(filename, order)\n",
    "        markov.random_text(n)\n",
    "\n",
    "\n",
    "if __name__ == '__main__':\n",
    "    main(*sys.argv)"
   ]
  },
  {
   "cell_type": "code",
   "execution_count": 11,
   "id": "369f0687",
   "metadata": {},
   "outputs": [],
   "source": [
    "x=-3\n",
    "if x > 0:\n",
    "    y = math.log(x)\n",
    "else:\n",
    "    y = float('nan')"
   ]
  },
  {
   "cell_type": "code",
   "execution_count": 12,
   "id": "e0076c07",
   "metadata": {},
   "outputs": [
    {
     "data": {
      "text/plain": [
       "nan"
      ]
     },
     "execution_count": 12,
     "metadata": {},
     "output_type": "execute_result"
    }
   ],
   "source": [
    "y"
   ]
  },
  {
   "cell_type": "code",
   "execution_count": 13,
   "id": "51863ed6",
   "metadata": {},
   "outputs": [],
   "source": [
    "y = math.log(x) if x > 0 else float('nan')"
   ]
  },
  {
   "cell_type": "markdown",
   "id": "a0f9b760",
   "metadata": {},
   "source": [
    "List comprehensions are concise and easy to read, at least for simple expressions. And they\n",
    "are usually faster than the equivalent for loops, sometimes much faster. So if you are mad\n",
    "at me for not mentioning them earlier, I understand."
   ]
  },
  {
   "cell_type": "markdown",
   "id": "ff8a6cb1",
   "metadata": {},
   "source": [
    "But, in my defense, list comprehensions are harder to debug because you can’t put a print\n",
    "statement inside the loop. I suggest that you use them only if the computation is simple\n",
    "enough that you are likely to get it right the first time. And for beginners that means never."
   ]
  },
  {
   "cell_type": "markdown",
   "id": "08b0e8fe",
   "metadata": {},
   "source": [
    "Generator expressions are similar to list comprehensions, but with parentheses instead of\n",
    "square brackets:"
   ]
  },
  {
   "cell_type": "code",
   "execution_count": 14,
   "id": "2bc351d6",
   "metadata": {},
   "outputs": [
    {
     "data": {
      "text/plain": [
       "<generator object <genexpr> at 0x0000013E6D533AF0>"
      ]
     },
     "execution_count": 14,
     "metadata": {},
     "output_type": "execute_result"
    }
   ],
   "source": [
    "g = (x**2 for x in range(5))\n",
    "g"
   ]
  },
  {
   "cell_type": "markdown",
   "id": "959bcce7",
   "metadata": {},
   "source": [
    "The result is a generator object that knows how to iterate through a sequence of values. But\n",
    "unlike a list comprehension, it does not compute the values all at once; it waits to be asked.\n",
    "The built-in function next gets the next value from the generator:"
   ]
  },
  {
   "cell_type": "code",
   "execution_count": 15,
   "id": "136d72ef",
   "metadata": {},
   "outputs": [
    {
     "data": {
      "text/plain": [
       "0"
      ]
     },
     "execution_count": 15,
     "metadata": {},
     "output_type": "execute_result"
    }
   ],
   "source": [
    "next(g)"
   ]
  },
  {
   "cell_type": "code",
   "execution_count": 16,
   "id": "94ba3e1e",
   "metadata": {},
   "outputs": [
    {
     "data": {
      "text/plain": [
       "1"
      ]
     },
     "execution_count": 16,
     "metadata": {},
     "output_type": "execute_result"
    }
   ],
   "source": [
    "next(g)"
   ]
  },
  {
   "cell_type": "markdown",
   "id": "8aeb6fd9",
   "metadata": {},
   "source": [
    "When you get to the end of the sequence, next raises a StopIteration exception. You can\n",
    "also use a for loop to iterate through the values:"
   ]
  },
  {
   "cell_type": "code",
   "execution_count": 17,
   "id": "2886b8c9",
   "metadata": {},
   "outputs": [
    {
     "name": "stdout",
     "output_type": "stream",
     "text": [
      "4\n",
      "9\n",
      "16\n"
     ]
    }
   ],
   "source": [
    "for val in g:\n",
    "    print(val)"
   ]
  },
  {
   "cell_type": "markdown",
   "id": "3ce22bb8",
   "metadata": {},
   "source": [
    "The generator object keeps track of where it is in the sequence, so the for loop picks up\n",
    "where next left off. Once the generator is exhausted, it continues to raise StopIteration:"
   ]
  },
  {
   "cell_type": "code",
   "execution_count": 18,
   "id": "2383b51a",
   "metadata": {},
   "outputs": [
    {
     "ename": "StopIteration",
     "evalue": "",
     "output_type": "error",
     "traceback": [
      "\u001b[1;31m---------------------------------------------------------------------------\u001b[0m",
      "\u001b[1;31mStopIteration\u001b[0m                             Traceback (most recent call last)",
      "\u001b[1;32m<ipython-input-18-e734f8aca5ac>\u001b[0m in \u001b[0;36m<module>\u001b[1;34m\u001b[0m\n\u001b[1;32m----> 1\u001b[1;33m \u001b[0mnext\u001b[0m\u001b[1;33m(\u001b[0m\u001b[0mg\u001b[0m\u001b[1;33m)\u001b[0m\u001b[1;33m\u001b[0m\u001b[1;33m\u001b[0m\u001b[0m\n\u001b[0m",
      "\u001b[1;31mStopIteration\u001b[0m: "
     ]
    }
   ],
   "source": [
    "next(g)"
   ]
  },
  {
   "cell_type": "code",
   "execution_count": 19,
   "id": "45c2acc0",
   "metadata": {},
   "outputs": [
    {
     "data": {
      "text/plain": [
       "30"
      ]
     },
     "execution_count": 19,
     "metadata": {},
     "output_type": "execute_result"
    }
   ],
   "source": [
    "#Generator expressions are often used with functions like sum, max, and min:\n",
    "sum(x**2 for x in range(5))"
   ]
  },
  {
   "cell_type": "code",
   "execution_count": 20,
   "id": "f6008573",
   "metadata": {},
   "outputs": [
    {
     "data": {
      "text/plain": [
       "True"
      ]
     },
     "execution_count": 20,
     "metadata": {},
     "output_type": "execute_result"
    }
   ],
   "source": [
    "any([False, False, True])"
   ]
  },
  {
   "cell_type": "markdown",
   "id": "827a5fac",
   "metadata": {},
   "source": [
    "But it is often used with generator expressions:"
   ]
  },
  {
   "cell_type": "code",
   "execution_count": 21,
   "id": "ae04d3fd",
   "metadata": {},
   "outputs": [
    {
     "data": {
      "text/plain": [
       "True"
      ]
     },
     "execution_count": 21,
     "metadata": {},
     "output_type": "execute_result"
    }
   ],
   "source": [
    "any(letter == 't' for letter in 'monty')"
   ]
  },
  {
   "cell_type": "code",
   "execution_count": 22,
   "id": "305b98dc",
   "metadata": {},
   "outputs": [],
   "source": [
    "def avoids(word, forbidden):\n",
    "    return not any(letter in forbidden for letter in word)"
   ]
  },
  {
   "cell_type": "markdown",
   "id": "e5ab85c8",
   "metadata": {},
   "source": [
    "The function almost reads like English, “word avoids forbidden if there are not any forbidden\n",
    "letters in word.”"
   ]
  },
  {
   "cell_type": "markdown",
   "id": "7435f9c1",
   "metadata": {},
   "source": [
    "Using any with a generator expression is efficient because it stops immediately if it finds a\n",
    "True value, so it doesn’t have to evaluate the whole sequence."
   ]
  },
  {
   "cell_type": "markdown",
   "id": "86a01db2",
   "metadata": {},
   "source": [
    "Adding elements to a set is fast; so is checking membership."
   ]
  },
  {
   "cell_type": "markdown",
   "id": "2d005ac3",
   "metadata": {},
   "source": [
    "A Counter is like a set, except that if an element appears more than once, the Counter\n",
    "keeps track of how many times it appears. If you are familiar with the mathematical idea\n",
    "of a multiset, a Counter is a natural way to represent a multiset."
   ]
  },
  {
   "cell_type": "markdown",
   "id": "6d78c9f7",
   "metadata": {},
   "source": [
    "Counter is defined in a standard module called collections, so you have to import it. You\n",
    "can initialize a Counter with a string, list, or anything else that supports iteration:"
   ]
  },
  {
   "cell_type": "code",
   "execution_count": 23,
   "id": "7c669271",
   "metadata": {},
   "outputs": [
    {
     "data": {
      "text/plain": [
       "Counter({'p': 1, 'a': 1, 'r': 2, 'o': 1, 't': 1})"
      ]
     },
     "execution_count": 23,
     "metadata": {},
     "output_type": "execute_result"
    }
   ],
   "source": [
    "from collections import Counter\n",
    "count = Counter('parrot')\n",
    "count"
   ]
  },
  {
   "cell_type": "markdown",
   "id": "b9251e84",
   "metadata": {},
   "source": [
    "Counters behave like dictionaries in many ways; they map from each key to the number of\n",
    "times it appears. As in dictionaries, the keys have to be hashable.    \n",
    "    \n",
    "Unlike dictionaries, Counters don’t raise an exception if you access an element that doesn’t\n",
    "appear. Instead, they return 0:"
   ]
  },
  {
   "cell_type": "code",
   "execution_count": 24,
   "id": "db8be1fb",
   "metadata": {},
   "outputs": [
    {
     "data": {
      "text/plain": [
       "0"
      ]
     },
     "execution_count": 24,
     "metadata": {},
     "output_type": "execute_result"
    }
   ],
   "source": [
    "count['d']"
   ]
  },
  {
   "cell_type": "code",
   "execution_count": 25,
   "id": "5119803f",
   "metadata": {},
   "outputs": [],
   "source": [
    "def is_anagram(word1, word2):\n",
    "    return Counter(word1) == Counter(word2)"
   ]
  },
  {
   "cell_type": "markdown",
   "id": "998f38cc",
   "metadata": {},
   "source": [
    "If two words are anagrams, they contain the same letters with the same counts, so their\n",
    "Counters are equivalent."
   ]
  },
  {
   "cell_type": "markdown",
   "id": "13a135a8",
   "metadata": {},
   "source": [
    "Counters provide methods and operators to perform set-like operations, including addition,\n",
    "subtraction, union and intersection. And they provide an often-useful method,\n",
    "most_common, which returns a list of value-frequency pairs, sorted from most common to\n",
    "least:"
   ]
  },
  {
   "cell_type": "code",
   "execution_count": 26,
   "id": "dbd98c45",
   "metadata": {},
   "outputs": [
    {
     "name": "stdout",
     "output_type": "stream",
     "text": [
      "r 2\n",
      "p 1\n",
      "a 1\n"
     ]
    }
   ],
   "source": [
    "count = Counter('parrot')\n",
    "for val, freq in count.most_common(3):\n",
    "    print(val, freq)"
   ]
  },
  {
   "cell_type": "markdown",
   "id": "a9a5d3d2",
   "metadata": {},
   "source": [
    "The collections module also provides defaultdict, which is like a dictionary except that\n",
    "if you access a key that doesn’t exist, it can generate a new value on the fly."
   ]
  },
  {
   "cell_type": "markdown",
   "id": "c031d4fb",
   "metadata": {},
   "source": [
    "When you create a defaultdict, you provide a function that’s used to create new values. A\n",
    "function used to create objects is sometimes called a factory. The built-in functions that\n",
    "create lists, sets, and other types can be used as factories:"
   ]
  },
  {
   "cell_type": "code",
   "execution_count": 27,
   "id": "01ad19ff",
   "metadata": {},
   "outputs": [],
   "source": [
    "from collections import defaultdict\n",
    "d = defaultdict(list)"
   ]
  },
  {
   "cell_type": "code",
   "execution_count": 28,
   "id": "17cbba33",
   "metadata": {},
   "outputs": [
    {
     "data": {
      "text/plain": [
       "defaultdict(list, {})"
      ]
     },
     "execution_count": 28,
     "metadata": {},
     "output_type": "execute_result"
    }
   ],
   "source": [
    "d"
   ]
  },
  {
   "cell_type": "markdown",
   "id": "dd724a79",
   "metadata": {},
   "source": [
    "Notice that the argument is list, which is a class object, not list(), which is a new list.\n",
    "The function you provide doesn’t get called unless you access a key that doesn’t exist."
   ]
  },
  {
   "cell_type": "code",
   "execution_count": 29,
   "id": "a3a7e14e",
   "metadata": {},
   "outputs": [
    {
     "data": {
      "text/plain": [
       "[]"
      ]
     },
     "execution_count": 29,
     "metadata": {},
     "output_type": "execute_result"
    }
   ],
   "source": [
    "t = d['new key']\n",
    "t"
   ]
  },
  {
   "cell_type": "markdown",
   "id": "6f3a12cb",
   "metadata": {},
   "source": [
    "The new list, which we’re calling t, is also added to the dictionary. So if we modify t, the\n",
    "change appears in d:"
   ]
  },
  {
   "cell_type": "code",
   "execution_count": 30,
   "id": "9715f113",
   "metadata": {},
   "outputs": [
    {
     "data": {
      "text/plain": [
       "defaultdict(list, {'new key': ['new value']})"
      ]
     },
     "execution_count": 30,
     "metadata": {},
     "output_type": "execute_result"
    }
   ],
   "source": [
    "t.append('new value')\n",
    "d"
   ]
  },
  {
   "cell_type": "code",
   "execution_count": 31,
   "id": "21a08bb3",
   "metadata": {},
   "outputs": [],
   "source": [
    "def all_anagrams(filename):\n",
    "    d = {}\n",
    "    for line in open(filename):\n",
    "        word = line.strip().lower()\n",
    "        t = signature(word)\n",
    "        d.setdefault(t, []).append(word)\n",
    "    return d"
   ]
  },
  {
   "cell_type": "markdown",
   "id": "d4cda8e6",
   "metadata": {},
   "source": [
    "This solution has the drawback that it makes a new list every time, regardless of whether\n",
    "it is needed. For lists, that’s no big deal, but if the factory function is complicated, it might\n",
    "be."
   ]
  },
  {
   "cell_type": "markdown",
   "id": "1aeee9f9",
   "metadata": {},
   "source": [
    "We can avoid this problem and simplify the code using a defaultdict:"
   ]
  },
  {
   "cell_type": "code",
   "execution_count": 32,
   "id": "542488c3",
   "metadata": {},
   "outputs": [],
   "source": [
    "def all_anagrams(filename):\n",
    "    d = defaultdict(list)\n",
    "    for line in open(filename):\n",
    "        word = line.strip().lower()\n",
    "        t = signature(word)\n",
    "        d[t].append(word)\n",
    "    return d"
   ]
  },
  {
   "cell_type": "code",
   "execution_count": 33,
   "id": "5d94f57b",
   "metadata": {},
   "outputs": [],
   "source": [
    "from collections import namedtuple\n",
    "Point = namedtuple('Point', ['x', 'y'])"
   ]
  },
  {
   "cell_type": "code",
   "execution_count": 34,
   "id": "61a79ace",
   "metadata": {},
   "outputs": [
    {
     "data": {
      "text/plain": [
       "__main__.Point"
      ]
     },
     "execution_count": 34,
     "metadata": {},
     "output_type": "execute_result"
    }
   ],
   "source": [
    "Point"
   ]
  },
  {
   "cell_type": "markdown",
   "id": "fc85864e",
   "metadata": {},
   "source": [
    "Point automatically provides methods like __init__ and __str__ so you don’t have to\n",
    "write them.   \n",
    "    \n",
    "To create a Point object, you use the Point class as a function:"
   ]
  },
  {
   "cell_type": "code",
   "execution_count": 35,
   "id": "edb37af0",
   "metadata": {},
   "outputs": [
    {
     "data": {
      "text/plain": [
       "Point(x=1, y=2)"
      ]
     },
     "execution_count": 35,
     "metadata": {},
     "output_type": "execute_result"
    }
   ],
   "source": [
    "p = Point(1, 2)\n",
    "p"
   ]
  },
  {
   "cell_type": "markdown",
   "id": "e3da680c",
   "metadata": {},
   "source": [
    "You can access the elements of the named tuple by name"
   ]
  },
  {
   "cell_type": "code",
   "execution_count": 36,
   "id": "91f49c76",
   "metadata": {},
   "outputs": [
    {
     "data": {
      "text/plain": [
       "(1, 2)"
      ]
     },
     "execution_count": 36,
     "metadata": {},
     "output_type": "execute_result"
    }
   ],
   "source": [
    "p.x, p.y"
   ]
  },
  {
   "cell_type": "code",
   "execution_count": 37,
   "id": "c0d8c20b",
   "metadata": {},
   "outputs": [
    {
     "data": {
      "text/plain": [
       "(1, 2)"
      ]
     },
     "execution_count": 37,
     "metadata": {},
     "output_type": "execute_result"
    }
   ],
   "source": [
    "p[0], p[1]"
   ]
  },
  {
   "cell_type": "code",
   "execution_count": 38,
   "id": "76e57a9a",
   "metadata": {},
   "outputs": [
    {
     "data": {
      "text/plain": [
       "(1, 2)"
      ]
     },
     "execution_count": 38,
     "metadata": {},
     "output_type": "execute_result"
    }
   ],
   "source": [
    "x, y = p\n",
    "x, y"
   ]
  },
  {
   "cell_type": "markdown",
   "id": "f3f41f20",
   "metadata": {},
   "source": [
    "Named tuples provide a quick way to define simple classes. The drawback is that simple\n",
    "classes don’t always stay simple. You might decide later that you want to add methods\n",
    "to a named tuple. In that case, you could define a new class that inherits from the named\n",
    "tuple:"
   ]
  },
  {
   "cell_type": "code",
   "execution_count": 40,
   "id": "27477fbc",
   "metadata": {},
   "outputs": [],
   "source": [
    "class Pointier(Point):\n",
    "    # add more methods here\n",
    "    pass"
   ]
  },
  {
   "cell_type": "code",
   "execution_count": 41,
   "id": "2ba51663",
   "metadata": {},
   "outputs": [],
   "source": [
    "def printall(*args):\n",
    "    print(args)"
   ]
  },
  {
   "cell_type": "markdown",
   "id": "55942b1c",
   "metadata": {},
   "source": [
    "You can call this function with any number of positional arguments (that is, arguments that\n",
    "don’t have keywords):"
   ]
  },
  {
   "cell_type": "code",
   "execution_count": 42,
   "id": "5c5367f7",
   "metadata": {},
   "outputs": [
    {
     "name": "stdout",
     "output_type": "stream",
     "text": [
      "(1, 2.0, '3')\n"
     ]
    }
   ],
   "source": [
    "printall(1, 2.0, '3')"
   ]
  },
  {
   "cell_type": "markdown",
   "id": "2e775353",
   "metadata": {},
   "source": [
    "But the * operator doesn’t gather keyword arguments:"
   ]
  },
  {
   "cell_type": "code",
   "execution_count": 43,
   "id": "1ef9f523",
   "metadata": {},
   "outputs": [
    {
     "ename": "TypeError",
     "evalue": "printall() got an unexpected keyword argument 'third'",
     "output_type": "error",
     "traceback": [
      "\u001b[1;31m---------------------------------------------------------------------------\u001b[0m",
      "\u001b[1;31mTypeError\u001b[0m                                 Traceback (most recent call last)",
      "\u001b[1;32m<ipython-input-43-af1432a881b7>\u001b[0m in \u001b[0;36m<module>\u001b[1;34m\u001b[0m\n\u001b[1;32m----> 1\u001b[1;33m \u001b[0mprintall\u001b[0m\u001b[1;33m(\u001b[0m\u001b[1;36m1\u001b[0m\u001b[1;33m,\u001b[0m \u001b[1;36m2.0\u001b[0m\u001b[1;33m,\u001b[0m \u001b[0mthird\u001b[0m\u001b[1;33m=\u001b[0m\u001b[1;34m'3'\u001b[0m\u001b[1;33m)\u001b[0m\u001b[1;33m\u001b[0m\u001b[1;33m\u001b[0m\u001b[0m\n\u001b[0m",
      "\u001b[1;31mTypeError\u001b[0m: printall() got an unexpected keyword argument 'third'"
     ]
    }
   ],
   "source": [
    "printall(1, 2.0, third='3')"
   ]
  },
  {
   "cell_type": "markdown",
   "id": "8eee0fb6",
   "metadata": {},
   "source": [
    "To gather keyword arguments, you can use the ** operator:"
   ]
  },
  {
   "cell_type": "code",
   "execution_count": 44,
   "id": "b3f7d4f3",
   "metadata": {},
   "outputs": [],
   "source": [
    "def printall(*args, **kwargs):\n",
    "    print(args, kwargs)"
   ]
  },
  {
   "cell_type": "markdown",
   "id": "a1f21199",
   "metadata": {},
   "source": [
    "You can call the keyword gathering parameter anything you want, but kwargs is a common\n",
    "choice. The result is a dictionary that maps from keywords to values:"
   ]
  },
  {
   "cell_type": "code",
   "execution_count": 45,
   "id": "ac061f20",
   "metadata": {},
   "outputs": [
    {
     "name": "stdout",
     "output_type": "stream",
     "text": [
      "(1, 2.0) {'third': '3'}\n"
     ]
    }
   ],
   "source": [
    "printall(1, 2.0, third='3')"
   ]
  },
  {
   "cell_type": "markdown",
   "id": "81fc5d07",
   "metadata": {},
   "source": [
    "If you have a dictionary of keywords and values, you can use the scatter operator, ** to\n",
    "call a function:"
   ]
  },
  {
   "cell_type": "code",
   "execution_count": 46,
   "id": "053a22f8",
   "metadata": {},
   "outputs": [
    {
     "data": {
      "text/plain": [
       "Point(x=1, y=2)"
      ]
     },
     "execution_count": 46,
     "metadata": {},
     "output_type": "execute_result"
    }
   ],
   "source": [
    "d = dict(x=1, y=2)\n",
    "Point(**d)"
   ]
  },
  {
   "cell_type": "markdown",
   "id": "1fe05955",
   "metadata": {},
   "source": [
    "Without the scatter operator, the function would treat d as a single positional argument, so\n",
    "it would assign d to x and complain because there’s nothing to assign to y:"
   ]
  },
  {
   "cell_type": "code",
   "execution_count": 47,
   "id": "e805405c",
   "metadata": {},
   "outputs": [
    {
     "ename": "TypeError",
     "evalue": "__new__() missing 1 required positional argument: 'y'",
     "output_type": "error",
     "traceback": [
      "\u001b[1;31m---------------------------------------------------------------------------\u001b[0m",
      "\u001b[1;31mTypeError\u001b[0m                                 Traceback (most recent call last)",
      "\u001b[1;32m<ipython-input-47-7a515be11c9c>\u001b[0m in \u001b[0;36m<module>\u001b[1;34m\u001b[0m\n\u001b[0;32m      1\u001b[0m \u001b[0md\u001b[0m \u001b[1;33m=\u001b[0m \u001b[0mdict\u001b[0m\u001b[1;33m(\u001b[0m\u001b[0mx\u001b[0m\u001b[1;33m=\u001b[0m\u001b[1;36m1\u001b[0m\u001b[1;33m,\u001b[0m \u001b[0my\u001b[0m\u001b[1;33m=\u001b[0m\u001b[1;36m2\u001b[0m\u001b[1;33m)\u001b[0m\u001b[1;33m\u001b[0m\u001b[1;33m\u001b[0m\u001b[0m\n\u001b[1;32m----> 2\u001b[1;33m \u001b[0mPoint\u001b[0m\u001b[1;33m(\u001b[0m\u001b[0md\u001b[0m\u001b[1;33m)\u001b[0m\u001b[1;33m\u001b[0m\u001b[1;33m\u001b[0m\u001b[0m\n\u001b[0m",
      "\u001b[1;31mTypeError\u001b[0m: __new__() missing 1 required positional argument: 'y'"
     ]
    }
   ],
   "source": [
    "d = dict(x=1, y=2)\n",
    "Point(d)"
   ]
  },
  {
   "cell_type": "markdown",
   "id": "65725ab2",
   "metadata": {},
   "source": [
    "When you are working with functions that have a large number of parameters, it is often\n",
    "useful to create and pass around dictionaries that specify frequently used options."
   ]
  },
  {
   "cell_type": "code",
   "execution_count": null,
   "id": "68d8d52b",
   "metadata": {},
   "outputs": [],
   "source": []
  }
 ],
 "metadata": {
  "kernelspec": {
   "display_name": "Python 3 (ipykernel)",
   "language": "python",
   "name": "python3"
  },
  "language_info": {
   "codemirror_mode": {
    "name": "ipython",
    "version": 3
   },
   "file_extension": ".py",
   "mimetype": "text/x-python",
   "name": "python",
   "nbconvert_exporter": "python",
   "pygments_lexer": "ipython3",
   "version": "3.6.13"
  }
 },
 "nbformat": 4,
 "nbformat_minor": 5
}
