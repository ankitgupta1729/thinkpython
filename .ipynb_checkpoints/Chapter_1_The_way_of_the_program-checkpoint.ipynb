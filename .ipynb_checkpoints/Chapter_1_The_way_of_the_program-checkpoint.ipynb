{
 "cells": [
  {
   "cell_type": "markdown",
   "id": "d424204e",
   "metadata": {},
   "source": [
    "Python is considered an interpreted language because Python programs are executed by an\n",
    "interpreter. **There are two ways to use the interpreter: interactive mode and script mode.\n",
    "In interactive mode, you type Python programs and the interpreter displays the result.**"
   ]
  },
  {
   "cell_type": "code",
   "execution_count": 3,
   "id": "00fc2235",
   "metadata": {},
   "outputs": [
    {
     "name": "stdout",
     "output_type": "stream",
     "text": [
      "3.8.5 (default, Sep  3 2020, 21:29:08) [MSC v.1916 64 bit (AMD64)]\n"
     ]
    }
   ],
   "source": [
    "# checking the python version \n",
    "import sys\n",
    "print(sys.version)"
   ]
  },
  {
   "cell_type": "markdown",
   "id": "8b746441",
   "metadata": {},
   "source": [
    "The chevron, >>>, is the prompt the interpreter uses to indicate that it is ready"
   ]
  },
  {
   "cell_type": "markdown",
   "id": "6039c9a6",
   "metadata": {},
   "source": [
    "Working in interactive mode is convenient for testing small pieces of code because you can\n",
    "type and execute them immediately"
   ]
  },
  {
   "cell_type": "markdown",
   "id": "ad443820",
   "metadata": {},
   "source": [
    "Programming is error-prone. For whimsical reasons, programming errors are called bugs\n",
    "and the process of tracking them down is called debugging"
   ]
  },
  {
   "cell_type": "markdown",
   "id": "b70e0c5c",
   "metadata": {},
   "source": [
    "Three kinds of errors can occur in a program: syntax errors, runtime errors, and semantic\n",
    "errors. It is useful to distinguish between them in order to track them down more quickly.\n",
    "\n",
    "Syntax refers to the structure of a program and the rules about that\n",
    "structure. For example, parentheses have to come in matching pairs, so (1 + 2) is legal,\n",
    "but 8) is a syntax error.\n",
    "\n",
    "Python is not so forgiving. If there\n",
    "is a single syntax error anywhere in your program, Python will display an error message\n",
    "and quit, and you will not be able to run your program.\n",
    "\n",
    "The second type of error is a runtime error, so called because the error does not appear until\n",
    "after the program has started running. These errors are also called exceptions because they\n",
    "usually indicate that something exceptional (and bad) has happened.\n",
    "Runtime errors are rare in the simple programs you will see in the first few chapters, so it\n",
    "might be a while before you encounter one.\n",
    "\n",
    "The third type of error is the semantic error. If there is a semantic error in your program, it\n",
    "will run successfully in the sense that the computer will not generate any error messages,\n",
    "but it will not do the right thing. It will do something else. Specifically, it will do what you\n",
    "told it to do.\n",
    "The problem is that the program you wrote is not the program you wanted to write. The\n",
    "meaning of the program (its semantics) is wrong. Identifying semantic errors can be tricky\n",
    "because it requires you to work backward by looking at the output of the program and\n",
    "trying to figure out what it is doing."
   ]
  },
  {
   "cell_type": "markdown",
   "id": "3d80a484",
   "metadata": {},
   "source": [
    "1.3.4 Experimental debugging\n",
    "\n",
    "One of the most important skills you will acquire is debugging. Although it can be frustrating,\n",
    "debugging is one of the most intellectually rich, challenging, and interesting parts\n",
    "of programming.\n",
    "\n",
    "Debugging is also like an experimental science. Once you have an idea about what is going\n",
    "wrong, you modify your program and try again. If your hypothesis was correct, then you\n",
    "can predict the result of the modification, and you take a step closer to a working program.\n",
    "If your hypothesis was wrong, you have to come up with a new one.\n"
   ]
  },
  {
   "cell_type": "markdown",
   "id": "5cbd5ab7",
   "metadata": {},
   "source": [
    "1.4 Formal and natural languages\n",
    "\n",
    "Natural languages are the languages people speak, such as English, Spanish, and French.\n",
    "They were not designed by people (although people try to impose some order on them);\n",
    "they evolved naturally.\n",
    "\n",
    "Formal languages are languages that are designed by people for specific applications. For\n",
    "example, the notation that mathematicians use is a formal language that is particularly\n",
    "good at denoting relationships among numbers and symbols. Chemists use a formal language\n",
    "to represent the chemical structure of molecules. And most importantly:\n",
    "Programming languages are formal languages that have been designed to\n",
    "express computations.\n",
    "Formal languages tend to have strict rules about syntax. For example, 3 + 3 = 6 is a\n",
    "syntactically correct mathematical statement, but 3+ = 3$6 is not. H2O is a syntactically\n",
    "correct chemical formula, but 2Zz is not\n",
    "\n",
    "The second type of syntax rule pertains to the structure of a statement; that is, the way the\n",
    "tokens are arranged. The statement 3+ = 3 is illegal because even though + and = are\n",
    "legal tokens, you can’t have one right after the other. Similarly, in a chemical formula the\n",
    "subscript comes after the element name, not before.\n",
    "\n",
    "When you read a sentence in English or a statement in a formal language, you have to\n",
    "figure out what the structure of the sentence is (although in a natural language you do this\n",
    "subconsciously). This process is called parsing.\n",
    "\n",
    "For example, when you hear the sentence, “The penny dropped,” you understand that\n",
    "“the penny” is the subject and “dropped” is the predicate. Once you have parsed a sentence,\n",
    "you can figure out what it means, or the semantics of the sentence. Assuming that\n",
    "you know what a penny is and what it means to drop, you will understand the general\n",
    "implication of this sentence.\n",
    "\n",
    "ambiguity: Natural languages are full of ambiguity, which people deal with by using contextual\n",
    "clues and other information. Formal languages are designed to be nearly or\n",
    "completely unambiguous, which means that any statement has exactly one meaning,\n",
    "regardless of context.\n",
    "redundancy: In order to make up for ambiguity and reduce misunderstandings, natural\n",
    "languages employ lots of redundancy. As a result, they are often verbose. Formal\n",
    "languages are less redundant and more concise."
   ]
  },
  {
   "cell_type": "code",
   "execution_count": null,
   "id": "3b6cf1fc-02ab-4b98-a36c-c136fdb2e5c0",
   "metadata": {},
   "outputs": [],
   "source": []
  }
 ],
 "metadata": {
  "kernelspec": {
   "display_name": "Python 3 (ipykernel)",
   "language": "python",
   "name": "python3"
  },
  "language_info": {
   "codemirror_mode": {
    "name": "ipython",
    "version": 3
   },
   "file_extension": ".py",
   "mimetype": "text/x-python",
   "name": "python",
   "nbconvert_exporter": "python",
   "pygments_lexer": "ipython3",
   "version": "3.9.18"
  }
 },
 "nbformat": 4,
 "nbformat_minor": 5
}
