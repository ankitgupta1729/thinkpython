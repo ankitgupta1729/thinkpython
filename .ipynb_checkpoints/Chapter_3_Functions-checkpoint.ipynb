{
 "cells": [
  {
   "cell_type": "markdown",
   "id": "f8b5413b",
   "metadata": {},
   "source": [
    "## 3.1 Function calls"
   ]
  },
  {
   "cell_type": "code",
   "execution_count": 1,
   "id": "fcdcea21",
   "metadata": {},
   "outputs": [
    {
     "data": {
      "text/plain": [
       "32"
      ]
     },
     "execution_count": 1,
     "metadata": {},
     "output_type": "execute_result"
    }
   ],
   "source": [
    "int('32')"
   ]
  },
  {
   "cell_type": "code",
   "execution_count": 2,
   "id": "8563b955",
   "metadata": {},
   "outputs": [
    {
     "data": {
      "text/plain": [
       "3.14159"
      ]
     },
     "execution_count": 2,
     "metadata": {},
     "output_type": "execute_result"
    }
   ],
   "source": [
    "float('3.14159')"
   ]
  },
  {
   "cell_type": "code",
   "execution_count": 3,
   "id": "ee1acd15",
   "metadata": {},
   "outputs": [
    {
     "data": {
      "text/plain": [
       "-2"
      ]
     },
     "execution_count": 3,
     "metadata": {},
     "output_type": "execute_result"
    }
   ],
   "source": [
    "int(-2.3)"
   ]
  },
  {
   "cell_type": "code",
   "execution_count": 4,
   "id": "d6d6c17a",
   "metadata": {},
   "outputs": [
    {
     "data": {
      "text/plain": [
       "-2"
      ]
     },
     "execution_count": 4,
     "metadata": {},
     "output_type": "execute_result"
    }
   ],
   "source": [
    "int(-2.7)"
   ]
  },
  {
   "cell_type": "code",
   "execution_count": 5,
   "id": "83580679",
   "metadata": {},
   "outputs": [
    {
     "ename": "ValueError",
     "evalue": "invalid literal for int() with base 10: 'Hello'",
     "output_type": "error",
     "traceback": [
      "\u001b[1;31m---------------------------------------------------------------------------\u001b[0m",
      "\u001b[1;31mValueError\u001b[0m                                Traceback (most recent call last)",
      "\u001b[1;32m<ipython-input-5-6765ce49acfe>\u001b[0m in \u001b[0;36m<module>\u001b[1;34m\u001b[0m\n\u001b[1;32m----> 1\u001b[1;33m \u001b[0mint\u001b[0m\u001b[1;33m(\u001b[0m\u001b[1;34m'Hello'\u001b[0m\u001b[1;33m)\u001b[0m\u001b[1;33m\u001b[0m\u001b[1;33m\u001b[0m\u001b[0m\n\u001b[0m",
      "\u001b[1;31mValueError\u001b[0m: invalid literal for int() with base 10: 'Hello'"
     ]
    }
   ],
   "source": [
    "int('Hello')"
   ]
  },
  {
   "cell_type": "code",
   "execution_count": 7,
   "id": "71aefe1d",
   "metadata": {},
   "outputs": [
    {
     "data": {
      "text/plain": [
       "3"
      ]
     },
     "execution_count": 7,
     "metadata": {},
     "output_type": "execute_result"
    }
   ],
   "source": [
    "int(3.99999)"
   ]
  },
  {
   "cell_type": "code",
   "execution_count": 8,
   "id": "4580bf14",
   "metadata": {},
   "outputs": [
    {
     "data": {
      "text/plain": [
       "32.0"
      ]
     },
     "execution_count": 8,
     "metadata": {},
     "output_type": "execute_result"
    }
   ],
   "source": [
    "float(32)"
   ]
  },
  {
   "cell_type": "code",
   "execution_count": 9,
   "id": "c06cb84f",
   "metadata": {},
   "outputs": [
    {
     "data": {
      "text/plain": [
       "'32'"
      ]
     },
     "execution_count": 9,
     "metadata": {},
     "output_type": "execute_result"
    }
   ],
   "source": [
    "str(32)"
   ]
  },
  {
   "cell_type": "code",
   "execution_count": 10,
   "id": "5b73adeb",
   "metadata": {},
   "outputs": [
    {
     "data": {
      "text/plain": [
       "'3.14159'"
      ]
     },
     "execution_count": 10,
     "metadata": {},
     "output_type": "execute_result"
    }
   ],
   "source": [
    "str(3.14159)"
   ]
  },
  {
   "cell_type": "markdown",
   "id": "9865cbed",
   "metadata": {},
   "source": [
    "## 3.2 Math functions"
   ]
  },
  {
   "cell_type": "markdown",
   "id": "f22a9e23",
   "metadata": {},
   "source": [
    "Python has a math module that provides most of the familiar mathematical functions. A\n",
    "module is a file that contains a collection of related functions."
   ]
  },
  {
   "cell_type": "markdown",
   "id": "4173ea27",
   "metadata": {},
   "source": [
    "Before we can use the functions in a module, we have to import it with an import statement:"
   ]
  },
  {
   "cell_type": "code",
   "execution_count": 11,
   "id": "f28e7b38",
   "metadata": {},
   "outputs": [],
   "source": [
    "import math"
   ]
  },
  {
   "cell_type": "markdown",
   "id": "6665a774",
   "metadata": {},
   "source": [
    "This statement creates a module object named math. If you display the module object, you\n",
    "get some information about it:"
   ]
  },
  {
   "cell_type": "code",
   "execution_count": 12,
   "id": "67977379",
   "metadata": {},
   "outputs": [
    {
     "data": {
      "text/plain": [
       "<module 'math' (built-in)>"
      ]
     },
     "execution_count": 12,
     "metadata": {},
     "output_type": "execute_result"
    }
   ],
   "source": [
    "math"
   ]
  },
  {
   "cell_type": "markdown",
   "id": "55c99275",
   "metadata": {},
   "source": [
    "The module object contains the functions and variables defined in the module. To access\n",
    "one of the functions, you have to specify the name of the module and the name of the\n",
    "function, separated by a dot (also known as a period). This format is called dot notation."
   ]
  },
  {
   "cell_type": "code",
   "execution_count": 13,
   "id": "a8e1eb04",
   "metadata": {},
   "outputs": [
    {
     "data": {
      "text/plain": [
       "2.0"
      ]
     },
     "execution_count": 13,
     "metadata": {},
     "output_type": "execute_result"
    }
   ],
   "source": [
    "log_10 = math.log10(100)\n",
    "log_10"
   ]
  },
  {
   "cell_type": "code",
   "execution_count": 14,
   "id": "15941efe",
   "metadata": {},
   "outputs": [
    {
     "data": {
      "text/plain": [
       "0.644217687237691"
      ]
     },
     "execution_count": 14,
     "metadata": {},
     "output_type": "execute_result"
    }
   ],
   "source": [
    "radians = 0.7\n",
    "height = math.sin(radians)\n",
    "height"
   ]
  },
  {
   "cell_type": "code",
   "execution_count": 15,
   "id": "155e9986",
   "metadata": {},
   "outputs": [
    {
     "data": {
      "text/plain": [
       "0.7071067811865476"
      ]
     },
     "execution_count": 15,
     "metadata": {},
     "output_type": "execute_result"
    }
   ],
   "source": [
    "degrees = 45\n",
    "radians = degrees / 180.0 * math.pi\n",
    "math.sin(radians)"
   ]
  },
  {
   "cell_type": "markdown",
   "id": "6693cd9c",
   "metadata": {},
   "source": [
    "The expression math.pi gets the variable pi from the math module. Its value is a floating point\n",
    "approximation of pi, accurate to about 15 digits."
   ]
  },
  {
   "cell_type": "markdown",
   "id": "d8adf427",
   "metadata": {},
   "source": [
    "## 3.3 Composition"
   ]
  },
  {
   "cell_type": "markdown",
   "id": "510a1565",
   "metadata": {},
   "source": [
    "One of the most useful features of programming languages is their ability to take small\n",
    "building blocks and compose them"
   ]
  },
  {
   "cell_type": "code",
   "execution_count": 17,
   "id": "f5b7194e",
   "metadata": {},
   "outputs": [
    {
     "data": {
      "text/plain": [
       "4.999999999999999"
      ]
     },
     "execution_count": 17,
     "metadata": {},
     "output_type": "execute_result"
    }
   ],
   "source": [
    "x=4\n",
    "math.exp(math.log(x+1))"
   ]
  },
  {
   "cell_type": "markdown",
   "id": "fd1114da",
   "metadata": {},
   "source": [
    "## 3.4 Adding new functions"
   ]
  },
  {
   "cell_type": "markdown",
   "id": "19cff7c7",
   "metadata": {},
   "source": [
    "A function definition specifies the name of a new function and the\n",
    "sequence of statements that run when the function is called"
   ]
  },
  {
   "cell_type": "code",
   "execution_count": 18,
   "id": "754738aa",
   "metadata": {},
   "outputs": [],
   "source": [
    "def print_lyrics():\n",
    "    print(\"I'm a lumberjack, and I'm okay.\")\n",
    "    print(\"I sleep all night and I work all day.\")"
   ]
  },
  {
   "cell_type": "markdown",
   "id": "88e3a101",
   "metadata": {},
   "source": [
    "def is a keyword that indicates that this is a function definition. The name of the function\n",
    "is print_lyrics. The rules for function names are the same as for variable names: letters,\n",
    "numbers and underscore are legal, but the first character can’t be a number. You can’t use a\n",
    "keyword as the name of a function, and you should avoid having a variable and a function\n",
    "with the same name"
   ]
  },
  {
   "cell_type": "markdown",
   "id": "6c71a48b",
   "metadata": {},
   "source": [
    "The empty parentheses after the name indicate that this function doesn’t take any arguments.\n",
    "The first line of the function definition is called the header; the rest is called the body. The\n",
    "header has to end with a colon and the body has to be indented. By convention, indentation\n",
    "is always four spaces. The body can contain any number of statements"
   ]
  },
  {
   "cell_type": "markdown",
   "id": "c5abda27",
   "metadata": {},
   "source": [
    "The strings in the print statements are enclosed in double quotes. Single quotes and double\n",
    "quotes do the same thing; most people use single quotes except in cases like this where a\n",
    "single quote (which is also an apostrophe) appears in the string.\n",
    "All quotation marks (single and double) must be “straight quotes”, usually located next\n",
    "to Enter on the keyboard. “Curly quotes”, like the ones in this sentence, are not legal in\n",
    "Python"
   ]
  },
  {
   "cell_type": "markdown",
   "id": "fcf56b2d",
   "metadata": {},
   "source": [
    "If you type a function definition in interactive mode, the interpreter prints dots (...) to let\n",
    "you know that the definition isn’t complete:"
   ]
  },
  {
   "cell_type": "code",
   "execution_count": 21,
   "id": "ab832957",
   "metadata": {},
   "outputs": [
    {
     "ename": "IndentationError",
     "evalue": "expected an indented block (<ipython-input-21-7df705a4ef51>, line 2)",
     "output_type": "error",
     "traceback": [
      "\u001b[1;36m  File \u001b[1;32m\"<ipython-input-21-7df705a4ef51>\"\u001b[1;36m, line \u001b[1;32m2\u001b[0m\n\u001b[1;33m    print(\"I'm a lumberjack, and I'm okay.\")\u001b[0m\n\u001b[1;37m        ^\u001b[0m\n\u001b[1;31mIndentationError\u001b[0m\u001b[1;31m:\u001b[0m expected an indented block\n"
     ]
    }
   ],
   "source": [
    "def print_lyrics():\n",
    "... print(\"I'm a lumberjack, and I'm okay.\")\n",
    "... print(\"I sleep all night and I work all day.\")"
   ]
  },
  {
   "cell_type": "markdown",
   "id": "9f8053a1",
   "metadata": {},
   "source": [
    "Defining a function creates a function object, which has type function:"
   ]
  },
  {
   "cell_type": "code",
   "execution_count": 22,
   "id": "a7a7228b",
   "metadata": {},
   "outputs": [
    {
     "name": "stdout",
     "output_type": "stream",
     "text": [
      "<function print_lyrics at 0x00000235D379CAE8>\n"
     ]
    }
   ],
   "source": [
    "print(print_lyrics)"
   ]
  },
  {
   "cell_type": "code",
   "execution_count": 23,
   "id": "496aadda",
   "metadata": {},
   "outputs": [
    {
     "data": {
      "text/plain": [
       "function"
      ]
     },
     "execution_count": 23,
     "metadata": {},
     "output_type": "execute_result"
    }
   ],
   "source": [
    "type(print_lyrics)"
   ]
  },
  {
   "cell_type": "code",
   "execution_count": 24,
   "id": "fed67ba5",
   "metadata": {},
   "outputs": [
    {
     "name": "stdout",
     "output_type": "stream",
     "text": [
      "I'm a lumberjack, and I'm okay.\n",
      "I sleep all night and I work all day.\n"
     ]
    }
   ],
   "source": [
    "print_lyrics()"
   ]
  },
  {
   "cell_type": "markdown",
   "id": "95c05813",
   "metadata": {},
   "source": [
    "Once you have defined a function, you can use it inside another function. For example, to\n",
    "repeat the previous refrain, we could write a function called repeat_lyrics:"
   ]
  },
  {
   "cell_type": "code",
   "execution_count": 25,
   "id": "76427898",
   "metadata": {},
   "outputs": [],
   "source": [
    "def repeat_lyrics():\n",
    "    print_lyrics()\n",
    "    print_lyrics()"
   ]
  },
  {
   "cell_type": "code",
   "execution_count": 26,
   "id": "ba7f7aab",
   "metadata": {},
   "outputs": [
    {
     "name": "stdout",
     "output_type": "stream",
     "text": [
      "I'm a lumberjack, and I'm okay.\n",
      "I sleep all night and I work all day.\n",
      "I'm a lumberjack, and I'm okay.\n",
      "I sleep all night and I work all day.\n"
     ]
    }
   ],
   "source": [
    "repeat_lyrics()"
   ]
  },
  {
   "cell_type": "markdown",
   "id": "f46622e1",
   "metadata": {},
   "source": [
    "## 3.8 Variables and parameters are local"
   ]
  },
  {
   "cell_type": "markdown",
   "id": "4708da15",
   "metadata": {},
   "source": [
    "When you create a variable inside a function, it is local, which means that it only exists\n",
    "inside the function."
   ]
  },
  {
   "cell_type": "code",
   "execution_count": 39,
   "id": "76c5cba5",
   "metadata": {},
   "outputs": [],
   "source": [
    "def print_twice(x):\n",
    "    print(x)\n",
    "    print(x)"
   ]
  },
  {
   "cell_type": "code",
   "execution_count": 40,
   "id": "1f99abb8",
   "metadata": {},
   "outputs": [],
   "source": [
    "def cat_twice(part1, part2):\n",
    "    cat = part1 + part2\n",
    "    print_twice(cat)"
   ]
  },
  {
   "cell_type": "markdown",
   "id": "6f8f4669",
   "metadata": {},
   "source": [
    "This function takes two arguments, concatenates them, and prints the result twice. Here is\n",
    "an example that uses it:"
   ]
  },
  {
   "cell_type": "code",
   "execution_count": 41,
   "id": "1b5c2371",
   "metadata": {},
   "outputs": [
    {
     "name": "stdout",
     "output_type": "stream",
     "text": [
      "Bing tiddle tiddle bang.\n",
      "Bing tiddle tiddle bang.\n"
     ]
    }
   ],
   "source": [
    "line1 = 'Bing tiddle '\n",
    "line2 = 'tiddle bang.'\n",
    "cat_twice(line1, line2)"
   ]
  },
  {
   "cell_type": "markdown",
   "id": "5114a7cc",
   "metadata": {},
   "source": [
    "When cat_twice terminates, the variable cat is destroyed. If we try to print it, we get an\n",
    "exception:"
   ]
  },
  {
   "cell_type": "code",
   "execution_count": 42,
   "id": "9149dea3",
   "metadata": {},
   "outputs": [
    {
     "ename": "NameError",
     "evalue": "name 'cat' is not defined",
     "output_type": "error",
     "traceback": [
      "\u001b[1;31m---------------------------------------------------------------------------\u001b[0m",
      "\u001b[1;31mNameError\u001b[0m                                 Traceback (most recent call last)",
      "\u001b[1;32m<ipython-input-42-34599fba884e>\u001b[0m in \u001b[0;36m<module>\u001b[1;34m\u001b[0m\n\u001b[1;32m----> 1\u001b[1;33m \u001b[0mprint\u001b[0m\u001b[1;33m(\u001b[0m\u001b[0mcat\u001b[0m\u001b[1;33m)\u001b[0m\u001b[1;33m\u001b[0m\u001b[1;33m\u001b[0m\u001b[0m\n\u001b[0m",
      "\u001b[1;31mNameError\u001b[0m: name 'cat' is not defined"
     ]
    }
   ],
   "source": [
    "print(cat)"
   ]
  },
  {
   "cell_type": "markdown",
   "id": "5c7318e1",
   "metadata": {},
   "source": [
    "Parameters are also local"
   ]
  },
  {
   "cell_type": "markdown",
   "id": "945f1599",
   "metadata": {},
   "source": [
    "When you create a variable\n",
    "outside of any function, it belongs to __main__."
   ]
  },
  {
   "cell_type": "markdown",
   "id": "6eff3cf5",
   "metadata": {},
   "source": [
    "This list of functions is called a traceback. It tells you what program file the error occurred\n",
    "in, and what line, and what functions were executing at the time. It also shows the line of\n",
    "code that caused the error.\n",
    "The order of the functions in the traceback is the same as the order of the frames in the\n",
    "stack diagram. The function that is currently running is at the bottom."
   ]
  },
  {
   "cell_type": "markdown",
   "id": "4c3cb719",
   "metadata": {},
   "source": [
    "Void functions might display something on the screen or have some other effect, but they\n",
    "don’t have a return value. If you assign the result to a variable, you get a special value\n",
    "called None."
   ]
  },
  {
   "cell_type": "code",
   "execution_count": 43,
   "id": "d12f0095",
   "metadata": {},
   "outputs": [
    {
     "name": "stdout",
     "output_type": "stream",
     "text": [
      "Bing\n",
      "Bing\n"
     ]
    }
   ],
   "source": [
    "result = print_twice('Bing')"
   ]
  },
  {
   "cell_type": "code",
   "execution_count": 44,
   "id": "e0653382",
   "metadata": {},
   "outputs": [
    {
     "name": "stdout",
     "output_type": "stream",
     "text": [
      "None\n"
     ]
    }
   ],
   "source": [
    "print(result)"
   ]
  },
  {
   "cell_type": "markdown",
   "id": "b6f4143a",
   "metadata": {},
   "source": [
    "The value None is not the same as the string 'None'. It is a special value that has its own\n",
    "type:"
   ]
  },
  {
   "cell_type": "code",
   "execution_count": 45,
   "id": "a2aa5eb9",
   "metadata": {},
   "outputs": [
    {
     "data": {
      "text/plain": [
       "NoneType"
      ]
     },
     "execution_count": 45,
     "metadata": {},
     "output_type": "execute_result"
    }
   ],
   "source": [
    "type(None)"
   ]
  },
  {
   "cell_type": "code",
   "execution_count": 1,
   "id": "95c8812b",
   "metadata": {},
   "outputs": [
    {
     "data": {
      "text/plain": [
       "'None'"
      ]
     },
     "execution_count": 1,
     "metadata": {},
     "output_type": "execute_result"
    }
   ],
   "source": [
    "'None'"
   ]
  },
  {
   "cell_type": "code",
   "execution_count": null,
   "id": "def431de",
   "metadata": {},
   "outputs": [],
   "source": []
  }
 ],
 "metadata": {
  "kernelspec": {
   "display_name": "Python 3 (ipykernel)",
   "language": "python",
   "name": "python3"
  },
  "language_info": {
   "codemirror_mode": {
    "name": "ipython",
    "version": 3
   },
   "file_extension": ".py",
   "mimetype": "text/x-python",
   "name": "python",
   "nbconvert_exporter": "python",
   "pygments_lexer": "ipython3",
   "version": "3.9.18"
  }
 },
 "nbformat": 4,
 "nbformat_minor": 5
}
