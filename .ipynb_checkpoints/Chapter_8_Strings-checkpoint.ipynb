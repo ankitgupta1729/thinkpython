{
 "cells": [
  {
   "cell_type": "code",
   "execution_count": 1,
   "id": "f9ae3f68",
   "metadata": {},
   "outputs": [],
   "source": [
    "fruit = 'banana'"
   ]
  },
  {
   "cell_type": "code",
   "execution_count": 2,
   "id": "2a52c9d3",
   "metadata": {},
   "outputs": [
    {
     "data": {
      "text/plain": [
       "6"
      ]
     },
     "execution_count": 2,
     "metadata": {},
     "output_type": "execute_result"
    }
   ],
   "source": [
    "len(fruit)"
   ]
  },
  {
   "cell_type": "code",
   "execution_count": 3,
   "id": "58c611bf",
   "metadata": {},
   "outputs": [
    {
     "data": {
      "text/plain": [
       "'n'"
      ]
     },
     "execution_count": 3,
     "metadata": {},
     "output_type": "execute_result"
    }
   ],
   "source": [
    "fruit[-2]"
   ]
  },
  {
   "cell_type": "code",
   "execution_count": 4,
   "id": "b4d8fa6d",
   "metadata": {},
   "outputs": [
    {
     "name": "stdout",
     "output_type": "stream",
     "text": [
      "Jack\n",
      "Kack\n",
      "Lack\n",
      "Mack\n",
      "Nack\n",
      "Oack\n",
      "Pack\n",
      "Qack\n"
     ]
    }
   ],
   "source": [
    "prefixes = 'JKLMNOPQ'\n",
    "suffix = 'ack'\n",
    "for letter in prefixes:\n",
    "    print(letter + suffix)"
   ]
  },
  {
   "cell_type": "code",
   "execution_count": 5,
   "id": "b3bcf864",
   "metadata": {},
   "outputs": [
    {
     "data": {
      "text/plain": [
       "'ban'"
      ]
     },
     "execution_count": 5,
     "metadata": {},
     "output_type": "execute_result"
    }
   ],
   "source": [
    "fruit = 'banana'\n",
    "fruit[:3]"
   ]
  },
  {
   "cell_type": "code",
   "execution_count": 6,
   "id": "30117f62",
   "metadata": {},
   "outputs": [
    {
     "data": {
      "text/plain": [
       "'ana'"
      ]
     },
     "execution_count": 6,
     "metadata": {},
     "output_type": "execute_result"
    }
   ],
   "source": [
    "fruit[3:]"
   ]
  },
  {
   "cell_type": "markdown",
   "id": "8dcfa039",
   "metadata": {},
   "source": [
    "It is tempting to use the [] operator on the left side of an assignment, with the intention of\n",
    "changing a character in a string. For example:      \n",
    "greeting = 'Hello, world!'     \n",
    "greeting[0] = 'J'     \n",
    "TypeError: 'str' object does not support item assignment\n",
    "The “object” in this case is the string and the “item” is the character you tried to assign.\n",
    "For now, an object is the same thing as a value, but we will refine that definition later\n",
    "(Section 10.10).\n",
    "The reason for the error is that strings are immutable, which means you can’t change an\n",
    "existing string. The best you can do is create a new string that is a variation on the original:"
   ]
  },
  {
   "cell_type": "code",
   "execution_count": 7,
   "id": "426d1f6a",
   "metadata": {},
   "outputs": [
    {
     "ename": "TypeError",
     "evalue": "'str' object does not support item assignment",
     "output_type": "error",
     "traceback": [
      "\u001b[1;31m---------------------------------------------------------------------------\u001b[0m",
      "\u001b[1;31mTypeError\u001b[0m                                 Traceback (most recent call last)",
      "\u001b[1;32m<ipython-input-7-217c78420f62>\u001b[0m in \u001b[0;36m<module>\u001b[1;34m\u001b[0m\n\u001b[0;32m      1\u001b[0m \u001b[0mgreeting\u001b[0m \u001b[1;33m=\u001b[0m \u001b[1;34m'Hello, world!'\u001b[0m\u001b[1;33m\u001b[0m\u001b[1;33m\u001b[0m\u001b[0m\n\u001b[1;32m----> 2\u001b[1;33m \u001b[0mgreeting\u001b[0m\u001b[1;33m[\u001b[0m\u001b[1;36m0\u001b[0m\u001b[1;33m]\u001b[0m \u001b[1;33m=\u001b[0m \u001b[1;34m'J'\u001b[0m\u001b[1;33m\u001b[0m\u001b[1;33m\u001b[0m\u001b[0m\n\u001b[0m",
      "\u001b[1;31mTypeError\u001b[0m: 'str' object does not support item assignment"
     ]
    }
   ],
   "source": [
    "greeting = 'Hello, world!'\n",
    "greeting[0] = 'J'"
   ]
  },
  {
   "cell_type": "code",
   "execution_count": 8,
   "id": "204c79fa",
   "metadata": {},
   "outputs": [
    {
     "data": {
      "text/plain": [
       "'Jello, world!'"
      ]
     },
     "execution_count": 8,
     "metadata": {},
     "output_type": "execute_result"
    }
   ],
   "source": [
    "greeting = 'Hello, world!'\n",
    ">>> new_greeting = 'J' + greeting[1:]\n",
    ">>> new_greeting"
   ]
  },
  {
   "cell_type": "code",
   "execution_count": 9,
   "id": "d2d35870",
   "metadata": {},
   "outputs": [],
   "source": [
    "def find(word, letter):\n",
    "    index = 0\n",
    "    while index < len(word):\n",
    "        if word[index] == letter:\n",
    "            return index\n",
    "        index = index + 1\n",
    "    return -1"
   ]
  },
  {
   "cell_type": "markdown",
   "id": "009a0264",
   "metadata": {},
   "source": [
    "## 8.8 String methods"
   ]
  },
  {
   "cell_type": "markdown",
   "id": "cd66e773",
   "metadata": {},
   "source": [
    "Strings provide methods that perform a variety of useful operations. A method is similar\n",
    "to a function—it takes arguments and returns a value—but the syntax is different. For\n",
    "example, the method upper takes a string and returns a new string with all uppercase\n",
    "letters."
   ]
  },
  {
   "cell_type": "markdown",
   "id": "809b9ca0",
   "metadata": {},
   "source": [
    "Instead of the function syntax upper(word), it uses the method syntax word.upper()."
   ]
  },
  {
   "cell_type": "code",
   "execution_count": 10,
   "id": "1bd8dfec",
   "metadata": {},
   "outputs": [
    {
     "data": {
      "text/plain": [
       "'BANANA'"
      ]
     },
     "execution_count": 10,
     "metadata": {},
     "output_type": "execute_result"
    }
   ],
   "source": [
    "word = 'banana'\n",
    "new_word = word.upper()\n",
    "new_word"
   ]
  },
  {
   "cell_type": "markdown",
   "id": "728e280c",
   "metadata": {},
   "source": [
    "This form of dot notation specifies the name of the method, upper, and the name of the\n",
    "string to apply the method to, word. The empty parentheses indicate that this method\n",
    "takes no arguments"
   ]
  },
  {
   "cell_type": "markdown",
   "id": "cc1a6eb5",
   "metadata": {},
   "source": [
    "A method call is called an invocation; in this case, we would say that we are invoking\n",
    "upper on word."
   ]
  },
  {
   "cell_type": "markdown",
   "id": "dfa087d1",
   "metadata": {},
   "source": [
    "As it turns out, there is a string method named find that is remarkably similar to the\n",
    "function we wrote:"
   ]
  },
  {
   "cell_type": "code",
   "execution_count": 1,
   "id": "b83d1087",
   "metadata": {},
   "outputs": [
    {
     "data": {
      "text/plain": [
       "1"
      ]
     },
     "execution_count": 1,
     "metadata": {},
     "output_type": "execute_result"
    }
   ],
   "source": [
    "word = 'banana'\n",
    ">>> index = word.find('a')\n",
    ">>> index"
   ]
  },
  {
   "cell_type": "markdown",
   "id": "9fe68670",
   "metadata": {},
   "source": [
    "In this example, we invoke find on word and pass the letter we are looking for as a parameter."
   ]
  },
  {
   "cell_type": "markdown",
   "id": "05ef0635",
   "metadata": {},
   "source": [
    "Actually, the find method is more general than our function; it can find substrings, not just\n",
    "characters:"
   ]
  },
  {
   "cell_type": "code",
   "execution_count": 2,
   "id": "77fdaacd",
   "metadata": {},
   "outputs": [
    {
     "data": {
      "text/plain": [
       "2"
      ]
     },
     "execution_count": 2,
     "metadata": {},
     "output_type": "execute_result"
    }
   ],
   "source": [
    "word.find('na')"
   ]
  },
  {
   "cell_type": "markdown",
   "id": "3b8f5c7f",
   "metadata": {},
   "source": [
    "By default, find starts at the beginning of the string, but it can take a second argument, the\n",
    "index where it should start:"
   ]
  },
  {
   "cell_type": "code",
   "execution_count": 3,
   "id": "ae12ff55",
   "metadata": {},
   "outputs": [
    {
     "data": {
      "text/plain": [
       "4"
      ]
     },
     "execution_count": 3,
     "metadata": {},
     "output_type": "execute_result"
    }
   ],
   "source": [
    "word.find('na', 3)"
   ]
  },
  {
   "cell_type": "markdown",
   "id": "6dab4a71",
   "metadata": {},
   "source": [
    "This is an example of an optional argument; find can also take a third argument, the index\n",
    "where it should stop:"
   ]
  },
  {
   "cell_type": "code",
   "execution_count": 4,
   "id": "f536972c",
   "metadata": {},
   "outputs": [
    {
     "data": {
      "text/plain": [
       "-1"
      ]
     },
     "execution_count": 4,
     "metadata": {},
     "output_type": "execute_result"
    }
   ],
   "source": [
    "name = 'bob'\n",
    ">>> name.find('b', 1, 2)"
   ]
  },
  {
   "cell_type": "markdown",
   "id": "1c895df0",
   "metadata": {},
   "source": [
    "This search fails because b does not appear in the index range from 1 to 2, not including 2.\n",
    "Searching up to, but not including, the second index makes find consistent with the slice\n",
    "operator."
   ]
  },
  {
   "cell_type": "markdown",
   "id": "e4108307",
   "metadata": {},
   "source": [
    "## 8.9 The in operator"
   ]
  },
  {
   "cell_type": "markdown",
   "id": "9f346b7a",
   "metadata": {},
   "source": [
    "The word in is a boolean operator that takes two strings and returns True if the first appears\n",
    "as a substring in the second:"
   ]
  },
  {
   "cell_type": "code",
   "execution_count": 5,
   "id": "2ed4e35a",
   "metadata": {},
   "outputs": [
    {
     "data": {
      "text/plain": [
       "True"
      ]
     },
     "execution_count": 5,
     "metadata": {},
     "output_type": "execute_result"
    }
   ],
   "source": [
    "'a' in 'banana'"
   ]
  },
  {
   "cell_type": "code",
   "execution_count": 6,
   "id": "e27e75cb",
   "metadata": {},
   "outputs": [
    {
     "data": {
      "text/plain": [
       "False"
      ]
     },
     "execution_count": 6,
     "metadata": {},
     "output_type": "execute_result"
    }
   ],
   "source": [
    ">>> 'seed' in 'banana'"
   ]
  },
  {
   "cell_type": "code",
   "execution_count": null,
   "id": "894c18ed",
   "metadata": {},
   "outputs": [],
   "source": []
  }
 ],
 "metadata": {
  "kernelspec": {
   "display_name": "Python 3 (ipykernel)",
   "language": "python",
   "name": "python3"
  },
  "language_info": {
   "codemirror_mode": {
    "name": "ipython",
    "version": 3
   },
   "file_extension": ".py",
   "mimetype": "text/x-python",
   "name": "python",
   "nbconvert_exporter": "python",
   "pygments_lexer": "ipython3",
   "version": "3.6.13"
  }
 },
 "nbformat": 4,
 "nbformat_minor": 5
}
