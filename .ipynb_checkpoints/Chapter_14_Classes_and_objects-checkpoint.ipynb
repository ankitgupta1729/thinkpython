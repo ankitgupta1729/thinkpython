{
 "cells": [
  {
   "cell_type": "markdown",
   "id": "ede8fc26",
   "metadata": {},
   "source": [
    "we will create a type called Point that represents a point in two-dimensional\n",
    "space.      \n",
    "      \n",
    "In mathematical notation, points are often written in parentheses with a comma separating\n",
    "the coordinates. For example, (0, 0) represents the origin, and (x, y) represents the point x\n",
    "units to the right and y units up from the origin."
   ]
  },
  {
   "cell_type": "markdown",
   "id": "020d0e5a",
   "metadata": {},
   "source": [
    "There are several ways we might represent points in Python:     \n",
    "   \n",
    "• We could store the coordinates separately in two variables, x and y.    \n",
    "  \n",
    "• We could store the coordinates as elements in a list or tuple.   \n",
    "  \n",
    "• We could create a new type to represent points as objects."
   ]
  },
  {
   "cell_type": "markdown",
   "id": "4eaaa259",
   "metadata": {},
   "source": [
    "Creating a new type is more complicated than the other options, but it has advantages that\n",
    "will be apparent soon."
   ]
  },
  {
   "cell_type": "markdown",
   "id": "cefe7090",
   "metadata": {},
   "source": [
    "A programmer-defined type is also called a class. A class definition looks like this:"
   ]
  },
  {
   "cell_type": "code",
   "execution_count": 1,
   "id": "63788a25",
   "metadata": {},
   "outputs": [],
   "source": [
    "class Point:\n",
    "    \"\"\"Represents a point in 2-D space.\"\"\""
   ]
  },
  {
   "cell_type": "markdown",
   "id": "50782a45",
   "metadata": {},
   "source": [
    "The header indicates that the new class is called Point. The body is a docstring that explains\n",
    "what the class is for. You can define variables and methods inside a class definition,\n",
    "but we will get back to that later."
   ]
  },
  {
   "cell_type": "markdown",
   "id": "b3aaa95b",
   "metadata": {},
   "source": [
    "Defining a class named Point creates a class object."
   ]
  },
  {
   "cell_type": "code",
   "execution_count": 3,
   "id": "973bd93d",
   "metadata": {},
   "outputs": [
    {
     "name": "stdout",
     "output_type": "stream",
     "text": [
      "<class '__main__.Point'>\n"
     ]
    }
   ],
   "source": [
    "print(Point)"
   ]
  },
  {
   "cell_type": "markdown",
   "id": "97ae8911",
   "metadata": {},
   "source": [
    "Because Point is defined at the top level, its “full name” is __main__.Point."
   ]
  },
  {
   "cell_type": "markdown",
   "id": "c05e4d04",
   "metadata": {},
   "source": [
    "The class object is like a factory for creating objects. To create a Point, you call Point as if it\n",
    "were a function."
   ]
  },
  {
   "cell_type": "code",
   "execution_count": 4,
   "id": "c9341ea4",
   "metadata": {},
   "outputs": [
    {
     "name": "stdout",
     "output_type": "stream",
     "text": [
      "<__main__.Point object at 0x00000277E6B05748>\n"
     ]
    }
   ],
   "source": [
    "blank = Point()\n",
    "print(blank)"
   ]
  },
  {
   "cell_type": "markdown",
   "id": "7763a82b",
   "metadata": {},
   "source": [
    "The return value is a reference to a Point object, which we assign to blank."
   ]
  },
  {
   "cell_type": "markdown",
   "id": "920af481",
   "metadata": {},
   "source": [
    "Creating a new object is called instantiation, and the object is an instance of the class."
   ]
  },
  {
   "cell_type": "markdown",
   "id": "375b945e",
   "metadata": {},
   "source": [
    "When you print an instance, Python tells you what class it belongs to and where it is stored\n",
    "in memory (the prefix 0x means that the following number is in hexadecimal)."
   ]
  },
  {
   "cell_type": "markdown",
   "id": "ed08a82a",
   "metadata": {},
   "source": [
    "Every object is an instance of some class, so “object” and “instance” are interchangeable.\n",
    "But in this chapter I use “instance” to indicate that I am talking about a programmer defined\n",
    "type."
   ]
  },
  {
   "cell_type": "markdown",
   "id": "37b880eb",
   "metadata": {},
   "source": [
    "## 15.2 Attributes"
   ]
  },
  {
   "cell_type": "markdown",
   "id": "2f575696",
   "metadata": {},
   "source": [
    "You can assign values to an instance using dot notation:"
   ]
  },
  {
   "cell_type": "code",
   "execution_count": 5,
   "id": "11bd565f",
   "metadata": {},
   "outputs": [],
   "source": [
    "blank.x = 3.0\n",
    "blank.y = 4.0"
   ]
  },
  {
   "cell_type": "markdown",
   "id": "b8c88d9c",
   "metadata": {},
   "source": [
    "This syntax is similar to the syntax for selecting a variable from a module, such as math.pi\n",
    "or string.whitespace. In this case, though, we are assigning values to named elements of\n",
    "an object. These elements are called attributes"
   ]
  },
  {
   "cell_type": "code",
   "execution_count": 6,
   "id": "44704bd9",
   "metadata": {},
   "outputs": [
    {
     "name": "stdout",
     "output_type": "stream",
     "text": [
      "4.0\n",
      "3.0\n"
     ]
    }
   ],
   "source": [
    "print(blank.y)\n",
    "x = blank.x\n",
    "print(x)"
   ]
  },
  {
   "cell_type": "markdown",
   "id": "7c7ec138",
   "metadata": {},
   "source": [
    "The expression blank.x means, “Go to the object blank refers to and get the value of x.” In\n",
    "the example, we assign that value to a variable named x. There is no conflict between the\n",
    "variable x and the attribute x."
   ]
  },
  {
   "cell_type": "code",
   "execution_count": 7,
   "id": "539bf78d",
   "metadata": {},
   "outputs": [
    {
     "data": {
      "text/plain": [
       "'(3, 4)'"
      ]
     },
     "execution_count": 7,
     "metadata": {},
     "output_type": "execute_result"
    }
   ],
   "source": [
    "'(%g, %g)' % (blank.x, blank.y)"
   ]
  },
  {
   "cell_type": "code",
   "execution_count": 9,
   "id": "fce7890c",
   "metadata": {},
   "outputs": [
    {
     "name": "stdout",
     "output_type": "stream",
     "text": [
      "5.0\n"
     ]
    }
   ],
   "source": [
    "import math\n",
    "distance = math.sqrt(blank.x**2 + blank.y**2)\n",
    "print(distance)"
   ]
  },
  {
   "cell_type": "markdown",
   "id": "8ec84c1f",
   "metadata": {},
   "source": [
    "You can pass an instance as an argument in the usual way. For example:"
   ]
  },
  {
   "cell_type": "code",
   "execution_count": 10,
   "id": "3cafac33",
   "metadata": {},
   "outputs": [],
   "source": [
    "def print_point(p):\n",
    "    print('(%g, %g)' % (p.x, p.y))"
   ]
  },
  {
   "cell_type": "markdown",
   "id": "2f10a1d7",
   "metadata": {},
   "source": [
    "print_point takes a point as an argument and displays it in mathematical notation. To\n",
    "invoke it, you can pass blank as an argument:"
   ]
  },
  {
   "cell_type": "code",
   "execution_count": 11,
   "id": "d363162c",
   "metadata": {},
   "outputs": [
    {
     "name": "stdout",
     "output_type": "stream",
     "text": [
      "(3, 4)\n"
     ]
    }
   ],
   "source": [
    "print_point(blank)"
   ]
  },
  {
   "cell_type": "markdown",
   "id": "7174a24b",
   "metadata": {},
   "source": [
    "Inside the function, p is an alias for blank, so if the function modifies p, blank changes."
   ]
  },
  {
   "cell_type": "markdown",
   "id": "52b51721",
   "metadata": {},
   "source": [
    "## 15.3 Rectangles"
   ]
  },
  {
   "cell_type": "code",
   "execution_count": 12,
   "id": "b69047f1",
   "metadata": {},
   "outputs": [],
   "source": [
    "class Rectangle:\n",
    "    \"\"\"Represents a rectangle.\n",
    "    attributes: width, height, corner.\n",
    "    \"\"\""
   ]
  },
  {
   "cell_type": "markdown",
   "id": "c3b2e651",
   "metadata": {},
   "source": [
    "The docstring lists the attributes: width and height are numbers; corner is a Point object\n",
    "that specifies the lower-left corner."
   ]
  },
  {
   "cell_type": "markdown",
   "id": "8d060479",
   "metadata": {},
   "source": [
    "To represent a rectangle, you have to instantiate a Rectangle object and assign values to the\n",
    "attributes:"
   ]
  },
  {
   "cell_type": "code",
   "execution_count": 13,
   "id": "baa6e4ce",
   "metadata": {},
   "outputs": [],
   "source": [
    "box = Rectangle()\n",
    "box.width = 100.0\n",
    "box.height = 200.0\n",
    "box.corner = Point()\n",
    "box.corner.x = 0.0\n",
    "box.corner.y = 0.0"
   ]
  },
  {
   "cell_type": "markdown",
   "id": "e3abaa9a",
   "metadata": {},
   "source": [
    "The expression box.corner.x means, “Go to the object box refers to and select the attribute\n",
    "named corner; then go to that object and select the attribute named x.”"
   ]
  },
  {
   "cell_type": "markdown",
   "id": "19fedc38",
   "metadata": {},
   "source": [
    "An object that is an attribute of another object is\n",
    "embedded."
   ]
  },
  {
   "cell_type": "markdown",
   "id": "2fa1bab7",
   "metadata": {},
   "source": [
    "## 15.4 Instances as return values"
   ]
  },
  {
   "cell_type": "markdown",
   "id": "730e8fd5",
   "metadata": {},
   "source": [
    "Functions can return instances. For example, find_center takes a Rectangle as an argument\n",
    "and returns a Point that contains the coordinates of the center of the Rectangle:"
   ]
  },
  {
   "cell_type": "code",
   "execution_count": 14,
   "id": "e3a5825f",
   "metadata": {},
   "outputs": [],
   "source": [
    "def find_center(rect):\n",
    "    p = Point()\n",
    "    p.x = rect.corner.x + rect.width/2\n",
    "    p.y = rect.corner.y + rect.height/2\n",
    "    return p"
   ]
  },
  {
   "cell_type": "code",
   "execution_count": 15,
   "id": "211bc3ec",
   "metadata": {},
   "outputs": [
    {
     "name": "stdout",
     "output_type": "stream",
     "text": [
      "(50, 100)\n"
     ]
    }
   ],
   "source": [
    "center = find_center(box)\n",
    "print_point(center)"
   ]
  },
  {
   "cell_type": "markdown",
   "id": "24b64fa8",
   "metadata": {},
   "source": [
    "## 15.5 Objects are mutable"
   ]
  },
  {
   "cell_type": "markdown",
   "id": "afbbc8b3",
   "metadata": {},
   "source": [
    "You can change the state of an object by making an assignment to one of its attributes. For\n",
    "example, to change the size of a rectangle without changing its position, you can modify\n",
    "the values of width and height:"
   ]
  },
  {
   "cell_type": "code",
   "execution_count": 16,
   "id": "27f3e013",
   "metadata": {},
   "outputs": [],
   "source": [
    "box.width = box.width + 50\n",
    "box.height = box.height + 100"
   ]
  },
  {
   "cell_type": "markdown",
   "id": "b83aa183",
   "metadata": {},
   "source": [
    "You can also write functions that modify objects."
   ]
  },
  {
   "cell_type": "code",
   "execution_count": 17,
   "id": "7a5def06",
   "metadata": {},
   "outputs": [],
   "source": [
    "def grow_rectangle(rect, dwidth, dheight):\n",
    "    rect.width += dwidth\n",
    "    rect.height += dheight"
   ]
  },
  {
   "cell_type": "code",
   "execution_count": 18,
   "id": "815fd589",
   "metadata": {},
   "outputs": [
    {
     "data": {
      "text/plain": [
       "(150.0, 300.0)"
      ]
     },
     "execution_count": 18,
     "metadata": {},
     "output_type": "execute_result"
    }
   ],
   "source": [
    "box.width, box.height"
   ]
  },
  {
   "cell_type": "code",
   "execution_count": 19,
   "id": "856798c9",
   "metadata": {},
   "outputs": [],
   "source": [
    "grow_rectangle(box, 50, 100)"
   ]
  },
  {
   "cell_type": "code",
   "execution_count": 20,
   "id": "1b1c67ae",
   "metadata": {},
   "outputs": [
    {
     "data": {
      "text/plain": [
       "(200.0, 400.0)"
      ]
     },
     "execution_count": 20,
     "metadata": {},
     "output_type": "execute_result"
    }
   ],
   "source": [
    "box.width, box.height"
   ]
  },
  {
   "cell_type": "markdown",
   "id": "a72707e2",
   "metadata": {},
   "source": [
    "Inside the function, rect is an alias for box, so when the function modifies rect, box\n",
    "changes."
   ]
  },
  {
   "cell_type": "markdown",
   "id": "8742480e",
   "metadata": {},
   "source": [
    "## 15.6 Copying"
   ]
  },
  {
   "cell_type": "markdown",
   "id": "d820b4b4",
   "metadata": {},
   "source": [
    "Aliasing can make a program difficult to read because changes in one place might have\n",
    "unexpected effects in another place. It is hard to keep track of all the variables that might\n",
    "refer to a given object"
   ]
  },
  {
   "cell_type": "markdown",
   "id": "01cb6a80",
   "metadata": {},
   "source": [
    "Copying an object is often an alternative to aliasing. The copy module contains a function\n",
    "called copy that can duplicate any object:"
   ]
  },
  {
   "cell_type": "code",
   "execution_count": 21,
   "id": "0a0a3ac9",
   "metadata": {},
   "outputs": [],
   "source": [
    "p1 = Point()\n",
    "p1.x = 3.0\n",
    "p1.y = 4.0"
   ]
  },
  {
   "cell_type": "code",
   "execution_count": 23,
   "id": "0d494684",
   "metadata": {},
   "outputs": [],
   "source": [
    "import copy\n",
    "p2=copy.copy(p1)"
   ]
  },
  {
   "cell_type": "markdown",
   "id": "308eaf3a",
   "metadata": {},
   "source": [
    "p1 and p2 contain the same data, but they are not the same Point."
   ]
  },
  {
   "cell_type": "code",
   "execution_count": 24,
   "id": "b470758b",
   "metadata": {},
   "outputs": [
    {
     "name": "stdout",
     "output_type": "stream",
     "text": [
      "<__main__.Point object at 0x00000277E6BDB780>\n",
      "<__main__.Point object at 0x00000277E61C38D0>\n"
     ]
    }
   ],
   "source": [
    "print(p1)\n",
    "print(p2)"
   ]
  },
  {
   "cell_type": "code",
   "execution_count": 25,
   "id": "e279dcc6",
   "metadata": {},
   "outputs": [
    {
     "name": "stdout",
     "output_type": "stream",
     "text": [
      "(3, 4)\n",
      "(3, 4)\n"
     ]
    }
   ],
   "source": [
    "print_point(p1)\n",
    "print_point(p2)"
   ]
  },
  {
   "cell_type": "code",
   "execution_count": 26,
   "id": "4841bc41",
   "metadata": {},
   "outputs": [
    {
     "data": {
      "text/plain": [
       "False"
      ]
     },
     "execution_count": 26,
     "metadata": {},
     "output_type": "execute_result"
    }
   ],
   "source": [
    "p1 is p2"
   ]
  },
  {
   "cell_type": "code",
   "execution_count": 27,
   "id": "9725499f",
   "metadata": {},
   "outputs": [
    {
     "data": {
      "text/plain": [
       "False"
      ]
     },
     "execution_count": 27,
     "metadata": {},
     "output_type": "execute_result"
    }
   ],
   "source": [
    "p1 == p2"
   ]
  },
  {
   "cell_type": "markdown",
   "id": "4f2a94c6",
   "metadata": {},
   "source": [
    "The is operator indicates that p1 and p2 are not the same object, which is what we expected.\n",
    "But you might have expected == to yield True because these points contain the\n",
    "same data. In that case, you will be disappointed to learn that for instances, the default\n",
    "behavior of the == operator is the same as the is operator; it checks object identity, not\n",
    "object equivalence. That’s because for programmer-defined types, Python doesn’t know\n",
    "what should be considered equivalent. At least, not yet."
   ]
  },
  {
   "cell_type": "markdown",
   "id": "55ff320e",
   "metadata": {},
   "source": [
    "If you use copy.copy to duplicate a Rectangle, you will find that it copies the Rectangle\n",
    "object but not the embedded Point."
   ]
  },
  {
   "cell_type": "code",
   "execution_count": 28,
   "id": "10b3ed97",
   "metadata": {},
   "outputs": [
    {
     "data": {
      "text/plain": [
       "False"
      ]
     },
     "execution_count": 28,
     "metadata": {},
     "output_type": "execute_result"
    }
   ],
   "source": [
    "box2 = copy.copy(box)\n",
    "box2 is box"
   ]
  },
  {
   "cell_type": "code",
   "execution_count": 29,
   "id": "08ece02d",
   "metadata": {},
   "outputs": [
    {
     "data": {
      "text/plain": [
       "True"
      ]
     },
     "execution_count": 29,
     "metadata": {},
     "output_type": "execute_result"
    }
   ],
   "source": [
    "box2.corner is box.corner"
   ]
  },
  {
   "cell_type": "markdown",
   "id": "cbe73e05",
   "metadata": {},
   "source": [
    "This operation is called a shallow\n",
    "copy because it copies the object and any references it contains, but not the embedded\n",
    "objects."
   ]
  },
  {
   "attachments": {
    "Capture.PNG": {
     "image/png": "[encoded data removed]"
    }
   },
   "cell_type": "markdown",
   "id": "f5e675ea",
   "metadata": {},
   "source": [
    "![Capture.PNG](attachment:Capture.PNG)"
   ]
  },
  {
   "cell_type": "markdown",
   "id": "63cf4519",
   "metadata": {},
   "source": [
    "Fortunately, the copy module provides a method named deepcopy that copies not only the\n",
    "object but also the objects it refers to, and the objects they refer to, and so on. You will not\n",
    "be surprised to learn that this operation is called a deep copy."
   ]
  },
  {
   "cell_type": "code",
   "execution_count": 30,
   "id": "df251e32",
   "metadata": {},
   "outputs": [
    {
     "data": {
      "text/plain": [
       "False"
      ]
     },
     "execution_count": 30,
     "metadata": {},
     "output_type": "execute_result"
    }
   ],
   "source": [
    "box3 = copy.deepcopy(box)\n",
    "box3 is box"
   ]
  },
  {
   "cell_type": "code",
   "execution_count": 31,
   "id": "b646aea9",
   "metadata": {},
   "outputs": [
    {
     "data": {
      "text/plain": [
       "False"
      ]
     },
     "execution_count": 31,
     "metadata": {},
     "output_type": "execute_result"
    }
   ],
   "source": [
    "box3.corner is box.corner"
   ]
  },
  {
   "cell_type": "markdown",
   "id": "21d3ac53",
   "metadata": {},
   "source": [
    "box3 and box are completely separate objects"
   ]
  },
  {
   "cell_type": "code",
   "execution_count": 33,
   "id": "b18f36da",
   "metadata": {},
   "outputs": [
    {
     "data": {
      "text/plain": [
       "True"
      ]
     },
     "execution_count": 33,
     "metadata": {},
     "output_type": "execute_result"
    }
   ],
   "source": [
    "p = Point()\n",
    "p.x = 3\n",
    "p.y = 4\n",
    "isinstance(p, Point)"
   ]
  },
  {
   "cell_type": "markdown",
   "id": "e48c589f",
   "metadata": {},
   "source": [
    "If you are not sure whether an object has a particular attribute, you can use the built-in\n",
    "function hasattr:"
   ]
  },
  {
   "cell_type": "code",
   "execution_count": 34,
   "id": "8f531380",
   "metadata": {},
   "outputs": [
    {
     "data": {
      "text/plain": [
       "True"
      ]
     },
     "execution_count": 34,
     "metadata": {},
     "output_type": "execute_result"
    }
   ],
   "source": [
    "hasattr(p, 'x')"
   ]
  },
  {
   "cell_type": "code",
   "execution_count": 35,
   "id": "b5f83f81",
   "metadata": {},
   "outputs": [
    {
     "data": {
      "text/plain": [
       "False"
      ]
     },
     "execution_count": 35,
     "metadata": {},
     "output_type": "execute_result"
    }
   ],
   "source": [
    "hasattr(p, 'z')"
   ]
  },
  {
   "cell_type": "markdown",
   "id": "3f18aba8",
   "metadata": {},
   "source": [
    "The first argument can be any object; the second argument is a string that contains the name\n",
    "of the attribute."
   ]
  },
  {
   "cell_type": "code",
   "execution_count": 36,
   "id": "e4e7cb5c",
   "metadata": {},
   "outputs": [],
   "source": [
    "#You can also use a try statement to see if the object has the attributes you need:\n",
    "try:\n",
    "    x = p.x\n",
    "except AttributeError:\n",
    "    x = 0"
   ]
  },
  {
   "cell_type": "code",
   "execution_count": null,
   "id": "e22f1387",
   "metadata": {},
   "outputs": [],
   "source": []
  }
 ],
 "metadata": {
  "kernelspec": {
   "display_name": "Python 3 (ipykernel)",
   "language": "python",
   "name": "python3"
  },
  "language_info": {
   "codemirror_mode": {
    "name": "ipython",
    "version": 3
   },
   "file_extension": ".py",
   "mimetype": "text/x-python",
   "name": "python",
   "nbconvert_exporter": "python",
   "pygments_lexer": "ipython3",
   "version": "3.6.13"
  }
 },
 "nbformat": 4,
 "nbformat_minor": 5
}
