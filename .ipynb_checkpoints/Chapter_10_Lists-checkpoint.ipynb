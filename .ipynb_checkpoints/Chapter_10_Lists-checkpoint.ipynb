{
 "cells": [
  {
   "cell_type": "markdown",
   "id": "34875bfa",
   "metadata": {},
   "source": [
    "A for loop over an empty list never runs the body:"
   ]
  },
  {
   "cell_type": "code",
   "execution_count": 1,
   "id": "160e1957",
   "metadata": {},
   "outputs": [],
   "source": [
    "for x in []:\n",
    "    print('This never happens.')"
   ]
  },
  {
   "cell_type": "markdown",
   "id": "11420e35",
   "metadata": {},
   "source": [
    "The + operator concatenates lists:"
   ]
  },
  {
   "cell_type": "code",
   "execution_count": 2,
   "id": "aa1c72ab",
   "metadata": {},
   "outputs": [
    {
     "data": {
      "text/plain": [
       "[1, 2, 3, 4, 5, 6]"
      ]
     },
     "execution_count": 2,
     "metadata": {},
     "output_type": "execute_result"
    }
   ],
   "source": [
    "a = [1, 2, 3]\n",
    ">>> b = [4, 5, 6]\n",
    ">>> c = a + b\n",
    "c"
   ]
  },
  {
   "cell_type": "markdown",
   "id": "efe7f274",
   "metadata": {},
   "source": [
    "The * operator repeats a list a given number of times:"
   ]
  },
  {
   "cell_type": "code",
   "execution_count": 3,
   "id": "e0cde1f3",
   "metadata": {},
   "outputs": [
    {
     "data": {
      "text/plain": [
       "[0, 0, 0, 0]"
      ]
     },
     "execution_count": 3,
     "metadata": {},
     "output_type": "execute_result"
    }
   ],
   "source": [
    "[0] * 4"
   ]
  },
  {
   "cell_type": "code",
   "execution_count": 4,
   "id": "2fd1131b",
   "metadata": {},
   "outputs": [
    {
     "data": {
      "text/plain": [
       "[1, 2, 3, 1, 2, 3, 1, 2, 3]"
      ]
     },
     "execution_count": 4,
     "metadata": {},
     "output_type": "execute_result"
    }
   ],
   "source": [
    "[1, 2, 3] * 3"
   ]
  },
  {
   "cell_type": "code",
   "execution_count": 5,
   "id": "34a321b0",
   "metadata": {},
   "outputs": [
    {
     "data": {
      "text/plain": [
       "['d', 'e', 'f']"
      ]
     },
     "execution_count": 5,
     "metadata": {},
     "output_type": "execute_result"
    }
   ],
   "source": [
    ">>> t = ['a', 'b', 'c', 'd', 'e', 'f']\n",
    ">>> t[1:3]\n",
    "['b', 'c']\n",
    ">>> t[:4]\n",
    "['a', 'b', 'c', 'd']\n",
    ">>> t[3:]\n",
    "['d', 'e', 'f']"
   ]
  },
  {
   "cell_type": "markdown",
   "id": "7081ec6a",
   "metadata": {},
   "source": [
    "If you omit the first index, the slice starts at the beginning. If you omit the second, the slice\n",
    "goes to the end. So if you omit both, the slice is a copy of the whole list."
   ]
  },
  {
   "cell_type": "code",
   "execution_count": 6,
   "id": "e1f92a0a",
   "metadata": {},
   "outputs": [
    {
     "data": {
      "text/plain": [
       "['a', 'b', 'c', 'd', 'e', 'f']"
      ]
     },
     "execution_count": 6,
     "metadata": {},
     "output_type": "execute_result"
    }
   ],
   "source": [
    "t[:]"
   ]
  },
  {
   "cell_type": "code",
   "execution_count": 7,
   "id": "534914aa",
   "metadata": {},
   "outputs": [
    {
     "data": {
      "text/plain": [
       "['a', 'x', 'y', 'd', 'e', 'f']"
      ]
     },
     "execution_count": 7,
     "metadata": {},
     "output_type": "execute_result"
    }
   ],
   "source": [
    " t = ['a', 'b', 'c', 'd', 'e', 'f']\n",
    ">>> t[1:3] = ['x', 'y']\n",
    ">>> t"
   ]
  },
  {
   "cell_type": "markdown",
   "id": "2db58525",
   "metadata": {},
   "source": [
    "Python provides methods that operate on lists. For example, append adds a new element\n",
    "to the end of a list:"
   ]
  },
  {
   "cell_type": "code",
   "execution_count": 8,
   "id": "0784d0f1",
   "metadata": {},
   "outputs": [
    {
     "data": {
      "text/plain": [
       "['a', 'b', 'c', 'd']"
      ]
     },
     "execution_count": 8,
     "metadata": {},
     "output_type": "execute_result"
    }
   ],
   "source": [
    "t = ['a', 'b', 'c']\n",
    ">>> t.append('d')\n",
    ">>> t"
   ]
  },
  {
   "cell_type": "markdown",
   "id": "d7d22c47",
   "metadata": {},
   "source": [
    "extend takes a list as an argument and appends all of the elements:\n"
   ]
  },
  {
   "cell_type": "code",
   "execution_count": 9,
   "id": "08396e6f",
   "metadata": {},
   "outputs": [
    {
     "data": {
      "text/plain": [
       "['a', 'b', 'c', 'd', 'e']"
      ]
     },
     "execution_count": 9,
     "metadata": {},
     "output_type": "execute_result"
    }
   ],
   "source": [
    " t1 = ['a', 'b', 'c']\n",
    ">>> t2 = ['d', 'e']\n",
    ">>> t1.extend(t2)\n",
    ">>> t1"
   ]
  },
  {
   "cell_type": "markdown",
   "id": "fd87d117",
   "metadata": {},
   "source": [
    "This example leaves t2 unmodified."
   ]
  },
  {
   "cell_type": "markdown",
   "id": "4eebd426",
   "metadata": {},
   "source": [
    "sort arranges the elements of the list from low to high:"
   ]
  },
  {
   "cell_type": "code",
   "execution_count": 1,
   "id": "ffbe6809",
   "metadata": {},
   "outputs": [
    {
     "data": {
      "text/plain": [
       "['a', 'b', 'c', 'd', 'e']"
      ]
     },
     "execution_count": 1,
     "metadata": {},
     "output_type": "execute_result"
    }
   ],
   "source": [
    "t = ['d', 'c', 'e', 'b', 'a']\n",
    ">>> t.sort()\n",
    ">>> t"
   ]
  },
  {
   "cell_type": "markdown",
   "id": "53c64893",
   "metadata": {},
   "source": [
    "Most list methods are void; they modify the list and return None. If you accidentally write\n",
    "t = t.sort(), you will be disappointed with the result."
   ]
  },
  {
   "cell_type": "code",
   "execution_count": 2,
   "id": "57d5fae8",
   "metadata": {},
   "outputs": [],
   "source": [
    "t = t.sort()"
   ]
  },
  {
   "cell_type": "code",
   "execution_count": 3,
   "id": "8cc8775f",
   "metadata": {},
   "outputs": [
    {
     "data": {
      "text/plain": [
       "NoneType"
      ]
     },
     "execution_count": 3,
     "metadata": {},
     "output_type": "execute_result"
    }
   ],
   "source": [
    "type(t)"
   ]
  },
  {
   "cell_type": "markdown",
   "id": "1d35c9af",
   "metadata": {},
   "source": [
    "## Map, filter and reduce"
   ]
  },
  {
   "cell_type": "markdown",
   "id": "eb236519",
   "metadata": {},
   "source": [
    "To add up all the numbers in a list, you can use a loop like this:"
   ]
  },
  {
   "cell_type": "code",
   "execution_count": 13,
   "id": "e13cc7c3",
   "metadata": {},
   "outputs": [],
   "source": [
    "def add_all(t):\n",
    "    total = 0\n",
    "    for x in t:\n",
    "        total += x # augmented assignment statement\n",
    "    return total"
   ]
  },
  {
   "cell_type": "markdown",
   "id": "a99dfd39",
   "metadata": {},
   "source": [
    "Adding up the elements of a list is such a common operation that Python provides it as a\n",
    "built-in function, sum:"
   ]
  },
  {
   "cell_type": "code",
   "execution_count": 14,
   "id": "cf1618cf",
   "metadata": {},
   "outputs": [
    {
     "data": {
      "text/plain": [
       "6"
      ]
     },
     "execution_count": 14,
     "metadata": {},
     "output_type": "execute_result"
    }
   ],
   "source": [
    "t = [1, 2, 3]\n",
    ">>> sum(t)\n"
   ]
  },
  {
   "cell_type": "markdown",
   "id": "b37e34e0",
   "metadata": {},
   "source": [
    "An operation like this that combines a sequence of elements into a single value is sometimes called reduce."
   ]
  },
  {
   "cell_type": "markdown",
   "id": "3aef7f99",
   "metadata": {},
   "source": [
    "Sometimes you want to traverse one list while building another. For example, the following\n",
    "function takes a list of strings and returns a new list that contains capitalized strings:"
   ]
  },
  {
   "cell_type": "code",
   "execution_count": 16,
   "id": "42737cba",
   "metadata": {},
   "outputs": [],
   "source": [
    "def capitalize_all(t):\n",
    "    res = []\n",
    "    for s in t:\n",
    "        res.append(s.capitalize())\n",
    "    return res\n"
   ]
  },
  {
   "cell_type": "markdown",
   "id": "bb46916b",
   "metadata": {},
   "source": [
    "res is initialized with an empty list; each time through the loop, we append the next element. So res is another kind of accumulator."
   ]
  },
  {
   "cell_type": "markdown",
   "id": "832e1cec",
   "metadata": {},
   "source": [
    "An operation like capitalize_all is sometimes called a map because it “maps” a function\n",
    "(in this case the method capitalize) onto each of the elements in a sequence."
   ]
  },
  {
   "cell_type": "markdown",
   "id": "4b00e089",
   "metadata": {},
   "source": [
    "Another common operation is to select some of the elements from a list and return a sublist.\n",
    "For example, the following function takes a list of strings and returns a list that contains\n",
    "only the uppercase strings:"
   ]
  },
  {
   "cell_type": "code",
   "execution_count": 18,
   "id": "c53da102",
   "metadata": {},
   "outputs": [],
   "source": [
    "def only_upper(t):\n",
    "    res = []\n",
    "    for s in t:\n",
    "        if s.isupper():\n",
    "            res.append(s)\n",
    "    return res"
   ]
  },
  {
   "cell_type": "markdown",
   "id": "55292b60",
   "metadata": {},
   "source": [
    "An operation like only_upper is called a filter because it selects some of the elements and\n",
    "filters out the others"
   ]
  },
  {
   "cell_type": "markdown",
   "id": "550de468",
   "metadata": {},
   "source": [
    "## Deleting elements"
   ]
  },
  {
   "cell_type": "markdown",
   "id": "0fa25fb8",
   "metadata": {},
   "source": [
    "There are several ways to delete elements from a list. If you know the index of the element\n",
    "you want, you can use pop:"
   ]
  },
  {
   "cell_type": "code",
   "execution_count": 20,
   "id": "2c652a19",
   "metadata": {},
   "outputs": [
    {
     "data": {
      "text/plain": [
       "['a', 'c']"
      ]
     },
     "execution_count": 20,
     "metadata": {},
     "output_type": "execute_result"
    }
   ],
   "source": [
    "t = ['a', 'b', 'c']\n",
    "x = t.pop(1)\n",
    "t"
   ]
  },
  {
   "cell_type": "code",
   "execution_count": 21,
   "id": "e7e4e67e",
   "metadata": {},
   "outputs": [
    {
     "data": {
      "text/plain": [
       "'b'"
      ]
     },
     "execution_count": 21,
     "metadata": {},
     "output_type": "execute_result"
    }
   ],
   "source": [
    "x"
   ]
  },
  {
   "cell_type": "markdown",
   "id": "39f8aad5",
   "metadata": {},
   "source": [
    "pop modifies the list and returns the element that was removed. If you don’t provide an\n",
    "index, it deletes and returns the last element."
   ]
  },
  {
   "cell_type": "markdown",
   "id": "babc7a48",
   "metadata": {},
   "source": [
    "If you don’t need the removed value, you can use the del operator:"
   ]
  },
  {
   "cell_type": "markdown",
   "id": "ff81c7b2",
   "metadata": {},
   "source": [
    "If you know the element you want to remove (but not the index), you can use remove:"
   ]
  },
  {
   "cell_type": "code",
   "execution_count": 22,
   "id": "a55b286d",
   "metadata": {},
   "outputs": [
    {
     "data": {
      "text/plain": [
       "['a', 'c']"
      ]
     },
     "execution_count": 22,
     "metadata": {},
     "output_type": "execute_result"
    }
   ],
   "source": [
    "t = ['a', 'b', 'c']\n",
    ">>> t.remove('b')\n",
    ">>> t\n"
   ]
  },
  {
   "cell_type": "markdown",
   "id": "a17415fc",
   "metadata": {},
   "source": [
    "The return value from remove is None."
   ]
  },
  {
   "cell_type": "markdown",
   "id": "36411e48",
   "metadata": {},
   "source": [
    "To remove more than one element, you can use del with a slice index:"
   ]
  },
  {
   "cell_type": "code",
   "execution_count": 23,
   "id": "098b82cc",
   "metadata": {},
   "outputs": [
    {
     "data": {
      "text/plain": [
       "['a', 'f']"
      ]
     },
     "execution_count": 23,
     "metadata": {},
     "output_type": "execute_result"
    }
   ],
   "source": [
    "t = ['a', 'b', 'c', 'd', 'e', 'f']\n",
    ">>> del t[1:5]\n",
    ">>> t\n"
   ]
  },
  {
   "cell_type": "markdown",
   "id": "b60c285e",
   "metadata": {},
   "source": [
    "The list function breaks a string into individual letters. If you want to break a string into\n",
    "words, you can use the split method:\n"
   ]
  },
  {
   "cell_type": "code",
   "execution_count": 24,
   "id": "90932b39",
   "metadata": {},
   "outputs": [
    {
     "data": {
      "text/plain": [
       "['pining', 'for', 'the', 'fjords']"
      ]
     },
     "execution_count": 24,
     "metadata": {},
     "output_type": "execute_result"
    }
   ],
   "source": [
    "s = 'pining for the fjords'\n",
    ">>> t = s.split()\n",
    ">>> t\n"
   ]
  },
  {
   "cell_type": "markdown",
   "id": "3e3b5f83",
   "metadata": {},
   "source": [
    "An optional argument called a delimiter specifies which characters to use as word boundaries. The following example uses a hyphen as a delimiter:"
   ]
  },
  {
   "cell_type": "code",
   "execution_count": 25,
   "id": "65a80ea7",
   "metadata": {},
   "outputs": [
    {
     "data": {
      "text/plain": [
       "['spam', 'spam', 'spam']"
      ]
     },
     "execution_count": 25,
     "metadata": {},
     "output_type": "execute_result"
    }
   ],
   "source": [
    " s = 'spam-spam-spam'\n",
    ">>> delimiter = '-'\n",
    ">>> t = s.split(delimiter)\n",
    ">>> t"
   ]
  },
  {
   "cell_type": "markdown",
   "id": "84c41d61",
   "metadata": {},
   "source": [
    "join is the inverse of split. It takes a list of strings and concatenates the elements. join is\n",
    "a string method, so you have to invoke it on the delimiter and pass the list as a parameter:"
   ]
  },
  {
   "cell_type": "code",
   "execution_count": 27,
   "id": "719a8be0",
   "metadata": {},
   "outputs": [
    {
     "data": {
      "text/plain": [
       "'pining for the fjords'"
      ]
     },
     "execution_count": 27,
     "metadata": {},
     "output_type": "execute_result"
    }
   ],
   "source": [
    "t = ['pining', 'for', 'the', 'fjords']\n",
    ">>> delimiter = ' '\n",
    ">>> s = delimiter.join(t)\n",
    ">>> s\n"
   ]
  },
  {
   "cell_type": "code",
   "execution_count": 28,
   "id": "bd4c1a6e",
   "metadata": {},
   "outputs": [
    {
     "data": {
      "text/plain": [
       "True"
      ]
     },
     "execution_count": 28,
     "metadata": {},
     "output_type": "execute_result"
    }
   ],
   "source": [
    ">>> a = 'banana'\n",
    ">>> b = 'banana'\n",
    ">>> a is b"
   ]
  },
  {
   "cell_type": "markdown",
   "id": "a35e5057",
   "metadata": {},
   "source": [
    "In this example, Python only created one string object, and both a and b refer to it. But\n",
    "when you create two lists, you get two objects:"
   ]
  },
  {
   "cell_type": "code",
   "execution_count": 29,
   "id": "7e116bcb",
   "metadata": {},
   "outputs": [
    {
     "data": {
      "text/plain": [
       "False"
      ]
     },
     "execution_count": 29,
     "metadata": {},
     "output_type": "execute_result"
    }
   ],
   "source": [
    "a = [1, 2, 3]\n",
    ">>> b = [1, 2, 3]\n",
    ">>> a is b\n",
    "False\n"
   ]
  },
  {
   "cell_type": "markdown",
   "id": "67a94800",
   "metadata": {},
   "source": [
    "In this case we would say that the two lists are equivalent, because they have the same elements, but not identical, because they are not the same object. If two objects are identical,\n",
    "they are also equivalent, but if they are equivalent, they are not necessarily identical."
   ]
  },
  {
   "cell_type": "code",
   "execution_count": 30,
   "id": "ed648f62",
   "metadata": {},
   "outputs": [
    {
     "data": {
      "text/plain": [
       "True"
      ]
     },
     "execution_count": 30,
     "metadata": {},
     "output_type": "execute_result"
    }
   ],
   "source": [
    " a = [1, 2, 3]\n",
    ">>> b = a\n",
    ">>> b is a"
   ]
  },
  {
   "cell_type": "markdown",
   "id": "29866ac7",
   "metadata": {},
   "source": [
    "The association of a variable with an object is called a reference. In this example, there are\n",
    "two references to the same object.\n"
   ]
  },
  {
   "cell_type": "markdown",
   "id": "2a3b7d50",
   "metadata": {},
   "source": [
    "An object with more than one reference has more than one name, so we say that the object\n",
    "is aliased.\n",
    "If the aliased object is mutable, changes made with one alias affect the other:"
   ]
  },
  {
   "cell_type": "markdown",
   "id": "321a8896",
   "metadata": {},
   "source": [
    "When you pass a list to a function, the function gets a reference to the list. If the function\n",
    "modifies the list, the caller sees the change. For example, delete_head removes the first\n",
    "element from a list:"
   ]
  },
  {
   "cell_type": "code",
   "execution_count": 31,
   "id": "ca3a46c4",
   "metadata": {},
   "outputs": [],
   "source": [
    "def delete_head(t):\n",
    "    del t[0]"
   ]
  },
  {
   "cell_type": "code",
   "execution_count": 32,
   "id": "a46cb46d",
   "metadata": {},
   "outputs": [
    {
     "data": {
      "text/plain": [
       "['b', 'c']"
      ]
     },
     "execution_count": 32,
     "metadata": {},
     "output_type": "execute_result"
    }
   ],
   "source": [
    "letters = ['a', 'b', 'c']\n",
    ">>> delete_head(letters)\n",
    ">>> letters"
   ]
  },
  {
   "cell_type": "markdown",
   "id": "c2a40106",
   "metadata": {},
   "source": [
    "It is important to distinguish between operations that modify lists and operations that create new lists. For example, the append method modifies a list, but the + operator creates a\n",
    "new list.\n"
   ]
  },
  {
   "cell_type": "code",
   "execution_count": 33,
   "id": "ca956009",
   "metadata": {},
   "outputs": [
    {
     "data": {
      "text/plain": [
       "[1, 2, 3]"
      ]
     },
     "execution_count": 33,
     "metadata": {},
     "output_type": "execute_result"
    }
   ],
   "source": [
    "t1 = [1, 2]\n",
    ">>> t2 = t1.append(3)\n",
    ">>> t1"
   ]
  },
  {
   "cell_type": "code",
   "execution_count": 36,
   "id": "35a8de5e",
   "metadata": {},
   "outputs": [
    {
     "name": "stdout",
     "output_type": "stream",
     "text": [
      "None\n"
     ]
    }
   ],
   "source": [
    "print(t2)"
   ]
  },
  {
   "cell_type": "markdown",
   "id": "cbc57204",
   "metadata": {},
   "source": [
    "The return value from append is None."
   ]
  },
  {
   "cell_type": "code",
   "execution_count": 37,
   "id": "82615fa2",
   "metadata": {},
   "outputs": [
    {
     "data": {
      "text/plain": [
       "[1, 2, 3]"
      ]
     },
     "execution_count": 37,
     "metadata": {},
     "output_type": "execute_result"
    }
   ],
   "source": [
    "t3 = t1 + [4]\n",
    ">>> t1"
   ]
  },
  {
   "cell_type": "code",
   "execution_count": 38,
   "id": "ec8fe07f",
   "metadata": {},
   "outputs": [
    {
     "data": {
      "text/plain": [
       "[1, 2, 3, 4]"
      ]
     },
     "execution_count": 38,
     "metadata": {},
     "output_type": "execute_result"
    }
   ],
   "source": [
    "t3"
   ]
  },
  {
   "cell_type": "markdown",
   "id": "39682a09",
   "metadata": {},
   "source": [
    "The result of the operator is a new list, and the original list is unchanged.\n",
    "This difference is important when you write functions that are supposed to modify lists"
   ]
  },
  {
   "cell_type": "code",
   "execution_count": null,
   "id": "138f007c",
   "metadata": {},
   "outputs": [],
   "source": []
  }
 ],
 "metadata": {
  "kernelspec": {
   "display_name": "Python 3 (ipykernel)",
   "language": "python",
   "name": "python3"
  },
  "language_info": {
   "codemirror_mode": {
    "name": "ipython",
    "version": 3
   },
   "file_extension": ".py",
   "mimetype": "text/x-python",
   "name": "python",
   "nbconvert_exporter": "python",
   "pygments_lexer": "ipython3",
   "version": "3.9.18"
  }
 },
 "nbformat": 4,
 "nbformat_minor": 5
}
