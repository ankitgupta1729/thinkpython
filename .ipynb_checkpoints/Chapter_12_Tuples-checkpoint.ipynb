{
 "cells": [
  {
   "cell_type": "markdown",
   "id": "f96e3a1b",
   "metadata": {},
   "source": [
    "One note: there is no consensus on how to pronounce “tuple”. Some people say “tuhple”,\n",
    "which rhymes with “supple”. But in the context of programming, most people say\n",
    "“too-ple”, which rhymes with “quadruple”."
   ]
  },
  {
   "cell_type": "markdown",
   "id": "af1b1b79",
   "metadata": {},
   "source": [
    "A tuple is a sequence of values. The values can be any type, and they are indexed by\n",
    "integers, so in that respect tuples are a lot like lists. The important difference is that tuples\n",
    "are immutable.       \n",
    "     \n",
    "Syntactically, a tuple is a comma-separated list of values:"
   ]
  },
  {
   "cell_type": "code",
   "execution_count": 20,
   "id": "42a8c279",
   "metadata": {},
   "outputs": [],
   "source": [
    "t = 'a', 'b', 'c', 'd', 'e'"
   ]
  },
  {
   "cell_type": "markdown",
   "id": "acdce0c1",
   "metadata": {},
   "source": [
    "Although it is not necessary, it is common to enclose tuples in parentheses:"
   ]
  },
  {
   "cell_type": "code",
   "execution_count": 21,
   "id": "9b8ecd54",
   "metadata": {},
   "outputs": [],
   "source": [
    "t = ('a', 'b', 'c', 'd', 'e')"
   ]
  },
  {
   "cell_type": "markdown",
   "id": "73d7ead6",
   "metadata": {},
   "source": [
    "To create a tuple with a single element, you have to include a final comma:"
   ]
  },
  {
   "cell_type": "code",
   "execution_count": 22,
   "id": "324d8a23",
   "metadata": {},
   "outputs": [
    {
     "data": {
      "text/plain": [
       "tuple"
      ]
     },
     "execution_count": 22,
     "metadata": {},
     "output_type": "execute_result"
    }
   ],
   "source": [
    "t1 = 'a',\n",
    ">>> type(t1)"
   ]
  },
  {
   "cell_type": "code",
   "execution_count": 23,
   "id": "8732f1b1",
   "metadata": {},
   "outputs": [],
   "source": [
    "t2 = ('a')"
   ]
  },
  {
   "cell_type": "code",
   "execution_count": 24,
   "id": "f4d44dc8",
   "metadata": {},
   "outputs": [
    {
     "data": {
      "text/plain": [
       "str"
      ]
     },
     "execution_count": 24,
     "metadata": {},
     "output_type": "execute_result"
    }
   ],
   "source": [
    "type(t2)"
   ]
  },
  {
   "cell_type": "markdown",
   "id": "ac195c15",
   "metadata": {},
   "source": [
    "Another way to create a tuple is the built-in function tuple. With no argument, it creates\n",
    "an empty tuple:"
   ]
  },
  {
   "cell_type": "code",
   "execution_count": 25,
   "id": "3104c000",
   "metadata": {},
   "outputs": [
    {
     "data": {
      "image/png": "[encoded data removed]",
      "text/latex": [
       "$\\displaystyle \\left( \\right)$"
      ],
      "text/plain": [
       "()"
      ]
     },
     "execution_count": 25,
     "metadata": {},
     "output_type": "execute_result"
    }
   ],
   "source": [
    "t = tuple()\n",
    "t"
   ]
  },
  {
   "cell_type": "code",
   "execution_count": 26,
   "id": "097942a1",
   "metadata": {},
   "outputs": [
    {
     "data": {
      "text/plain": [
       "('l', 'u', 'p', 'i', 'n', 's')"
      ]
     },
     "execution_count": 26,
     "metadata": {},
     "output_type": "execute_result"
    }
   ],
   "source": [
    "t = tuple('lupins')\n",
    "t"
   ]
  },
  {
   "cell_type": "markdown",
   "id": "9d7f3ad0",
   "metadata": {},
   "source": [
    "Most list operators also work on tuples. The bracket operator indexes an element:"
   ]
  },
  {
   "cell_type": "code",
   "execution_count": 27,
   "id": "8efff0ab",
   "metadata": {},
   "outputs": [
    {
     "data": {
      "text/plain": [
       "'a'"
      ]
     },
     "execution_count": 27,
     "metadata": {},
     "output_type": "execute_result"
    }
   ],
   "source": [
    "t = ('a', 'b', 'c', 'd', 'e')\n",
    "t[0]"
   ]
  },
  {
   "cell_type": "code",
   "execution_count": 28,
   "id": "c511406d",
   "metadata": {},
   "outputs": [
    {
     "data": {
      "text/plain": [
       "('b', 'c')"
      ]
     },
     "execution_count": 28,
     "metadata": {},
     "output_type": "execute_result"
    }
   ],
   "source": [
    "t[1:3]"
   ]
  },
  {
   "cell_type": "code",
   "execution_count": 29,
   "id": "93c26835",
   "metadata": {},
   "outputs": [
    {
     "ename": "TypeError",
     "evalue": "'tuple' object does not support item assignment",
     "output_type": "error",
     "traceback": [
      "\u001b[1;31m---------------------------------------------------------------------------\u001b[0m",
      "\u001b[1;31mTypeError\u001b[0m                                 Traceback (most recent call last)",
      "\u001b[1;32m<ipython-input-29-7e674cdf20e6>\u001b[0m in \u001b[0;36m<module>\u001b[1;34m\u001b[0m\n\u001b[1;32m----> 1\u001b[1;33m \u001b[0mt\u001b[0m\u001b[1;33m[\u001b[0m\u001b[1;36m0\u001b[0m\u001b[1;33m]\u001b[0m \u001b[1;33m=\u001b[0m \u001b[1;34m'A'\u001b[0m\u001b[1;33m\u001b[0m\u001b[1;33m\u001b[0m\u001b[0m\n\u001b[0m",
      "\u001b[1;31mTypeError\u001b[0m: 'tuple' object does not support item assignment"
     ]
    }
   ],
   "source": [
    "t[0] = 'A'"
   ]
  },
  {
   "cell_type": "markdown",
   "id": "b9bb4fa8",
   "metadata": {},
   "source": [
    "Because tuples are immutable, you can’t modify the elements. But you can replace one\n",
    "tuple with another:"
   ]
  },
  {
   "cell_type": "code",
   "execution_count": 30,
   "id": "9563509c",
   "metadata": {},
   "outputs": [
    {
     "data": {
      "text/plain": [
       "('A', 'b', 'c', 'd', 'e')"
      ]
     },
     "execution_count": 30,
     "metadata": {},
     "output_type": "execute_result"
    }
   ],
   "source": [
    ">>> t = ('A',) + t[1:]\n",
    ">>> t"
   ]
  },
  {
   "cell_type": "markdown",
   "id": "466906fe",
   "metadata": {},
   "source": [
    "The relational operators work with tuples and other sequences; Python starts by comparing\n",
    "the first element from each sequence. If they are equal, it goes on to the next elements, and\n",
    "so on, until it finds elements that differ. Subsequent elements are not considered (even if\n",
    "they are really big)."
   ]
  },
  {
   "cell_type": "code",
   "execution_count": 9,
   "id": "3bfcc9c0",
   "metadata": {},
   "outputs": [
    {
     "data": {
      "text/plain": [
       "True"
      ]
     },
     "execution_count": 9,
     "metadata": {},
     "output_type": "execute_result"
    }
   ],
   "source": [
    "(0, 1, 2) < (0, 3, 4)"
   ]
  },
  {
   "cell_type": "code",
   "execution_count": 7,
   "id": "24b2d825",
   "metadata": {},
   "outputs": [
    {
     "data": {
      "text/plain": [
       "True"
      ]
     },
     "execution_count": 7,
     "metadata": {},
     "output_type": "execute_result"
    }
   ],
   "source": [
    "(0, 1, 2000000) < (0, 3, 4) "
   ]
  },
  {
   "cell_type": "markdown",
   "id": "68b554e8",
   "metadata": {},
   "source": [
    "It is often useful to swap the values of two variables. With conventional assignments, you\n",
    "have to use a temporary variable. For example, to swap a and b:"
   ]
  },
  {
   "cell_type": "code",
   "execution_count": 34,
   "id": "fd3f72b5",
   "metadata": {},
   "outputs": [],
   "source": [
    "# >>> temp = a\n",
    "# >>> a = b\n",
    "# >>> b = temp"
   ]
  },
  {
   "cell_type": "markdown",
   "id": "2d913f64",
   "metadata": {},
   "source": [
    "This solution is cumbersome; tuple assignment is more elegant"
   ]
  },
  {
   "cell_type": "code",
   "execution_count": 36,
   "id": "3c09af4f",
   "metadata": {},
   "outputs": [],
   "source": [
    "# a, b = b, a"
   ]
  },
  {
   "cell_type": "markdown",
   "id": "7d276989",
   "metadata": {},
   "source": [
    "The left side is a tuple of variables; the right side is a tuple of expressions. Each value\n",
    "is assigned to its respective variable. All the expressions on the right side are evaluated\n",
    "before any of the assignments.       \n",
    "     \n",
    "The number of variables on the left and the number of values on the right have to be the\n",
    "same:"
   ]
  },
  {
   "cell_type": "code",
   "execution_count": 37,
   "id": "0d4511e8",
   "metadata": {},
   "outputs": [
    {
     "ename": "ValueError",
     "evalue": "too many values to unpack (expected 2)",
     "output_type": "error",
     "traceback": [
      "\u001b[1;31m---------------------------------------------------------------------------\u001b[0m",
      "\u001b[1;31mValueError\u001b[0m                                Traceback (most recent call last)",
      "\u001b[1;32m<ipython-input-37-8904fd2ea925>\u001b[0m in \u001b[0;36m<module>\u001b[1;34m\u001b[0m\n\u001b[1;32m----> 1\u001b[1;33m \u001b[0ma\u001b[0m\u001b[1;33m,\u001b[0m \u001b[0mb\u001b[0m \u001b[1;33m=\u001b[0m \u001b[1;36m1\u001b[0m\u001b[1;33m,\u001b[0m \u001b[1;36m2\u001b[0m\u001b[1;33m,\u001b[0m \u001b[1;36m3\u001b[0m\u001b[1;33m\u001b[0m\u001b[1;33m\u001b[0m\u001b[0m\n\u001b[0m",
      "\u001b[1;31mValueError\u001b[0m: too many values to unpack (expected 2)"
     ]
    }
   ],
   "source": [
    ">>> a, b = 1, 2, 3"
   ]
  },
  {
   "cell_type": "code",
   "execution_count": 39,
   "id": "1adb29db",
   "metadata": {},
   "outputs": [
    {
     "name": "stdout",
     "output_type": "stream",
     "text": [
      "monty python.org\n"
     ]
    }
   ],
   "source": [
    ">>> addr = 'monty@python.org'\n",
    ">>> uname, domain = addr.split('@')\n",
    "print(uname,domain)"
   ]
  },
  {
   "cell_type": "markdown",
   "id": "63790d42",
   "metadata": {},
   "source": [
    "Strictly speaking, a function can only return one value, but if the value is a tuple, the effect\n",
    "is the same as returning multiple values. For example, if you want to divide two integers\n",
    "and compute the quotient and remainder, it is inefficient to compute x//y and then x%y. It\n",
    "is better to compute them both at the same time.        \n",
    "         \n",
    "The built-in function divmod takes two arguments and returns a tuple of two values, the\n",
    "quotient and remainder. You can store the result as a tuple:"
   ]
  },
  {
   "cell_type": "code",
   "execution_count": 40,
   "id": "2ab2f6f8",
   "metadata": {},
   "outputs": [
    {
     "data": {
      "image/png": "[encoded data removed]",
      "text/latex": [
       "$\\displaystyle \\left( 2, \\  1\\right)$"
      ],
      "text/plain": [
       "(2, 1)"
      ]
     },
     "execution_count": 40,
     "metadata": {},
     "output_type": "execute_result"
    }
   ],
   "source": [
    "t = divmod(7, 3)\n",
    "t"
   ]
  },
  {
   "cell_type": "markdown",
   "id": "8e4e0ac7",
   "metadata": {},
   "source": [
    "Or use tuple assignment to store the elements separately:"
   ]
  },
  {
   "cell_type": "code",
   "execution_count": 41,
   "id": "ca9cb9a3",
   "metadata": {},
   "outputs": [],
   "source": [
    "quot, rem = divmod(7, 3)"
   ]
  },
  {
   "cell_type": "code",
   "execution_count": 42,
   "id": "85b94871",
   "metadata": {},
   "outputs": [
    {
     "data": {
      "image/png": "[encoded data removed]",
      "text/latex": [
       "$\\displaystyle 2$"
      ],
      "text/plain": [
       "2"
      ]
     },
     "execution_count": 42,
     "metadata": {},
     "output_type": "execute_result"
    }
   ],
   "source": [
    "quot"
   ]
  },
  {
   "cell_type": "code",
   "execution_count": 43,
   "id": "a6c7e281",
   "metadata": {},
   "outputs": [
    {
     "data": {
      "image/png": "[encoded data removed]",
      "text/latex": [
       "$\\displaystyle 1$"
      ],
      "text/plain": [
       "1"
      ]
     },
     "execution_count": 43,
     "metadata": {},
     "output_type": "execute_result"
    }
   ],
   "source": [
    "rem"
   ]
  },
  {
   "cell_type": "code",
   "execution_count": 44,
   "id": "03f75fd0",
   "metadata": {},
   "outputs": [],
   "source": [
    "#Here is an example of a function that returns a tuple:\n",
    "def min_max(t):\n",
    "    return min(t), max(t)"
   ]
  },
  {
   "cell_type": "markdown",
   "id": "16d20574",
   "metadata": {},
   "source": [
    "Functions can take a variable number of arguments. A parameter name that begins with\n",
    "\"*\" gathers arguments into a tuple. For example, printall takes any number of arguments\n",
    "and prints them:"
   ]
  },
  {
   "cell_type": "code",
   "execution_count": 45,
   "id": "593e3ff4",
   "metadata": {},
   "outputs": [
    {
     "name": "stdout",
     "output_type": "stream",
     "text": [
      "(1, 2.0, '3')\n"
     ]
    }
   ],
   "source": [
    "def printall(*args):\n",
    "    print(args)\n",
    "printall(1, 2.0, '3')"
   ]
  },
  {
   "cell_type": "markdown",
   "id": "72d005f6",
   "metadata": {},
   "source": [
    "The complement of gather is scatter. If you have a sequence of values and you want to pass\n",
    "it to a function as multiple arguments, you can use the * operator. For example, divmod\n",
    "takes exactly two arguments; it doesn’t work with a tuple:"
   ]
  },
  {
   "cell_type": "code",
   "execution_count": 46,
   "id": "d7104f36",
   "metadata": {},
   "outputs": [
    {
     "ename": "TypeError",
     "evalue": "divmod expected 2 arguments, got 1",
     "output_type": "error",
     "traceback": [
      "\u001b[1;31m---------------------------------------------------------------------------\u001b[0m",
      "\u001b[1;31mTypeError\u001b[0m                                 Traceback (most recent call last)",
      "\u001b[1;32m<ipython-input-46-b9b469f7c0ca>\u001b[0m in \u001b[0;36m<module>\u001b[1;34m\u001b[0m\n\u001b[0;32m      1\u001b[0m \u001b[0mt\u001b[0m \u001b[1;33m=\u001b[0m \u001b[1;33m(\u001b[0m\u001b[1;36m7\u001b[0m\u001b[1;33m,\u001b[0m \u001b[1;36m3\u001b[0m\u001b[1;33m)\u001b[0m\u001b[1;33m\u001b[0m\u001b[1;33m\u001b[0m\u001b[0m\n\u001b[1;32m----> 2\u001b[1;33m \u001b[0mdivmod\u001b[0m\u001b[1;33m(\u001b[0m\u001b[0mt\u001b[0m\u001b[1;33m)\u001b[0m\u001b[1;33m\u001b[0m\u001b[1;33m\u001b[0m\u001b[0m\n\u001b[0m",
      "\u001b[1;31mTypeError\u001b[0m: divmod expected 2 arguments, got 1"
     ]
    }
   ],
   "source": [
    "t = (7, 3)\n",
    ">>> divmod(t)"
   ]
  },
  {
   "cell_type": "markdown",
   "id": "8ad10866",
   "metadata": {},
   "source": [
    "But if you scatter the tuple, it works:"
   ]
  },
  {
   "cell_type": "code",
   "execution_count": 47,
   "id": "783baa4e",
   "metadata": {},
   "outputs": [
    {
     "data": {
      "image/png": "[encoded data removed]",
      "text/latex": [
       "$\\displaystyle \\left( 2, \\  1\\right)$"
      ],
      "text/plain": [
       "(2, 1)"
      ]
     },
     "execution_count": 47,
     "metadata": {},
     "output_type": "execute_result"
    }
   ],
   "source": [
    "divmod(*t)"
   ]
  },
  {
   "cell_type": "markdown",
   "id": "1d7287f9",
   "metadata": {},
   "source": [
    "Many of the built-in functions use variable-length argument tuples. For example, max and\n",
    "min can take any number of arguments:"
   ]
  },
  {
   "cell_type": "code",
   "execution_count": 48,
   "id": "dbc8ff10",
   "metadata": {},
   "outputs": [
    {
     "data": {
      "image/png": "[encoded data removed]",
      "text/latex": [
       "$\\displaystyle 3$"
      ],
      "text/plain": [
       "3"
      ]
     },
     "execution_count": 48,
     "metadata": {},
     "output_type": "execute_result"
    }
   ],
   "source": [
    "max(1, 2, 3)"
   ]
  },
  {
   "cell_type": "markdown",
   "id": "3421aa7a",
   "metadata": {},
   "source": [
    "But sum does not."
   ]
  },
  {
   "cell_type": "code",
   "execution_count": 49,
   "id": "42fd7abc",
   "metadata": {},
   "outputs": [
    {
     "ename": "TypeError",
     "evalue": "sum expected at most 2 arguments, got 3",
     "output_type": "error",
     "traceback": [
      "\u001b[1;31m---------------------------------------------------------------------------\u001b[0m",
      "\u001b[1;31mTypeError\u001b[0m                                 Traceback (most recent call last)",
      "\u001b[1;32m<ipython-input-49-c44a16fb57bf>\u001b[0m in \u001b[0;36m<module>\u001b[1;34m\u001b[0m\n\u001b[1;32m----> 1\u001b[1;33m \u001b[0msum\u001b[0m\u001b[1;33m(\u001b[0m\u001b[1;36m1\u001b[0m\u001b[1;33m,\u001b[0m \u001b[1;36m2\u001b[0m\u001b[1;33m,\u001b[0m \u001b[1;36m3\u001b[0m\u001b[1;33m)\u001b[0m\u001b[1;33m\u001b[0m\u001b[1;33m\u001b[0m\u001b[0m\n\u001b[0m",
      "\u001b[1;31mTypeError\u001b[0m: sum expected at most 2 arguments, got 3"
     ]
    }
   ],
   "source": [
    "sum(1, 2, 3)"
   ]
  },
  {
   "cell_type": "markdown",
   "id": "5ce1c1f2",
   "metadata": {},
   "source": [
    "zip is a built-in function that takes two or more sequences and interleaves them. The name\n",
    "of the function refers to a zipper, which interleaves two rows of teeth.       \n",
    "      \n",
    "This example zips a string and a list:"
   ]
  },
  {
   "cell_type": "code",
   "execution_count": 50,
   "id": "4500cf00",
   "metadata": {},
   "outputs": [
    {
     "data": {
      "text/plain": [
       "<zip at 0x26d7b4dd208>"
      ]
     },
     "execution_count": 50,
     "metadata": {},
     "output_type": "execute_result"
    }
   ],
   "source": [
    "s = 'abc'\n",
    ">>> t = [0, 1, 2]\n",
    ">>> zip(s, t)"
   ]
  },
  {
   "cell_type": "markdown",
   "id": "58d28d2e",
   "metadata": {},
   "source": [
    "The result is a zip object that knows how to iterate through the pairs. The most common\n",
    "use of zip is in a for loop:"
   ]
  },
  {
   "cell_type": "code",
   "execution_count": 52,
   "id": "be5c8a85",
   "metadata": {},
   "outputs": [
    {
     "name": "stdout",
     "output_type": "stream",
     "text": [
      "('a', 0)\n",
      "('b', 1)\n",
      "('c', 2)\n"
     ]
    }
   ],
   "source": [
    "for pair in zip(s, t):\n",
    "    print(pair)"
   ]
  },
  {
   "cell_type": "markdown",
   "id": "10e29b83",
   "metadata": {},
   "source": [
    "A zip object is a kind of iterator, which is any object that iterates through a sequence.\n",
    "Iterators are similar to lists in some ways, but unlike lists, you can’t use an index to select\n",
    "an element from an iterator."
   ]
  },
  {
   "cell_type": "markdown",
   "id": "03a3ae9e",
   "metadata": {},
   "source": [
    "If you want to use list operators and methods, you can use a zip object to make a list:"
   ]
  },
  {
   "cell_type": "code",
   "execution_count": 53,
   "id": "3c7c5abe",
   "metadata": {},
   "outputs": [
    {
     "data": {
      "text/plain": [
       "[('a', 0), ('b', 1), ('c', 2)]"
      ]
     },
     "execution_count": 53,
     "metadata": {},
     "output_type": "execute_result"
    }
   ],
   "source": [
    ">>> list(zip(s, t))"
   ]
  },
  {
   "cell_type": "markdown",
   "id": "913175ca",
   "metadata": {},
   "source": [
    "If the sequences are not the same length, the result has the length of the shorter one."
   ]
  },
  {
   "cell_type": "code",
   "execution_count": 54,
   "id": "50d75504",
   "metadata": {},
   "outputs": [
    {
     "data": {
      "text/plain": [
       "[('A', 'E'), ('n', 'l'), ('n', 'k')]"
      ]
     },
     "execution_count": 54,
     "metadata": {},
     "output_type": "execute_result"
    }
   ],
   "source": [
    ">>> list(zip('Anne', 'Elk'))"
   ]
  },
  {
   "cell_type": "markdown",
   "id": "1ad3a8b7",
   "metadata": {},
   "source": [
    "You can use tuple assignment in a for loop to traverse a list of tuples:"
   ]
  },
  {
   "cell_type": "code",
   "execution_count": 55,
   "id": "2376ca01",
   "metadata": {},
   "outputs": [
    {
     "name": "stdout",
     "output_type": "stream",
     "text": [
      "0 a\n",
      "1 b\n",
      "2 c\n"
     ]
    }
   ],
   "source": [
    "t = [('a', 0), ('b', 1), ('c', 2)]\n",
    "for letter, number in t:\n",
    "    print(number, letter)"
   ]
  },
  {
   "cell_type": "markdown",
   "id": "4c54fb12",
   "metadata": {},
   "source": [
    "If you combine zip, for and tuple assignment, you get a useful idiom for traversing two\n",
    "(or more) sequences at the same time. For example, has_match takes two sequences, t1\n",
    "and t2, and returns True if there is an index i such that t1[i] == t2[i]:"
   ]
  },
  {
   "cell_type": "code",
   "execution_count": 57,
   "id": "44baa3c4",
   "metadata": {},
   "outputs": [],
   "source": [
    "def has_match(t1, t2):\n",
    "    for x, y in zip(t1, t2):\n",
    "        if x == y:\n",
    "            return True\n",
    "        return False"
   ]
  },
  {
   "cell_type": "markdown",
   "id": "322db909",
   "metadata": {},
   "source": [
    "If you need to traverse the elements of a sequence and their indices, you can use the built-in\n",
    "function enumerate:"
   ]
  },
  {
   "cell_type": "code",
   "execution_count": 58,
   "id": "00aa5313",
   "metadata": {},
   "outputs": [
    {
     "name": "stdout",
     "output_type": "stream",
     "text": [
      "0 a\n",
      "1 b\n",
      "2 c\n"
     ]
    }
   ],
   "source": [
    "for index, element in enumerate('abc'):\n",
    "    print(index, element)"
   ]
  },
  {
   "cell_type": "markdown",
   "id": "15e8dccc",
   "metadata": {},
   "source": [
    "The result from enumerate is an enumerate object, which iterates a sequence of pairs; each\n",
    "pair contains an index (starting from 0) and an element from the given sequence."
   ]
  },
  {
   "cell_type": "markdown",
   "id": "f7d39799",
   "metadata": {},
   "source": [
    "Dictionaries have a method called items that returns a sequence of tuples, where each\n",
    "tuple is a key-value pair."
   ]
  },
  {
   "cell_type": "code",
   "execution_count": 59,
   "id": "02802b69",
   "metadata": {},
   "outputs": [
    {
     "data": {
      "text/plain": [
       "dict_items([('a', 0), ('b', 1), ('c', 2)])"
      ]
     },
     "execution_count": 59,
     "metadata": {},
     "output_type": "execute_result"
    }
   ],
   "source": [
    "d = {'a':0, 'b':1, 'c':2}\n",
    ">>> t = d.items()\n",
    ">>> t"
   ]
  },
  {
   "cell_type": "markdown",
   "id": "46451fdd",
   "metadata": {},
   "source": [
    "The result is a dict_items object, which is an iterator that iterates the key-value pairs. You\n",
    "can use it in a for loop like this:"
   ]
  },
  {
   "cell_type": "code",
   "execution_count": 60,
   "id": "5f2e3185",
   "metadata": {},
   "outputs": [
    {
     "name": "stdout",
     "output_type": "stream",
     "text": [
      "a 0\n",
      "b 1\n",
      "c 2\n"
     ]
    }
   ],
   "source": [
    "for key, value in d.items():\n",
    "    print(key, value)"
   ]
  },
  {
   "cell_type": "markdown",
   "id": "b8c30b8f",
   "metadata": {},
   "source": [
    "Going in the other direction, you can use a list of tuples to initialize a new dictionary:"
   ]
  },
  {
   "cell_type": "code",
   "execution_count": 61,
   "id": "8bb58f4a",
   "metadata": {},
   "outputs": [
    {
     "data": {
      "text/plain": [
       "{'a': 0, 'c': 2, 'b': 1}"
      ]
     },
     "execution_count": 61,
     "metadata": {},
     "output_type": "execute_result"
    }
   ],
   "source": [
    "t = [('a', 0), ('c', 2), ('b', 1)]\n",
    ">>> d = dict(t)\n",
    ">>> d"
   ]
  },
  {
   "cell_type": "markdown",
   "id": "709f6415",
   "metadata": {},
   "source": [
    "Combining dict with zip yields a concise way to create a dictionary:"
   ]
  },
  {
   "cell_type": "code",
   "execution_count": 62,
   "id": "53a4e54b",
   "metadata": {},
   "outputs": [
    {
     "data": {
      "text/plain": [
       "{'a': 0, 'b': 1, 'c': 2}"
      ]
     },
     "execution_count": 62,
     "metadata": {},
     "output_type": "execute_result"
    }
   ],
   "source": [
    "d = dict(zip('abc', range(3)))\n",
    ">>> d"
   ]
  },
  {
   "cell_type": "markdown",
   "id": "c0a2b835",
   "metadata": {},
   "source": [
    "The dictionary method update also takes a list of tuples and adds them, as key-value pairs,\n",
    "to an existing dictionary."
   ]
  },
  {
   "cell_type": "markdown",
   "id": "43e52c7d",
   "metadata": {},
   "source": [
    "It is common to use tuples as keys in dictionaries (primarily because you can’t use lists). For\n",
    "example, a telephone directory might map from last-name, first-name pairs to telephone\n",
    "numbers. Assuming that we have defined last, first and number, we could write:      \n",
    "          \n",
    "directory[last, first] = number      \n",
    "       \n",
    "The expression in brackets is a tuple. We could use tuple assignment to traverse this dictionary."
   ]
  },
  {
   "cell_type": "code",
   "execution_count": 65,
   "id": "72ae4f41",
   "metadata": {},
   "outputs": [],
   "source": [
    "# for last, first in directory:\n",
    "#     print(first, last, directory[last,first])"
   ]
  },
  {
   "cell_type": "markdown",
   "id": "9324b6d1",
   "metadata": {},
   "source": [
    "This loop traverses the keys in directory, which are tuples. It assigns the elements of each\n",
    "tuple to last and first, then prints the name and corresponding telephone number."
   ]
  },
  {
   "cell_type": "markdown",
   "id": "b70e60b0",
   "metadata": {},
   "source": [
    "I have focused on lists of tuples, but almost all of the examples in this chapter also work\n",
    "with lists of lists, tuples of tuples, and tuples of lists. To avoid enumerating the possible\n",
    "combinations, it is sometimes easier to talk about sequences of sequences."
   ]
  },
  {
   "cell_type": "code",
   "execution_count": 1,
   "id": "b92e6cc8",
   "metadata": {},
   "outputs": [
    {
     "name": "stderr",
     "output_type": "stream",
     "text": [
      "ERROR: Could not find a version that satisfies the requirement structshape (from versions: none)\n",
      "ERROR: No matching distribution found for structshape\n"
     ]
    }
   ],
   "source": [
    "# ! pip install structshape"
   ]
  },
  {
   "cell_type": "code",
   "execution_count": 2,
   "id": "00ec47f1",
   "metadata": {},
   "outputs": [],
   "source": [
    "# from structshape import structshape\n",
    "# >>> t = [1, 2, 3]\n",
    "# >>> structshape(t)"
   ]
  },
  {
   "cell_type": "code",
   "execution_count": 3,
   "id": "d9a19a38",
   "metadata": {},
   "outputs": [
    {
     "data": {
      "text/plain": [
       "'!\"#$%&\\'()*+,-./:;<=>?@[\\\\]^_`{|}~'"
      ]
     },
     "execution_count": 3,
     "metadata": {},
     "output_type": "execute_result"
    }
   ],
   "source": [
    "import string\n",
    ">>> string.punctuation"
   ]
  },
  {
   "cell_type": "markdown",
   "id": "6254e645",
   "metadata": {},
   "source": [
    "Given the same inputs, most computer programs generate the same outputs every time,\n",
    "so they are said to be deterministic. Determinism is usually a good thing, since we expect\n",
    "the same calculation to yield the same result. For some applications, though, we want the\n",
    "computer to be unpredictable. Games are an obvious example, but there are more.      \n",
    "        \n",
    "        \n",
    "Making a program truly nondeterministic turns out to be difficult, but there are ways to\n",
    "make it at least seem nondeterministic. One of them is to use algorithms that generate\n",
    "pseudorandom numbers.     \n",
    "      \n",
    "Pseudorandom numbers are not truly random because they are\n",
    "generated by a deterministic computation, but just by looking at the numbers it is all but\n",
    "impossible to distinguish them from random.\n",
    "         \n",
    "  \n",
    "The random module provides functions that generate pseudorandom numbers (which I\n",
    "will simply call “random” from here on).\n",
    "The function random returns a random float between 0.0 and 1.0 (including 0.0 but not 1.0).\n",
    "Each time you call random, you get the next number in a long series. To see a sample, run\n",
    "this loop:"
   ]
  },
  {
   "cell_type": "code",
   "execution_count": 4,
   "id": "048d2f89",
   "metadata": {},
   "outputs": [
    {
     "name": "stdout",
     "output_type": "stream",
     "text": [
      "0.2624002780273291\n",
      "0.0705053258756193\n",
      "0.4506181371055107\n",
      "0.9767748838582239\n",
      "0.7223005719019827\n",
      "0.2680359920740464\n",
      "0.3720829711670174\n",
      "0.13081381043274765\n",
      "0.9930932076698827\n",
      "0.2255998182086113\n"
     ]
    }
   ],
   "source": [
    "import random\n",
    "for i in range(10):\n",
    "    x = random.random()\n",
    "    print(x)"
   ]
  },
  {
   "cell_type": "markdown",
   "id": "2237bc20",
   "metadata": {},
   "source": [
    "The function randint takes parameters low and high and returns an integer between low\n",
    "and high (including both)."
   ]
  },
  {
   "cell_type": "code",
   "execution_count": 5,
   "id": "b703e49d",
   "metadata": {},
   "outputs": [
    {
     "data": {
      "text/plain": [
       "6"
      ]
     },
     "execution_count": 5,
     "metadata": {},
     "output_type": "execute_result"
    }
   ],
   "source": [
    "random.randint(5, 10)"
   ]
  },
  {
   "cell_type": "code",
   "execution_count": 6,
   "id": "c5b35aab",
   "metadata": {},
   "outputs": [
    {
     "data": {
      "text/plain": [
       "10"
      ]
     },
     "execution_count": 6,
     "metadata": {},
     "output_type": "execute_result"
    }
   ],
   "source": [
    "random.randint(5, 10)"
   ]
  },
  {
   "cell_type": "markdown",
   "id": "0990b3c9",
   "metadata": {},
   "source": [
    "To choose an element from a sequence at random, you can use choice:"
   ]
  },
  {
   "cell_type": "code",
   "execution_count": 7,
   "id": "1f5df9ad",
   "metadata": {},
   "outputs": [
    {
     "data": {
      "text/plain": [
       "2"
      ]
     },
     "execution_count": 7,
     "metadata": {},
     "output_type": "execute_result"
    }
   ],
   "source": [
    ">>> t = [1, 2, 3]\n",
    ">>> random.choice(t)"
   ]
  },
  {
   "cell_type": "code",
   "execution_count": 8,
   "id": "43ac1582",
   "metadata": {},
   "outputs": [
    {
     "data": {
      "text/plain": [
       "1"
      ]
     },
     "execution_count": 8,
     "metadata": {},
     "output_type": "execute_result"
    }
   ],
   "source": [
    ">>> random.choice(t)"
   ]
  },
  {
   "cell_type": "markdown",
   "id": "b6391adc",
   "metadata": {},
   "source": [
    "The random module also provides functions to generate random values from continuous\n",
    "distributions including Gaussian, exponential, gamma, and a few more."
   ]
  },
  {
   "cell_type": "code",
   "execution_count": null,
   "id": "7e9c0a63",
   "metadata": {},
   "outputs": [],
   "source": []
  }
 ],
 "metadata": {
  "kernelspec": {
   "display_name": "Python 3 (ipykernel)",
   "language": "python",
   "name": "python3"
  },
  "language_info": {
   "codemirror_mode": {
    "name": "ipython",
    "version": 3
   },
   "file_extension": ".py",
   "mimetype": "text/x-python",
   "name": "python",
   "nbconvert_exporter": "python",
   "pygments_lexer": "ipython3",
   "version": "3.9.18"
  }
 },
 "nbformat": 4,
 "nbformat_minor": 5
}
