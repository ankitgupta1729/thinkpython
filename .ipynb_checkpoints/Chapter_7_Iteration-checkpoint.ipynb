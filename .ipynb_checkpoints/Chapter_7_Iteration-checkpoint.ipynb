{
 "cells": [
  {
   "cell_type": "markdown",
   "id": "12831c75",
   "metadata": {},
   "source": [
    "For example, one way of computing square roots is Newton’s method. Suppose that you\n",
    "want to know the square root of a. If you start with almost any estimate, x, you can compute a better estimate with the following formula:\n",
    "$y =(x + a/x)/2$"
   ]
  },
  {
   "cell_type": "code",
   "execution_count": 2,
   "id": "9347d0b6",
   "metadata": {},
   "outputs": [
    {
     "data": {
      "text/plain": [
       "2.1666666666666665"
      ]
     },
     "execution_count": 2,
     "metadata": {},
     "output_type": "execute_result"
    }
   ],
   "source": [
    "# Example\n",
    "a = 4\n",
    "x = 3\n",
    "y = (x + a/x) / 2\n",
    "y"
   ]
  },
  {
   "cell_type": "markdown",
   "id": "49e98ccd",
   "metadata": {},
   "source": [
    "The result is closer to the correct answer (√4 = 2). If we repeat the process with the new\n",
    "estimate, it gets even closer:"
   ]
  },
  {
   "cell_type": "code",
   "execution_count": 3,
   "id": "df30a8af",
   "metadata": {},
   "outputs": [
    {
     "data": {
      "text/plain": [
       "2.0000000000262146"
      ]
     },
     "execution_count": 3,
     "metadata": {},
     "output_type": "execute_result"
    }
   ],
   "source": [
    "x = y\n",
    "y = (x + a/x) / 2\n",
    "#After a few more updates, the estimate is almost exact:\n",
    "x = y\n",
    "y = (x + a/x) / 2\n",
    "x = y\n",
    "y = (x + a/x) / 2\n",
    "y"
   ]
  },
  {
   "cell_type": "markdown",
   "id": "34b44e0d",
   "metadata": {},
   "source": [
    "In general we don’t know ahead of time how many steps it takes to get to the right answer,\n",
    "but we know when we get there because the estimate stops changing:\n"
   ]
  },
  {
   "cell_type": "markdown",
   "id": "fc44b4f6",
   "metadata": {},
   "source": [
    "When y == x, we can stop. Here is a loop that starts with an initial estimate, x, and improves it until it stops changing"
   ]
  },
  {
   "cell_type": "code",
   "execution_count": 4,
   "id": "2a8c1c7e",
   "metadata": {},
   "outputs": [
    {
     "name": "stdout",
     "output_type": "stream",
     "text": [
      "2.0000102400262145\n",
      "2.0000000000262146\n",
      "2.0\n"
     ]
    }
   ],
   "source": [
    "while True:\n",
    "    print(x)\n",
    "    y = (x + a/x) / 2\n",
    "    if y == x:\n",
    "        break\n",
    "    x = y"
   ]
  },
  {
   "cell_type": "markdown",
   "id": "fcaf1e4c",
   "metadata": {},
   "source": [
    "For most values of a this works fine, but in general it is dangerous to test float equality.\n",
    "Floating-point values are only approximately right: most rational numbers, like 1/3, and\n",
    "irrational numbers, like √2, can’t be represented exactly with a float."
   ]
  },
  {
   "cell_type": "markdown",
   "id": "37772eaf",
   "metadata": {},
   "source": [
    "Rather than checking whether x and y are exactly equal, it is safer to use the built-in function abs to compute the absolute value, or magnitude, of the difference between them:"
   ]
  },
  {
   "cell_type": "code",
   "execution_count": 6,
   "id": "0a1d7101",
   "metadata": {},
   "outputs": [],
   "source": [
    "# if abs(y-x) < epsilon:\n",
    "#     break"
   ]
  },
  {
   "cell_type": "markdown",
   "id": "18d75c49",
   "metadata": {},
   "source": [
    "Where epsilon has a value like 0.0000001 that determines how close is close enough."
   ]
  },
  {
   "cell_type": "markdown",
   "id": "50271295",
   "metadata": {},
   "source": [
    "Executing algorithms is boring, but designing them is interesting, intellectually challenging, and a central part of computer science."
   ]
  },
  {
   "cell_type": "code",
   "execution_count": null,
   "id": "620ad8bb",
   "metadata": {},
   "outputs": [],
   "source": []
  }
 ],
 "metadata": {
  "kernelspec": {
   "display_name": "Python 3 (ipykernel)",
   "language": "python",
   "name": "python3"
  },
  "language_info": {
   "codemirror_mode": {
    "name": "ipython",
    "version": 3
   },
   "file_extension": ".py",
   "mimetype": "text/x-python",
   "name": "python",
   "nbconvert_exporter": "python",
   "pygments_lexer": "ipython3",
   "version": "3.9.18"
  }
 },
 "nbformat": 4,
 "nbformat_minor": 5
}
