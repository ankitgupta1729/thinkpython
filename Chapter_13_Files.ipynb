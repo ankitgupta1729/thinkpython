{
 "cells": [
  {
   "cell_type": "markdown",
   "id": "0032b02a",
   "metadata": {},
   "source": [
    "A text file is a sequence of characters stored on a permanent medium like a hard drive,\n",
    "flash memory, or CD-ROM"
   ]
  },
  {
   "cell_type": "markdown",
   "id": "1871f3eb",
   "metadata": {},
   "source": [
    "To write a file, you have to open it with mode 'w' as a second parameter:"
   ]
  },
  {
   "cell_type": "code",
   "execution_count": 6,
   "id": "cd1e6d18",
   "metadata": {},
   "outputs": [],
   "source": [
    "fout = open('output.txt', 'w')"
   ]
  },
  {
   "cell_type": "markdown",
   "id": "c18ceac5",
   "metadata": {},
   "source": [
    "If the file already exists, opening it in write mode clears out the old data and starts fresh,\n",
    "so be careful! If the file doesn’t exist, a new one is created."
   ]
  },
  {
   "cell_type": "markdown",
   "id": "b5bcd4ed",
   "metadata": {},
   "source": [
    "open returns a file object that provides methods for working with the file. The write\n",
    "method puts data into the file."
   ]
  },
  {
   "cell_type": "code",
   "execution_count": 2,
   "id": "0bcf3169",
   "metadata": {},
   "outputs": [],
   "source": [
    " line1 = \"This here's the wattle,\\n\""
   ]
  },
  {
   "cell_type": "code",
   "execution_count": 3,
   "id": "353e6d55",
   "metadata": {},
   "outputs": [
    {
     "data": {
      "text/plain": [
       "24"
      ]
     },
     "execution_count": 3,
     "metadata": {},
     "output_type": "execute_result"
    }
   ],
   "source": [
    "fout.write(line1)"
   ]
  },
  {
   "cell_type": "markdown",
   "id": "d6866120",
   "metadata": {},
   "source": [
    "When you are done writing, you should close the file"
   ]
  },
  {
   "cell_type": "code",
   "execution_count": 4,
   "id": "0c8cae93",
   "metadata": {},
   "outputs": [],
   "source": [
    "fout.close()"
   ]
  },
  {
   "cell_type": "markdown",
   "id": "82838fa2",
   "metadata": {},
   "source": [
    "The argument of write has to be a string, so if we want to put other values in a file, we\n",
    "have to convert them to strings. The easiest way to do that is with str:"
   ]
  },
  {
   "cell_type": "code",
   "execution_count": 7,
   "id": "aab9a0dd",
   "metadata": {},
   "outputs": [
    {
     "data": {
      "text/plain": [
       "2"
      ]
     },
     "execution_count": 7,
     "metadata": {},
     "output_type": "execute_result"
    }
   ],
   "source": [
    "x = 52\n",
    "fout.write(str(x))"
   ]
  },
  {
   "cell_type": "markdown",
   "id": "9c51a98f",
   "metadata": {},
   "source": [
    "An alternative is to use the format operator, %. When applied to integers, % is the modulus\n",
    "operator. But when the first operand is a string, % is the format operator.\n"
   ]
  },
  {
   "cell_type": "markdown",
   "id": "3460716d",
   "metadata": {},
   "source": [
    "The first operand is the format string, which contains one or more format sequences,\n",
    "which specify how the second operand is formatted. The result is a string.     \n",
    "        \n",
    "For example, the format sequence '%d' means that the second operand should be formatted as a decimal integer:"
   ]
  },
  {
   "cell_type": "code",
   "execution_count": 8,
   "id": "f25796f2",
   "metadata": {},
   "outputs": [
    {
     "data": {
      "text/plain": [
       "'42'"
      ]
     },
     "execution_count": 8,
     "metadata": {},
     "output_type": "execute_result"
    }
   ],
   "source": [
    "camels = 42\n",
    "'%d' % camels"
   ]
  },
  {
   "cell_type": "code",
   "execution_count": 11,
   "id": "43df8666",
   "metadata": {},
   "outputs": [
    {
     "name": "stdout",
     "output_type": "stream",
     "text": [
      "my fav number is 1729\n"
     ]
    }
   ],
   "source": [
    "print(\"my fav number is %d\" %1729)"
   ]
  },
  {
   "cell_type": "markdown",
   "id": "939b417a",
   "metadata": {},
   "source": [
    "If there is more than one format sequence in the string, the second argument has to be a\n",
    "tuple. Each format sequence is matched with an element of the tuple, in order."
   ]
  },
  {
   "cell_type": "markdown",
   "id": "bdaf5d61",
   "metadata": {},
   "source": [
    "The following example uses '%d' to format an integer, '%g' to format a floating-point number, and '%s' to format a string:"
   ]
  },
  {
   "cell_type": "code",
   "execution_count": 12,
   "id": "40af43b0",
   "metadata": {},
   "outputs": [
    {
     "data": {
      "text/plain": [
       "'In 3 years I have spotted 0.1 camels.'"
      ]
     },
     "execution_count": 12,
     "metadata": {},
     "output_type": "execute_result"
    }
   ],
   "source": [
    "'In %d years I have spotted %g %s.' % (3, 0.1, 'camels')"
   ]
  },
  {
   "cell_type": "markdown",
   "id": "b856612d",
   "metadata": {},
   "source": [
    "The number of elements in the tuple has to match the number of format sequences in the\n",
    "string. Also, the types of the elements have to match the format sequences:"
   ]
  },
  {
   "cell_type": "code",
   "execution_count": 13,
   "id": "e601176b",
   "metadata": {},
   "outputs": [
    {
     "ename": "TypeError",
     "evalue": "not enough arguments for format string",
     "output_type": "error",
     "traceback": [
      "\u001b[1;31m---------------------------------------------------------------------------\u001b[0m",
      "\u001b[1;31mTypeError\u001b[0m                                 Traceback (most recent call last)",
      "\u001b[1;32m<ipython-input-13-4a97654d37a9>\u001b[0m in \u001b[0;36m<module>\u001b[1;34m\u001b[0m\n\u001b[1;32m----> 1\u001b[1;33m \u001b[1;34m'%d %d %d'\u001b[0m \u001b[1;33m%\u001b[0m \u001b[1;33m(\u001b[0m\u001b[1;36m1\u001b[0m\u001b[1;33m,\u001b[0m \u001b[1;36m2\u001b[0m\u001b[1;33m)\u001b[0m\u001b[1;33m\u001b[0m\u001b[1;33m\u001b[0m\u001b[0m\n\u001b[0m",
      "\u001b[1;31mTypeError\u001b[0m: not enough arguments for format string"
     ]
    }
   ],
   "source": [
    "'%d %d %d' % (1, 2)"
   ]
  },
  {
   "cell_type": "code",
   "execution_count": 1,
   "id": "8780c8f5",
   "metadata": {},
   "outputs": [
    {
     "ename": "TypeError",
     "evalue": "%d format: a number is required, not str",
     "output_type": "error",
     "traceback": [
      "\u001b[1;31m---------------------------------------------------------------------------\u001b[0m",
      "\u001b[1;31mTypeError\u001b[0m                                 Traceback (most recent call last)",
      "Cell \u001b[1;32mIn[1], line 1\u001b[0m\n\u001b[1;32m----> 1\u001b[0m \u001b[38;5;124;43m'\u001b[39;49m\u001b[38;5;132;43;01m%d\u001b[39;49;00m\u001b[38;5;124;43m'\u001b[39;49m\u001b[43m \u001b[49m\u001b[38;5;241;43m%\u001b[39;49m\u001b[38;5;124;43m'\u001b[39;49m\u001b[38;5;124;43mdollars\u001b[39;49m\u001b[38;5;124;43m'\u001b[39;49m\n",
      "\u001b[1;31mTypeError\u001b[0m: %d format: a number is required, not str"
     ]
    }
   ],
   "source": [
    "'%d' %'dollars'"
   ]
  },
  {
   "cell_type": "code",
   "execution_count": 2,
   "id": "50acbe6a",
   "metadata": {},
   "outputs": [
    {
     "data": {
      "text/plain": [
       "'C:\\\\Users\\\\ankit19.gupta\\\\ankit\\\\ankit\\\\ML_Code\\\\Python_R_Prolog_Code\\\\Python_Practice\\\\thinkpython'"
      ]
     },
     "execution_count": 2,
     "metadata": {},
     "output_type": "execute_result"
    }
   ],
   "source": [
    "import os\n",
    "cwd = os.getcwd()\n",
    "cwd"
   ]
  },
  {
   "cell_type": "markdown",
   "id": "dd78e920",
   "metadata": {},
   "source": [
    "A simple filename, like memo.txt is also considered a path, but it is a relative path because\n",
    "it relates to the current directory. If the current directory is /home/dinsdale, the filename\n",
    "memo.txt would refer to /home/dinsdale/memo.txt."
   ]
  },
  {
   "cell_type": "markdown",
   "id": "b0eb9c8e",
   "metadata": {},
   "source": [
    "A path that begins with / does not depend on the current directory; it is called an absolute\n",
    "path. To find the absolute path to a file, you can use os.path.abspath:"
   ]
  },
  {
   "cell_type": "code",
   "execution_count": 3,
   "id": "8070a79a",
   "metadata": {},
   "outputs": [
    {
     "data": {
      "text/plain": [
       "'C:\\\\Users\\\\ankit19.gupta\\\\ankit\\\\ankit\\\\ML_Code\\\\Python_R_Prolog_Code\\\\Python_Practice\\\\thinkpython\\\\output.txt'"
      ]
     },
     "execution_count": 3,
     "metadata": {},
     "output_type": "execute_result"
    }
   ],
   "source": [
    " os.path.abspath('output.txt')"
   ]
  },
  {
   "cell_type": "markdown",
   "id": "fb9190b7",
   "metadata": {},
   "source": [
    "os.path provides other functions for working with filenames and paths. For example,\n",
    "os.path.exists checks whether a file or directory exists:"
   ]
  },
  {
   "cell_type": "code",
   "execution_count": 19,
   "id": "65f9b780",
   "metadata": {},
   "outputs": [
    {
     "data": {
      "text/plain": [
       "True"
      ]
     },
     "execution_count": 19,
     "metadata": {},
     "output_type": "execute_result"
    }
   ],
   "source": [
    " os.path.exists('output.txt')"
   ]
  },
  {
   "cell_type": "markdown",
   "id": "e6ebe73f",
   "metadata": {},
   "source": [
    "If it exists, os.path.isdir checks whether it’s a directory:\n"
   ]
  },
  {
   "cell_type": "code",
   "execution_count": 20,
   "id": "24f8bf29",
   "metadata": {},
   "outputs": [
    {
     "data": {
      "text/plain": [
       "False"
      ]
     },
     "execution_count": 20,
     "metadata": {},
     "output_type": "execute_result"
    }
   ],
   "source": [
    " os.path.isdir('output.txt')"
   ]
  },
  {
   "cell_type": "code",
   "execution_count": 21,
   "id": "589da0a8",
   "metadata": {},
   "outputs": [
    {
     "data": {
      "text/plain": [
       "True"
      ]
     },
     "execution_count": 21,
     "metadata": {},
     "output_type": "execute_result"
    }
   ],
   "source": [
    " os.path.isdir('C:\\\\Users\\\\ankit19.gupta\\\\')"
   ]
  },
  {
   "cell_type": "markdown",
   "id": "a0e511b4",
   "metadata": {},
   "source": [
    "Similarly, os.path.isfile checks whether it’s a file."
   ]
  },
  {
   "cell_type": "markdown",
   "id": "f15ee033",
   "metadata": {},
   "source": [
    "os.listdir returns a list of the files (and other directories) in the given directory:\n"
   ]
  },
  {
   "cell_type": "code",
   "execution_count": 22,
   "id": "a4db5d8f",
   "metadata": {},
   "outputs": [
    {
     "data": {
      "text/plain": [
       "['.ipynb_checkpoints',\n",
       " 'Chapter_1.ipynb',\n",
       " 'Chapter_10_Lists.ipynb',\n",
       " 'Chapter_11_Dictionary.ipynb',\n",
       " 'Chapter_12_Tuples.ipynb',\n",
       " 'Chapter_13_Files.ipynb',\n",
       " 'Chapter_2.ipynb',\n",
       " 'Chapter_3.ipynb',\n",
       " 'Chapter_4.ipynb',\n",
       " 'Chapter_5.ipynb',\n",
       " 'Chapter_8.ipynb',\n",
       " 'Chapter_9_Case_Study.ipynb',\n",
       " 'mypolygon.py',\n",
       " 'output.txt',\n",
       " 'words.txt']"
      ]
     },
     "execution_count": 22,
     "metadata": {},
     "output_type": "execute_result"
    }
   ],
   "source": [
    "os.listdir(cwd)"
   ]
  },
  {
   "cell_type": "markdown",
   "id": "97e9e0cb",
   "metadata": {},
   "source": [
    "To demonstrate these functions, the following example “walks” through a directory, prints\n",
    "the names of all the files, and calls itself recursively on all the directories."
   ]
  },
  {
   "cell_type": "code",
   "execution_count": 23,
   "id": "bc290b73",
   "metadata": {},
   "outputs": [],
   "source": [
    "def walk(dirname):\n",
    "    for name in os.listdir(dirname):\n",
    "        path = os.path.join(dirname, name)\n",
    "        if os.path.isfile(path):\n",
    "            print(path)\n",
    "        else:\n",
    "            walk(path)"
   ]
  },
  {
   "cell_type": "markdown",
   "id": "35034588",
   "metadata": {},
   "source": [
    "os.path.join takes a directory and a file name and joins them into a complete path."
   ]
  },
  {
   "cell_type": "markdown",
   "id": "0b524255",
   "metadata": {},
   "source": [
    "The os module provides a function called walk that is similar to this one but more versatile. As an exercise, read the documentation and use it to print the names of the\n",
    "files in a given directory and its subdirectories. You can download my solution from\n",
    "https://thinkpython.com/code/walk.py."
   ]
  },
  {
   "cell_type": "code",
   "execution_count": 4,
   "id": "2c2e7e41",
   "metadata": {},
   "outputs": [
    {
     "data": {
      "text/plain": [
       "<generator object _walk at 0x0000029C3F160EB0>"
      ]
     },
     "execution_count": 4,
     "metadata": {},
     "output_type": "execute_result"
    }
   ],
   "source": [
    "os.walk('C:\\\\Users\\\\ankit19.gupta')"
   ]
  },
  {
   "cell_type": "code",
   "execution_count": 7,
   "id": "25768e9c",
   "metadata": {},
   "outputs": [
    {
     "name": "stdout",
     "output_type": "stream",
     "text": [
      ".\n",
      "['.ipynb_checkpoints', '__pycache__']\n",
      "['158-0.txt', 'captions.bak', 'captions.dat', 'captions.dir', 'Chapter_10_Lists.ipynb', 'Chapter_10_Lists.pdf', 'Chapter_11_Dictionary.ipynb', 'Chapter_11_Dictionary.pdf', 'Chapter_12_Tuples.ipynb', 'Chapter_12_Tuples.pdf', 'Chapter_13_Files.ipynb', 'Chapter_14_Classes_and_objects.ipynb', 'Chapter_15_Classes_and_functions.ipynb', 'Chapter_16_Classes_and_methods.ipynb', 'Chapter_17_Inheritance.ipynb', 'Chapter_1_The_way_of_the_program.ipynb', 'Chapter_1_The_way_of_the_program.pdf', 'Chapter_2_Variables_expressions_and_statements.ipynb', 'Chapter_2_Variables_expressions_and_statements.pdf', 'Chapter_3_Functions.ipynb', 'Chapter_3_Functions.pdf', 'Chapter_4_Case_study_interface_design.ipynb', 'Chapter_4_Case_study_interface_design.pdf', 'Chapter_5_Conditionals_and_recursion.ipynb', 'Chapter_5_Conditionals_and_recursion.pdf', 'Chapter_6_Fruitful_functions.ipynb', 'Chapter_6_Fruitful_functions.pdf', 'Chapter_7_Iteration.ipynb', 'Chapter_7_Iteration.pdf', 'Chapter_8_Strings.ipynb', 'Chapter_8_Strings.pdf', 'Chapter_9_Case_Study.ipynb', 'Chapter_9_Case_Study.pdf', 'mypolygon.py', 'output.txt', 'wc.py', 'words.txt']\n",
      "--------------------------------\n",
      ".\\.ipynb_checkpoints\n",
      "[]\n",
      "['Chapter_10_Lists-checkpoint.ipynb', 'Chapter_11_Dictionary-checkpoint.ipynb', 'Chapter_12_Tuples-checkpoint.ipynb', 'Chapter_13_Files-checkpoint.ipynb', 'Chapter_14_Classes_and_objects-checkpoint.ipynb', 'Chapter_15_Classes_and_functions-checkpoint.ipynb', 'Chapter_16_Classes_and_methods-checkpoint.ipynb', 'Chapter_17_Inheritance-checkpoint.ipynb', 'Chapter_1_The_way_of_the_program-checkpoint.ipynb', 'Chapter_2_Variables_expressions_and_statements-checkpoint.ipynb', 'Chapter_3_Functions-checkpoint.ipynb', 'Chapter_4_Case study_interface_design-checkpoint.ipynb', 'Chapter_5_Conditionals_and_recursion-checkpoint.ipynb', 'Chapter_6_Fruitful_functions-checkpoint.ipynb', 'Chapter_7_Iteration-checkpoint.ipynb', 'Chapter_8_Strings-checkpoint.ipynb', 'Chapter_9_Case_Study-checkpoint.ipynb']\n",
      "--------------------------------\n",
      ".\\__pycache__\n",
      "[]\n",
      "['wc.cpython-36.pyc']\n",
      "--------------------------------\n"
     ]
    }
   ],
   "source": [
    "for (root,dirs,files) in os.walk('.', topdown=True): \n",
    "        print (root) \n",
    "        print (dirs) \n",
    "        print (files) \n",
    "        print ('--------------------------------') "
   ]
  },
  {
   "cell_type": "markdown",
   "id": "176ef27e",
   "metadata": {},
   "source": [
    "## Catching exceptions"
   ]
  },
  {
   "cell_type": "markdown",
   "id": "2cb01ef8",
   "metadata": {},
   "source": [
    "A lot of things can go wrong when you try to read and write files. If you try to open a file\n",
    "that doesn’t exist, you get an FileNotFoundError:"
   ]
  },
  {
   "cell_type": "code",
   "execution_count": 27,
   "id": "757d1a68",
   "metadata": {},
   "outputs": [
    {
     "ename": "FileNotFoundError",
     "evalue": "[Errno 2] No such file or directory: 'bad_file'",
     "output_type": "error",
     "traceback": [
      "\u001b[1;31m---------------------------------------------------------------------------\u001b[0m",
      "\u001b[1;31mFileNotFoundError\u001b[0m                         Traceback (most recent call last)",
      "\u001b[1;32m<ipython-input-27-a7d7d7ad396b>\u001b[0m in \u001b[0;36m<module>\u001b[1;34m\u001b[0m\n\u001b[1;32m----> 1\u001b[1;33m \u001b[0mfin\u001b[0m \u001b[1;33m=\u001b[0m \u001b[0mopen\u001b[0m\u001b[1;33m(\u001b[0m\u001b[1;34m'bad_file'\u001b[0m\u001b[1;33m)\u001b[0m\u001b[1;33m\u001b[0m\u001b[1;33m\u001b[0m\u001b[0m\n\u001b[0m",
      "\u001b[1;31mFileNotFoundError\u001b[0m: [Errno 2] No such file or directory: 'bad_file'"
     ]
    }
   ],
   "source": [
    " fin = open('bad_file')"
   ]
  },
  {
   "cell_type": "code",
   "execution_count": 28,
   "id": "aca05796",
   "metadata": {},
   "outputs": [
    {
     "ename": "FileNotFoundError",
     "evalue": "[Errno 2] No such file or directory: '/etc/passwd'",
     "output_type": "error",
     "traceback": [
      "\u001b[1;31m---------------------------------------------------------------------------\u001b[0m",
      "\u001b[1;31mFileNotFoundError\u001b[0m                         Traceback (most recent call last)",
      "\u001b[1;32m<ipython-input-28-8a9adb191927>\u001b[0m in \u001b[0;36m<module>\u001b[1;34m\u001b[0m\n\u001b[1;32m----> 1\u001b[1;33m \u001b[0mfout\u001b[0m \u001b[1;33m=\u001b[0m \u001b[0mopen\u001b[0m\u001b[1;33m(\u001b[0m\u001b[1;34m'/etc/passwd'\u001b[0m\u001b[1;33m,\u001b[0m \u001b[1;34m'w'\u001b[0m\u001b[1;33m)\u001b[0m\u001b[1;33m\u001b[0m\u001b[1;33m\u001b[0m\u001b[0m\n\u001b[0m",
      "\u001b[1;31mFileNotFoundError\u001b[0m: [Errno 2] No such file or directory: '/etc/passwd'"
     ]
    }
   ],
   "source": [
    "fout = open('/etc/passwd', 'w')"
   ]
  },
  {
   "cell_type": "markdown",
   "id": "e8c0f1ef",
   "metadata": {},
   "source": [
    "And if you try to open a directory for reading, you get"
   ]
  },
  {
   "cell_type": "code",
   "execution_count": 32,
   "id": "cde2a9a9",
   "metadata": {},
   "outputs": [
    {
     "ename": "PermissionError",
     "evalue": "[Errno 13] Permission denied: 'C:\\\\Users'",
     "output_type": "error",
     "traceback": [
      "\u001b[1;31m---------------------------------------------------------------------------\u001b[0m",
      "\u001b[1;31mPermissionError\u001b[0m                           Traceback (most recent call last)",
      "\u001b[1;32m<ipython-input-32-ae85160e3fe0>\u001b[0m in \u001b[0;36m<module>\u001b[1;34m\u001b[0m\n\u001b[1;32m----> 1\u001b[1;33m \u001b[0mfin\u001b[0m \u001b[1;33m=\u001b[0m \u001b[0mopen\u001b[0m\u001b[1;33m(\u001b[0m\u001b[1;34m'C:\\\\Users'\u001b[0m\u001b[1;33m)\u001b[0m\u001b[1;33m\u001b[0m\u001b[1;33m\u001b[0m\u001b[0m\n\u001b[0m",
      "\u001b[1;31mPermissionError\u001b[0m: [Errno 13] Permission denied: 'C:\\\\Users'"
     ]
    }
   ],
   "source": [
    "fin = open('C:\\\\Users')"
   ]
  },
  {
   "cell_type": "markdown",
   "id": "b3928dad",
   "metadata": {},
   "source": [
    "To avoid these errors, you could use functions like os.path.exists and os.path.isfile,\n",
    "but it would take a lot of time and code to check all the possibilities (if “Errno 21” is any\n",
    "indication, there are at least 21 things that can go wrong)."
   ]
  },
  {
   "cell_type": "markdown",
   "id": "51c9bed4",
   "metadata": {},
   "source": [
    "It is better to go ahead and try—and deal with problems if they happen—which is exactly\n",
    "what the try statement does. The syntax is similar to an if...else statement:"
   ]
  },
  {
   "cell_type": "code",
   "execution_count": 33,
   "id": "b6eee5a2",
   "metadata": {},
   "outputs": [
    {
     "name": "stdout",
     "output_type": "stream",
     "text": [
      "Something went wrong.\n"
     ]
    }
   ],
   "source": [
    "try:\n",
    "    fin = open('bad_file')\n",
    "except:\n",
    "    print('Something went wrong.')"
   ]
  },
  {
   "cell_type": "markdown",
   "id": "150391ff",
   "metadata": {},
   "source": [
    "Python starts by executing the try clause. If all goes well, it skips the except clause and\n",
    "proceeds. If an exception occurs, it jumps out of the try clause and runs the except clause.\n",
    "Handling an exception with a try statement is called catching an exception. In this example, the except clause prints an error message that is not very helpful. In general, catching\n",
    "an exception gives you a chance to fix the problem, or try again, or at least end the program\n",
    "gracefully"
   ]
  },
  {
   "cell_type": "markdown",
   "id": "b9305f2b",
   "metadata": {},
   "source": [
    "A database is a file that is organized for storing data. Many databases are organized like a\n",
    "dictionary in the sense that they map from keys to values."
   ]
  },
  {
   "cell_type": "markdown",
   "id": "ec3b5bbf",
   "metadata": {},
   "source": [
    "The biggest difference between\n",
    "a database and a dictionary is that the database is on disk (or other permanent storage), so\n",
    "it persists after the program ends.\n"
   ]
  },
  {
   "cell_type": "markdown",
   "id": "a5f5f665",
   "metadata": {},
   "source": [
    "The module dbm provides an interface for creating and updating database files. As an\n",
    "example, I’ll create a database that contains captions for image files.     \n",
    "       \n",
    "Opening a database is similar to opening other files:"
   ]
  },
  {
   "cell_type": "code",
   "execution_count": 34,
   "id": "520c8223",
   "metadata": {},
   "outputs": [],
   "source": [
    "import dbm\n",
    "db = dbm.open('captions', 'c')"
   ]
  },
  {
   "cell_type": "markdown",
   "id": "de3a8a56",
   "metadata": {},
   "source": [
    "The mode 'c' means that the database should be created if it doesn’t already exist. The\n",
    "result is a database object that can be used (for most operations) like a dictionary.\n"
   ]
  },
  {
   "cell_type": "markdown",
   "id": "e06cfa07",
   "metadata": {},
   "source": [
    "When you create a new item, dbm updates the database file."
   ]
  },
  {
   "cell_type": "code",
   "execution_count": 35,
   "id": "721da1e9",
   "metadata": {},
   "outputs": [],
   "source": [
    " db['cleese.png'] = 'Photo of John Cleese.'"
   ]
  },
  {
   "cell_type": "markdown",
   "id": "34797ea5",
   "metadata": {},
   "source": [
    "When you access one of the items, dbm reads the file:"
   ]
  },
  {
   "cell_type": "code",
   "execution_count": 36,
   "id": "1953bd47",
   "metadata": {},
   "outputs": [
    {
     "data": {
      "text/plain": [
       "b'Photo of John Cleese.'"
      ]
     },
     "execution_count": 36,
     "metadata": {},
     "output_type": "execute_result"
    }
   ],
   "source": [
    " db['cleese.png']"
   ]
  },
  {
   "cell_type": "markdown",
   "id": "d2863389",
   "metadata": {},
   "source": [
    "The result is a bytes object, which is why it begins with b. A bytes object is similar to a\n",
    "string in many ways. When you get farther into Python, the difference becomes important,\n",
    "but for now we can ignore it."
   ]
  },
  {
   "cell_type": "markdown",
   "id": "93ca57bd",
   "metadata": {},
   "source": [
    "If you make another assignment to an existing key, dbm replaces the old value:"
   ]
  },
  {
   "cell_type": "code",
   "execution_count": 37,
   "id": "42858ac8",
   "metadata": {},
   "outputs": [
    {
     "data": {
      "text/plain": [
       "b'Photo of John Cleese doing a silly walk.'"
      ]
     },
     "execution_count": 37,
     "metadata": {},
     "output_type": "execute_result"
    }
   ],
   "source": [
    "db['cleese.png'] = 'Photo of John Cleese doing a silly walk.'\n",
    "db['cleese.png']"
   ]
  },
  {
   "cell_type": "markdown",
   "id": "97c17f89",
   "metadata": {},
   "source": [
    "Some dictionary methods, like keys and items, don’t work with database objects. But\n",
    "iteration with a for loop works:\n"
   ]
  },
  {
   "cell_type": "code",
   "execution_count": 38,
   "id": "9e420530",
   "metadata": {},
   "outputs": [
    {
     "name": "stdout",
     "output_type": "stream",
     "text": [
      "b'cleese.png' b'Photo of John Cleese doing a silly walk.'\n"
     ]
    }
   ],
   "source": [
    "for key in db.keys():\n",
    "    print(key, db[key])"
   ]
  },
  {
   "cell_type": "markdown",
   "id": "7ae6465f",
   "metadata": {},
   "source": [
    "As with other files, you should close the database when you are done:"
   ]
  },
  {
   "cell_type": "code",
   "execution_count": 39,
   "id": "6c45f771",
   "metadata": {},
   "outputs": [],
   "source": [
    "db.close()"
   ]
  },
  {
   "cell_type": "markdown",
   "id": "99ec79dd",
   "metadata": {},
   "source": [
    "## Pickling"
   ]
  },
  {
   "cell_type": "markdown",
   "id": "8e5ff5ad",
   "metadata": {},
   "source": [
    "A limitation of dbm is that the keys and values have to be strings or bytes. If you try to use\n",
    "any other type, you get an error."
   ]
  },
  {
   "cell_type": "markdown",
   "id": "a4843a44",
   "metadata": {},
   "source": [
    "The pickle module can help. It translates almost any type of object into a string suitable\n",
    "for storage in a database, and then translates strings back into objects."
   ]
  },
  {
   "cell_type": "markdown",
   "id": "15bf99dd",
   "metadata": {},
   "source": [
    "pickle.dumps takes an object as a parameter and returns a string representation (dumps is\n",
    "short for “dump string”):"
   ]
  },
  {
   "cell_type": "code",
   "execution_count": 40,
   "id": "88dd9d93",
   "metadata": {},
   "outputs": [
    {
     "data": {
      "text/plain": [
       "b'\\x80\\x03]q\\x00(K\\x01K\\x02K\\x03e.'"
      ]
     },
     "execution_count": 40,
     "metadata": {},
     "output_type": "execute_result"
    }
   ],
   "source": [
    "import pickle\n",
    "t = [1, 2, 3]\n",
    "pickle.dumps(t)"
   ]
  },
  {
   "cell_type": "markdown",
   "id": "6698b801",
   "metadata": {},
   "source": [
    "The format isn’t obvious to human readers; it is meant to be easy for pickle to interpret.\n",
    "pickle.loads (“load string”) reconstitutes the object:"
   ]
  },
  {
   "cell_type": "code",
   "execution_count": 41,
   "id": "f5b52802",
   "metadata": {},
   "outputs": [
    {
     "data": {
      "text/plain": [
       "[1, 2, 3]"
      ]
     },
     "execution_count": 41,
     "metadata": {},
     "output_type": "execute_result"
    }
   ],
   "source": [
    "t1 = [1, 2, 3]\n",
    "s = pickle.dumps(t1)\n",
    "t2 = pickle.loads(s)\n",
    "t2"
   ]
  },
  {
   "cell_type": "markdown",
   "id": "d9a705c2",
   "metadata": {},
   "source": [
    "Although the new object has the same value as the old, it is not (in general) the same object:"
   ]
  },
  {
   "cell_type": "code",
   "execution_count": 42,
   "id": "5bc49592",
   "metadata": {},
   "outputs": [
    {
     "data": {
      "text/plain": [
       "True"
      ]
     },
     "execution_count": 42,
     "metadata": {},
     "output_type": "execute_result"
    }
   ],
   "source": [
    " t1 == t2"
   ]
  },
  {
   "cell_type": "code",
   "execution_count": 43,
   "id": "f788b52a",
   "metadata": {},
   "outputs": [
    {
     "data": {
      "text/plain": [
       "False"
      ]
     },
     "execution_count": 43,
     "metadata": {},
     "output_type": "execute_result"
    }
   ],
   "source": [
    "t1 is t2"
   ]
  },
  {
   "cell_type": "markdown",
   "id": "76042f96",
   "metadata": {},
   "source": [
    "In other words, pickling and then unpickling has the same effect as copying the object.      \n",
    "     \n",
    "You can use pickle to store non-strings in a database.  \n",
    "      \n",
    "In fact, this combination is so common that it has been encapsulated in a module called shelve."
   ]
  },
  {
   "cell_type": "markdown",
   "id": "1edf8a53",
   "metadata": {},
   "source": [
    "## Pipes"
   ]
  },
  {
   "cell_type": "markdown",
   "id": "e2da931b",
   "metadata": {},
   "source": [
    "Most operating systems provide a command-line interface, also known as a shell. Shells\n",
    "usually provide commands to navigate the file system and launch applications.     \n",
    "     \n",
    "For example, in Unix you can change directories with cd, display the contents of a directory with ls,\n",
    "and launch a web browser by typing (for example) firefox."
   ]
  },
  {
   "cell_type": "markdown",
   "id": "90faa065",
   "metadata": {},
   "source": [
    "Any program that you can launch from the shell can also be launched from Python using\n",
    "a pipe object, which represents a running program."
   ]
  },
  {
   "cell_type": "markdown",
   "id": "3d60b8cb",
   "metadata": {},
   "source": [
    "For example, the Unix command ls -l normally displays the contents of the current directory in long format. You can launch ls with os.popen:"
   ]
  },
  {
   "cell_type": "code",
   "execution_count": 8,
   "id": "087f4749",
   "metadata": {},
   "outputs": [],
   "source": [
    "cmd = 'ls -l'\n",
    "fp = os.popen(cmd)"
   ]
  },
  {
   "cell_type": "markdown",
   "id": "41428a82",
   "metadata": {},
   "source": [
    "popen is deprecated now, which means we are supposed to stop using it and start using the subprocess\n",
    "module. But for simple cases, I find subprocess more complicated than necessary. So I am going to keep using\n",
    "popen until they take it away"
   ]
  },
  {
   "cell_type": "markdown",
   "id": "693d250e",
   "metadata": {},
   "source": [
    "The argument is a string that contains a shell command. The return value is an object that\n",
    "behaves like an open file. You can read the output from the ls process one line at a time\n",
    "with readline or get the whole thing at once with read:\n"
   ]
  },
  {
   "cell_type": "code",
   "execution_count": 9,
   "id": "3be907dd",
   "metadata": {},
   "outputs": [],
   "source": [
    "res = fp.read()"
   ]
  },
  {
   "cell_type": "code",
   "execution_count": 10,
   "id": "36d84b1d",
   "metadata": {},
   "outputs": [
    {
     "data": {
      "text/plain": [
       "'total 6221\\n-rw-r--r-- 1 Ankit19.Gupta 1049089  927445 Dec 25 01:10 158-0.txt\\n-rw-r--r-- 1 Ankit19.Gupta 1049089   19909 Mar  6 13:52 Chapter_10_Lists.ipynb\\n-rw-r--r-- 1 Ankit19.Gupta 1049089   44071 Mar  6 13:54 Chapter_10_Lists.pdf\\n-rw-r--r-- 1 Ankit19.Gupta 1049089   31854 Mar  6 15:12 Chapter_11_Dictionary.ipynb\\n-rw-r--r-- 1 Ankit19.Gupta 1049089   56848 Mar  6 15:13 Chapter_11_Dictionary.pdf\\n-rw-r--r-- 1 Ankit19.Gupta 1049089   34636 Mar  6 16:05 Chapter_12_Tuples.ipynb\\n-rw-r--r-- 1 Ankit19.Gupta 1049089   57912 Mar  6 16:06 Chapter_12_Tuples.pdf\\n-rw-r--r-- 1 Ankit19.Gupta 1049089   38575 Mar  6 16:41 Chapter_13_Files.ipynb\\n-rw-r--r-- 1 Ankit19.Gupta 1049089   39694 Dec 24 16:39 Chapter_14_Classes_and_objects.ipynb\\n-rw-r--r-- 1 Ankit19.Gupta 1049089   11364 Dec 24 17:29 Chapter_15_Classes_and_functions.ipynb\\n-rw-r--r-- 1 Ankit19.Gupta 1049089   31550 Dec 24 23:03 Chapter_16_Classes_and_methods.ipynb\\n-rw-r--r-- 1 Ankit19.Gupta 1049089   92734 Dec 25 01:48 Chapter_17_Inheritance.ipynb\\n-rw-r--r-- 1 Ankit19.Gupta 1049089    7423 Mar  5 23:06 Chapter_1_The_way_of_the_program.ipynb\\n-rw-r--r-- 1 Ankit19.Gupta 1049089   32432 Mar  6 00:53 Chapter_1_The_way_of_the_program.pdf\\n-rw-r--r-- 1 Ankit19.Gupta 1049089   13638 Mar  6 01:22 Chapter_2_Variables_expressions_and_statements.ipynb\\n-rw-r--r-- 1 Ankit19.Gupta 1049089   44328 Mar  6 01:23 Chapter_2_Variables_expressions_and_statements.pdf\\n-rw-r--r-- 1 Ankit19.Gupta 1049089   18481 Mar  6 10:51 Chapter_3_Functions.ipynb\\n-rw-r--r-- 1 Ankit19.Gupta 1049089   44175 Mar  6 10:52 Chapter_3_Functions.pdf\\n-rw-r--r-- 1 Ankit19.Gupta 1049089    6359 Mar  6 11:10 Chapter_4_Case_study_interface_design.ipynb\\n-rw-r--r-- 1 Ankit19.Gupta 1049089   31557 Mar  6 11:18 Chapter_4_Case_study_interface_design.pdf\\n-rw-r--r-- 1 Ankit19.Gupta 1049089    6636 Mar  6 11:37 Chapter_5_Conditionals_and_recursion.ipynb\\n-rw-r--r-- 1 Ankit19.Gupta 1049089   30574 Mar  6 11:39 Chapter_5_Conditionals_and_recursion.pdf\\n-rw-r--r-- 1 Ankit19.Gupta 1049089    3035 Mar  6 11:42 Chapter_6_Fruitful_functions.ipynb\\n-rw-r--r-- 1 Ankit19.Gupta 1049089   23841 Mar  6 11:43 Chapter_6_Fruitful_functions.pdf\\n-rw-r--r-- 1 Ankit19.Gupta 1049089    4318 Mar  6 11:54 Chapter_7_Iteration.ipynb\\n-rw-r--r-- 1 Ankit19.Gupta 1049089   28156 Mar  6 11:55 Chapter_7_Iteration.pdf\\n-rw-r--r-- 1 Ankit19.Gupta 1049089   11888 Mar  6 12:09 Chapter_8_Strings.ipynb\\n-rw-r--r-- 1 Ankit19.Gupta 1049089   36587 Mar  6 12:09 Chapter_8_Strings.pdf\\n-rw-r--r-- 1 Ankit19.Gupta 1049089 2281243 Mar  6 13:25 Chapter_9_Case_Study.ipynb\\n-rw-r--r-- 1 Ankit19.Gupta 1049089 1178419 Mar  6 13:30 Chapter_9_Case_Study.pdf\\ndrwxr-xr-x 1 Ankit19.Gupta 1049089       0 Dec 12 13:36 __pycache__\\n-rw-r--r-- 1 Ankit19.Gupta 1049089      23 Dec 12 13:12 captions.bak\\n-rw-r--r-- 1 Ankit19.Gupta 1049089      40 Dec 12 13:13 captions.dat\\n-rw-r--r-- 1 Ankit19.Gupta 1049089      23 Dec 12 13:15 captions.dir\\n-rw-r--r-- 1 Ankit19.Gupta 1049089    2428 Nov 11 18:10 mypolygon.py\\n-rw-r--r-- 1 Ankit19.Gupta 1049089       2 Dec 12 13:34 output.txt\\n-rw-r--r-- 1 Ankit19.Gupta 1049089     132 Dec 12 13:35 wc.py\\n-rw-r--r-- 1 Ankit19.Gupta 1049089 1130294 Nov 19 17:26 words.txt\\n'"
      ]
     },
     "execution_count": 10,
     "metadata": {},
     "output_type": "execute_result"
    }
   ],
   "source": [
    "res"
   ]
  },
  {
   "cell_type": "markdown",
   "id": "9beab71c",
   "metadata": {},
   "source": [
    "When you are done, you close the pipe like a file:"
   ]
  },
  {
   "cell_type": "code",
   "execution_count": 47,
   "id": "126e82f7",
   "metadata": {},
   "outputs": [
    {
     "name": "stdout",
     "output_type": "stream",
     "text": [
      "None\n"
     ]
    }
   ],
   "source": [
    "stat = fp.close()\n",
    "print(stat)"
   ]
  },
  {
   "cell_type": "markdown",
   "id": "a7cba444",
   "metadata": {},
   "source": [
    "The return value is the final status of the ls process; None means that it ended normally\n",
    "(with no errors)."
   ]
  },
  {
   "cell_type": "markdown",
   "id": "84a65575",
   "metadata": {},
   "source": [
    "For example, most Unix systems provide a command called md5sum that reads the contents\n",
    "of a file and computes a “checksum”. You can read about MD5 at http://en.wikipedia.org/wiki/Md5. This command provides an efficient way to check whether two files have\n",
    "the same contents. The probability that different contents yield the same checksum is very\n",
    "small (that is, unlikely to happen before the universe collapses)."
   ]
  },
  {
   "cell_type": "markdown",
   "id": "e2134ec2",
   "metadata": {},
   "source": [
    "You can use a pipe to run md5sum from Python and get the result:"
   ]
  },
  {
   "cell_type": "code",
   "execution_count": 50,
   "id": "df0aab81",
   "metadata": {},
   "outputs": [
    {
     "name": "stdout",
     "output_type": "stream",
     "text": [
      "\n"
     ]
    }
   ],
   "source": [
    "filename = 'book.tex'\n",
    "cmd = 'md5sum ' + filename\n",
    "fp = os.popen(cmd)\n",
    "res = fp.read()\n",
    "stat = fp.close()\n",
    "print(res)"
   ]
  },
  {
   "cell_type": "code",
   "execution_count": 51,
   "id": "f8ef30a7",
   "metadata": {},
   "outputs": [
    {
     "name": "stdout",
     "output_type": "stream",
     "text": [
      "1\n"
     ]
    }
   ],
   "source": [
    "print(stat)"
   ]
  },
  {
   "cell_type": "markdown",
   "id": "5fc6665b",
   "metadata": {},
   "source": [
    "## Writing modules"
   ]
  },
  {
   "cell_type": "markdown",
   "id": "a85e079d",
   "metadata": {},
   "source": [
    "Any file that contains Python code can be imported as a module. For example, suppose\n",
    "you have a file named wc.py with the following code:"
   ]
  },
  {
   "cell_type": "code",
   "execution_count": 2,
   "id": "18636829",
   "metadata": {},
   "outputs": [
    {
     "name": "stdout",
     "output_type": "stream",
     "text": [
      "6\n"
     ]
    }
   ],
   "source": [
    "import wc"
   ]
  },
  {
   "cell_type": "markdown",
   "id": "bf81f861",
   "metadata": {},
   "source": [
    "Now you have a module object wc:"
   ]
  },
  {
   "cell_type": "code",
   "execution_count": 3,
   "id": "1e3ac860",
   "metadata": {},
   "outputs": [
    {
     "data": {
      "text/plain": [
       "<module 'wc' from 'C:\\\\Users\\\\ankit19.gupta\\\\OneDrive - Reliance Corporate IT Park Limited\\\\Desktop\\\\Practice_Code\\\\Python_Practice\\\\thinkpython\\\\wc.py'>"
      ]
     },
     "execution_count": 3,
     "metadata": {},
     "output_type": "execute_result"
    }
   ],
   "source": [
    "wc"
   ]
  },
  {
   "cell_type": "code",
   "execution_count": 4,
   "id": "a082b05b",
   "metadata": {},
   "outputs": [
    {
     "data": {
      "text/plain": [
       "6"
      ]
     },
     "execution_count": 4,
     "metadata": {},
     "output_type": "execute_result"
    }
   ],
   "source": [
    " wc.linecount('wc.py')"
   ]
  },
  {
   "cell_type": "markdown",
   "id": "d45d5342",
   "metadata": {},
   "source": [
    "So that’s how you write modules in Python"
   ]
  },
  {
   "cell_type": "markdown",
   "id": "022f4c0c",
   "metadata": {},
   "source": [
    "The only problem with this example is that when you import the module it runs the test\n",
    "code at the bottom. Normally when you import a module, it defines new functions but it\n",
    "doesn’t run them."
   ]
  },
  {
   "cell_type": "markdown",
   "id": "7306f8b4",
   "metadata": {},
   "source": [
    "Programs that will be imported as modules often use the following idiom:"
   ]
  },
  {
   "cell_type": "code",
   "execution_count": 7,
   "id": "4074d2d7",
   "metadata": {},
   "outputs": [
    {
     "name": "stdout",
     "output_type": "stream",
     "text": [
      "6\n"
     ]
    }
   ],
   "source": [
    "if __name__ == '__main__':\n",
    "    print(wc.linecount('wc.py'))"
   ]
  },
  {
   "cell_type": "markdown",
   "id": "c1f675e4",
   "metadata": {},
   "source": [
    "$\\text{__name__}$ is a built-in variable that is set when the program starts. If the program is running\n",
    "as a script, $\\text{__name__}$ has the value $\\text{__main__}$; in that case, the test code runs. Otherwise,\n",
    "if the module is being imported, the test code is skipped."
   ]
  },
  {
   "cell_type": "markdown",
   "id": "8d5cb271",
   "metadata": {},
   "source": [
    "Warning: If you import a module that has already been imported, Python does nothing. It\n",
    "does not re-read the file, even if it has changed.\n"
   ]
  },
  {
   "cell_type": "markdown",
   "id": "a507dc90",
   "metadata": {},
   "source": [
    "If you want to reload a module, you can use the built-in function reload, but it can be\n",
    "tricky, so the safest thing to do is restart the interpreter and then import the module again."
   ]
  },
  {
   "cell_type": "code",
   "execution_count": 8,
   "id": "6a7c20e1",
   "metadata": {},
   "outputs": [
    {
     "name": "stdout",
     "output_type": "stream",
     "text": [
      "1 2\t 3\n",
      " 4\n",
      "'1 2\\t 3\\n 4'\n"
     ]
    }
   ],
   "source": [
    "s = '1 2\\t 3\\n 4'\n",
    "print(s)\n",
    "print(repr(s))"
   ]
  },
  {
   "cell_type": "markdown",
   "id": "6700ae5b",
   "metadata": {},
   "source": [
    "The built-in function repr can help. It takes any object as an argument and returns a string\n",
    "representation of the object. For strings, it represents whitespace characters with backslash\n",
    "sequences.\n"
   ]
  },
  {
   "cell_type": "code",
   "execution_count": null,
   "id": "76aef603",
   "metadata": {},
   "outputs": [],
   "source": []
  }
 ],
 "metadata": {
  "kernelspec": {
   "display_name": "Python 3 (ipykernel)",
   "language": "python",
   "name": "python3"
  },
  "language_info": {
   "codemirror_mode": {
    "name": "ipython",
    "version": 3
   },
   "file_extension": ".py",
   "mimetype": "text/x-python",
   "name": "python",
   "nbconvert_exporter": "python",
   "pygments_lexer": "ipython3",
   "version": "3.9.18"
  }
 },
 "nbformat": 4,
 "nbformat_minor": 5
}
