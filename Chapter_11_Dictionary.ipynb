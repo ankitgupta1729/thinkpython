{
 "cells": [
  {
   "cell_type": "markdown",
   "id": "60b30c41",
   "metadata": {},
   "source": [
    "A dictionary is like a list, but more general. In a list, the indices have to be integers; in a\n",
    "dictionary they can be (almost) any type."
   ]
  },
  {
   "cell_type": "markdown",
   "id": "7f699089",
   "metadata": {},
   "source": [
    "A dictionary contains a collection of indices, which are called keys, and a collection of\n",
    "values. Each key is associated with a single value. The association of a key and a value is\n",
    "called a key-value pair or sometimes an item."
   ]
  },
  {
   "cell_type": "markdown",
   "id": "0352f708",
   "metadata": {},
   "source": [
    "In mathematical language, a dictionary represents a mapping from keys to values, so you\n",
    "can also say that each key “maps to” a value. As an example, we’ll build a dictionary that\n",
    "maps from English to Spanish words, so the keys and the values are all strings."
   ]
  },
  {
   "cell_type": "markdown",
   "id": "310ca065",
   "metadata": {},
   "source": [
    "The function dict creates a new dictionary with no items. Because dict is the name of a\n",
    "built-in function, you should avoid using it as a variable name."
   ]
  },
  {
   "cell_type": "code",
   "execution_count": 1,
   "id": "86e4d103",
   "metadata": {},
   "outputs": [
    {
     "data": {
      "text/plain": [
       "{}"
      ]
     },
     "execution_count": 1,
     "metadata": {},
     "output_type": "execute_result"
    }
   ],
   "source": [
    ">>> eng2sp = dict()\n",
    ">>> eng2sp"
   ]
  },
  {
   "cell_type": "markdown",
   "id": "3fec7c9f",
   "metadata": {},
   "source": [
    "The squiggly-brackets, {}, represent an empty dictionary. To add items to the dictionary,\n",
    "you can use square brackets:"
   ]
  },
  {
   "cell_type": "code",
   "execution_count": 2,
   "id": "84def321",
   "metadata": {},
   "outputs": [],
   "source": [
    "eng2sp['one'] = 'uno'"
   ]
  },
  {
   "cell_type": "code",
   "execution_count": 3,
   "id": "5681f1f9",
   "metadata": {},
   "outputs": [
    {
     "data": {
      "text/plain": [
       "{'one': 'uno'}"
      ]
     },
     "execution_count": 3,
     "metadata": {},
     "output_type": "execute_result"
    }
   ],
   "source": [
    "eng2sp"
   ]
  },
  {
   "cell_type": "code",
   "execution_count": 4,
   "id": "4185c1a4",
   "metadata": {},
   "outputs": [],
   "source": [
    "eng2sp = {'one': 'uno', 'two': 'dos', 'three': 'tres'}"
   ]
  },
  {
   "cell_type": "code",
   "execution_count": 6,
   "id": "379a1bc8",
   "metadata": {},
   "outputs": [
    {
     "data": {
      "text/plain": [
       "{'one': 'uno', 'two': 'dos', 'three': 'tres'}"
      ]
     },
     "execution_count": 6,
     "metadata": {},
     "output_type": "execute_result"
    }
   ],
   "source": [
    "eng2sp"
   ]
  },
  {
   "cell_type": "markdown",
   "id": "83b1b243",
   "metadata": {},
   "source": [
    "The order of the key-value pairs might not be the same. If you type the same example\n",
    "on your computer, you might get a different result. In general, the order of items in a\n",
    "dictionary is unpredictable."
   ]
  },
  {
   "cell_type": "code",
   "execution_count": 7,
   "id": "802ce26b",
   "metadata": {},
   "outputs": [
    {
     "data": {
      "text/plain": [
       "'dos'"
      ]
     },
     "execution_count": 7,
     "metadata": {},
     "output_type": "execute_result"
    }
   ],
   "source": [
    "eng2sp['two']"
   ]
  },
  {
   "cell_type": "markdown",
   "id": "938a0584",
   "metadata": {},
   "source": [
    "The key 'two' always maps to the value 'dos' so the order of the items doesn’t matter."
   ]
  },
  {
   "cell_type": "markdown",
   "id": "f72c970b",
   "metadata": {},
   "source": [
    "If the key isn’t in the dictionary, you get an exception:"
   ]
  },
  {
   "cell_type": "code",
   "execution_count": 8,
   "id": "50642941",
   "metadata": {},
   "outputs": [
    {
     "ename": "KeyError",
     "evalue": "'four'",
     "output_type": "error",
     "traceback": [
      "\u001b[1;31m---------------------------------------------------------------------------\u001b[0m",
      "\u001b[1;31mKeyError\u001b[0m                                  Traceback (most recent call last)",
      "\u001b[1;32m<ipython-input-8-d6070d49aedb>\u001b[0m in \u001b[0;36m<module>\u001b[1;34m\u001b[0m\n\u001b[1;32m----> 1\u001b[1;33m \u001b[0meng2sp\u001b[0m\u001b[1;33m[\u001b[0m\u001b[1;34m'four'\u001b[0m\u001b[1;33m]\u001b[0m\u001b[1;33m\u001b[0m\u001b[1;33m\u001b[0m\u001b[0m\n\u001b[0m",
      "\u001b[1;31mKeyError\u001b[0m: 'four'"
     ]
    }
   ],
   "source": [
    "eng2sp['four']"
   ]
  },
  {
   "cell_type": "code",
   "execution_count": 9,
   "id": "252dfca5",
   "metadata": {},
   "outputs": [
    {
     "data": {
      "text/plain": [
       "3"
      ]
     },
     "execution_count": 9,
     "metadata": {},
     "output_type": "execute_result"
    }
   ],
   "source": [
    "len(eng2sp)"
   ]
  },
  {
   "cell_type": "markdown",
   "id": "db6bf6b0",
   "metadata": {},
   "source": [
    "The in operator works on dictionaries, too; it tells you whether something appears as a key\n",
    "in the dictionary (appearing as a value is not good enough)."
   ]
  },
  {
   "cell_type": "code",
   "execution_count": 10,
   "id": "45db4a9b",
   "metadata": {},
   "outputs": [
    {
     "data": {
      "text/plain": [
       "True"
      ]
     },
     "execution_count": 10,
     "metadata": {},
     "output_type": "execute_result"
    }
   ],
   "source": [
    "'one' in eng2sp"
   ]
  },
  {
   "cell_type": "code",
   "execution_count": 11,
   "id": "b5d15ba5",
   "metadata": {},
   "outputs": [
    {
     "data": {
      "text/plain": [
       "False"
      ]
     },
     "execution_count": 11,
     "metadata": {},
     "output_type": "execute_result"
    }
   ],
   "source": [
    "'uno' in eng2sp"
   ]
  },
  {
   "cell_type": "markdown",
   "id": "86f32140",
   "metadata": {},
   "source": [
    "To see whether something appears as a value in a dictionary, you can use the method\n",
    "values, which returns a collection of values, and then use the in operator:"
   ]
  },
  {
   "cell_type": "code",
   "execution_count": 12,
   "id": "9086486c",
   "metadata": {},
   "outputs": [
    {
     "data": {
      "text/plain": [
       "True"
      ]
     },
     "execution_count": 12,
     "metadata": {},
     "output_type": "execute_result"
    }
   ],
   "source": [
    ">>> vals = eng2sp.values()\n",
    ">>> 'uno' in vals"
   ]
  },
  {
   "cell_type": "code",
   "execution_count": 13,
   "id": "044c18db",
   "metadata": {},
   "outputs": [
    {
     "data": {
      "text/plain": [
       "dict_values(['uno', 'dos', 'tres'])"
      ]
     },
     "execution_count": 13,
     "metadata": {},
     "output_type": "execute_result"
    }
   ],
   "source": [
    "vals"
   ]
  },
  {
   "cell_type": "markdown",
   "id": "7ba5a145",
   "metadata": {},
   "source": [
    "The in operator uses different algorithms for lists and dictionaries. For lists, it searches the\n",
    "elements of the list in order, as in Section 8.6. As the list gets longer, the search time gets\n",
    "longer in direct proportion.      \n",
    "      \n",
    "Python dictionaries use a data structure called a hashtable that has a remarkable property:\n",
    "the in operator takes about the same amount of time no matter how many items are in the\n",
    "dictionary. I explain how that’s possible in Section B.4, but the explanation might not make\n",
    "sense until you’ve read a few more chapters."
   ]
  },
  {
   "cell_type": "markdown",
   "id": "b6cc7ba1",
   "metadata": {},
   "source": [
    "Suppose you are given a string and you want to count how many times each letter appears.\n",
    "There are several ways you could do it:"
   ]
  },
  {
   "cell_type": "markdown",
   "id": "726269a0",
   "metadata": {},
   "source": [
    "1. You could create 26 variables, one for each letter of the alphabet. Then you could traverse\n",
    "the string and, for each character, increment the corresponding counter, probably\n",
    "using a chained conditional.        \n",
    "   \n",
    "2. You could create a list with 26 elements. Then you could convert each character to\n",
    "a number (using the built-in function ord), use the number as an index into the list,\n",
    "and increment the appropriate counter.     \n",
    "       \n",
    "3. You could create a dictionary with characters as keys and counters as the corresponding\n",
    "values. The first time you see a character, you would add an item to the dictionary.\n",
    "After that you would increment the value of an existing item.      \n",
    "     \n",
    "Each of these options performs the same computation, but each of them implements that\n",
    "computation in a different way.     \n",
    "    \n",
    "An implementation is a way of performing a computation; some implementations are\n",
    "better than others. For example, an advantage of the dictionary implementation is that we\n",
    "don’t have to know ahead of time which letters appear in the string and we only have to\n",
    "make room for the letters that do appear."
   ]
  },
  {
   "cell_type": "code",
   "execution_count": 15,
   "id": "8eccd6d5",
   "metadata": {},
   "outputs": [],
   "source": [
    "def histogram(s):\n",
    "    d = dict()\n",
    "    for c in s:\n",
    "        if c not in d:\n",
    "            d[c] = 1\n",
    "        else:\n",
    "            d[c] += 1\n",
    "    return d"
   ]
  },
  {
   "cell_type": "code",
   "execution_count": 16,
   "id": "f23a4118",
   "metadata": {},
   "outputs": [
    {
     "data": {
      "text/plain": [
       "{'b': 1, 'r': 2, 'o': 2, 'n': 1, 't': 1, 's': 2, 'a': 1, 'u': 2}"
      ]
     },
     "execution_count": 16,
     "metadata": {},
     "output_type": "execute_result"
    }
   ],
   "source": [
    ">>> h = histogram('brontosaurus')\n",
    ">>> h"
   ]
  },
  {
   "cell_type": "markdown",
   "id": "4e8cdb7e",
   "metadata": {},
   "source": [
    "Dictionaries have a method called get that takes a key and a default value. If the key\n",
    "appears in the dictionary, get returns the corresponding value; otherwise it returns the\n",
    "default value. For example:"
   ]
  },
  {
   "cell_type": "code",
   "execution_count": 17,
   "id": "88152fe7",
   "metadata": {},
   "outputs": [
    {
     "data": {
      "text/plain": [
       "{'a': 1}"
      ]
     },
     "execution_count": 17,
     "metadata": {},
     "output_type": "execute_result"
    }
   ],
   "source": [
    ">>> h = histogram('a')\n",
    ">>> h"
   ]
  },
  {
   "cell_type": "code",
   "execution_count": 18,
   "id": "897f3c03",
   "metadata": {},
   "outputs": [
    {
     "data": {
      "text/plain": [
       "1"
      ]
     },
     "execution_count": 18,
     "metadata": {},
     "output_type": "execute_result"
    }
   ],
   "source": [
    ">>> h.get('a', 0)"
   ]
  },
  {
   "cell_type": "code",
   "execution_count": 19,
   "id": "a8bf5d40",
   "metadata": {},
   "outputs": [
    {
     "data": {
      "text/plain": [
       "0"
      ]
     },
     "execution_count": 19,
     "metadata": {},
     "output_type": "execute_result"
    }
   ],
   "source": [
    "h.get('c', 0)"
   ]
  },
  {
   "cell_type": "markdown",
   "id": "c6648a4d",
   "metadata": {},
   "source": [
    "If you use a dictionary in a for statement, it traverses the keys of the dictionary. For example,\n",
    "print_hist prints each key and the corresponding value:"
   ]
  },
  {
   "cell_type": "code",
   "execution_count": 20,
   "id": "1d4716fc",
   "metadata": {},
   "outputs": [],
   "source": [
    "def print_hist(h):\n",
    "    for c in h:\n",
    "        print(c, h[c])"
   ]
  },
  {
   "cell_type": "code",
   "execution_count": 21,
   "id": "be9d2ca4",
   "metadata": {},
   "outputs": [
    {
     "name": "stdout",
     "output_type": "stream",
     "text": [
      "p 1\n",
      "a 1\n",
      "r 2\n",
      "o 1\n",
      "t 1\n"
     ]
    }
   ],
   "source": [
    ">>> h = histogram('parrot')\n",
    ">>> print_hist(h)"
   ]
  },
  {
   "cell_type": "markdown",
   "id": "09222a47",
   "metadata": {},
   "source": [
    "Again, the keys are in no particular order. To traverse the keys in sorted order, you can use\n",
    "the built-in function sorted:"
   ]
  },
  {
   "cell_type": "code",
   "execution_count": 22,
   "id": "5494719a",
   "metadata": {},
   "outputs": [
    {
     "name": "stdout",
     "output_type": "stream",
     "text": [
      "a 1\n",
      "o 1\n",
      "p 1\n",
      "r 2\n",
      "t 1\n"
     ]
    }
   ],
   "source": [
    ">>> for key in sorted(h):\n",
    "    print(key, h[key])"
   ]
  },
  {
   "cell_type": "markdown",
   "id": "5dbb2eaf",
   "metadata": {},
   "source": [
    "Given a dictionary d and a key k, it is easy to find the corresponding value v = d[k]. This\n",
    "operation is called a lookup."
   ]
  },
  {
   "cell_type": "markdown",
   "id": "643c3f35",
   "metadata": {},
   "source": [
    "But what if you have v and you want to find k? You have two problems: first, there might\n",
    "be more than one key that maps to the value v. Depending on the application, you might\n",
    "be able to pick one, or you might have to make a list that contains all of them. Second,\n",
    "there is no simple syntax to do a reverse lookup; you have to search."
   ]
  },
  {
   "cell_type": "code",
   "execution_count": 23,
   "id": "e0d9d9b0",
   "metadata": {},
   "outputs": [],
   "source": [
    "def reverse_lookup(d, v):\n",
    "    for k in d:\n",
    "        if d[k] == v:\n",
    "            return k\n",
    "    raise LookupError()"
   ]
  },
  {
   "cell_type": "markdown",
   "id": "c7096a63",
   "metadata": {},
   "source": [
    "The raise statement causes an exception; in this case it causes a\n",
    "LookupError, which is a built-in exception used to indicate that a lookup operation failed."
   ]
  },
  {
   "cell_type": "markdown",
   "id": "a3ec2e21",
   "metadata": {},
   "source": [
    "If we get to the end of the loop, that means v doesn’t appear in the dictionary as a value, so\n",
    "we raise an exception."
   ]
  },
  {
   "cell_type": "code",
   "execution_count": 24,
   "id": "52bfa9b8",
   "metadata": {},
   "outputs": [
    {
     "data": {
      "text/plain": [
       "'r'"
      ]
     },
     "execution_count": 24,
     "metadata": {},
     "output_type": "execute_result"
    }
   ],
   "source": [
    ">>> h = histogram('parrot')\n",
    ">>> key = reverse_lookup(h, 2)\n",
    ">>> key"
   ]
  },
  {
   "cell_type": "code",
   "execution_count": 25,
   "id": "983a49db",
   "metadata": {},
   "outputs": [
    {
     "ename": "LookupError",
     "evalue": "",
     "output_type": "error",
     "traceback": [
      "\u001b[1;31m---------------------------------------------------------------------------\u001b[0m",
      "\u001b[1;31mLookupError\u001b[0m                               Traceback (most recent call last)",
      "\u001b[1;32m<ipython-input-25-a9dd9a7a13ae>\u001b[0m in \u001b[0;36m<module>\u001b[1;34m\u001b[0m\n\u001b[1;32m----> 1\u001b[1;33m \u001b[0mkey\u001b[0m \u001b[1;33m=\u001b[0m \u001b[0mreverse_lookup\u001b[0m\u001b[1;33m(\u001b[0m\u001b[0mh\u001b[0m\u001b[1;33m,\u001b[0m \u001b[1;36m3\u001b[0m\u001b[1;33m)\u001b[0m\u001b[1;33m\u001b[0m\u001b[1;33m\u001b[0m\u001b[0m\n\u001b[0m",
      "\u001b[1;32m<ipython-input-23-624b98b92ec0>\u001b[0m in \u001b[0;36mreverse_lookup\u001b[1;34m(d, v)\u001b[0m\n\u001b[0;32m      3\u001b[0m         \u001b[1;32mif\u001b[0m \u001b[0md\u001b[0m\u001b[1;33m[\u001b[0m\u001b[0mk\u001b[0m\u001b[1;33m]\u001b[0m \u001b[1;33m==\u001b[0m \u001b[0mv\u001b[0m\u001b[1;33m:\u001b[0m\u001b[1;33m\u001b[0m\u001b[1;33m\u001b[0m\u001b[0m\n\u001b[0;32m      4\u001b[0m             \u001b[1;32mreturn\u001b[0m \u001b[0mk\u001b[0m\u001b[1;33m\u001b[0m\u001b[1;33m\u001b[0m\u001b[0m\n\u001b[1;32m----> 5\u001b[1;33m     \u001b[1;32mraise\u001b[0m \u001b[0mLookupError\u001b[0m\u001b[1;33m(\u001b[0m\u001b[1;33m)\u001b[0m\u001b[1;33m\u001b[0m\u001b[1;33m\u001b[0m\u001b[0m\n\u001b[0m",
      "\u001b[1;31mLookupError\u001b[0m: "
     ]
    }
   ],
   "source": [
    "key = reverse_lookup(h, 3)"
   ]
  },
  {
   "cell_type": "markdown",
   "id": "42132dca",
   "metadata": {},
   "source": [
    "The effect when you raise an exception is the same as when Python raises one: it prints a\n",
    "traceback and an error message.\n",
    "When you raise an exception, you can provide a detailed error message as an optional\n",
    "argument. For example:"
   ]
  },
  {
   "cell_type": "code",
   "execution_count": 26,
   "id": "3d9eb505",
   "metadata": {},
   "outputs": [
    {
     "ename": "LookupError",
     "evalue": "value does not appear in the dictionary",
     "output_type": "error",
     "traceback": [
      "\u001b[1;31m---------------------------------------------------------------------------\u001b[0m",
      "\u001b[1;31mLookupError\u001b[0m                               Traceback (most recent call last)",
      "\u001b[1;32m<ipython-input-26-809967c2546f>\u001b[0m in \u001b[0;36m<module>\u001b[1;34m\u001b[0m\n\u001b[1;32m----> 1\u001b[1;33m \u001b[1;32mraise\u001b[0m \u001b[0mLookupError\u001b[0m\u001b[1;33m(\u001b[0m\u001b[1;34m'value does not appear in the dictionary'\u001b[0m\u001b[1;33m)\u001b[0m\u001b[1;33m\u001b[0m\u001b[1;33m\u001b[0m\u001b[0m\n\u001b[0m",
      "\u001b[1;31mLookupError\u001b[0m: value does not appear in the dictionary"
     ]
    }
   ],
   "source": [
    "raise LookupError('value does not appear in the dictionary')"
   ]
  },
  {
   "cell_type": "markdown",
   "id": "df2afefd",
   "metadata": {},
   "source": [
    "A reverse lookup is much slower than a forward lookup; if you have to do it often, or if the\n",
    "dictionary gets big, the performance of your program will suffer."
   ]
  },
  {
   "cell_type": "markdown",
   "id": "d18c71c3",
   "metadata": {},
   "source": [
    "Lists can appear as values in a dictionary. For example, if you are given a dictionary that\n",
    "maps from letters to frequencies, you might want to invert it; that is, create a dictionary\n",
    "that maps from frequencies to letters. Since there might be several letters with the same\n",
    "frequency, each value in the inverted dictionary should be a list of letters.\n",
    "Here is a function that inverts a dictionary:"
   ]
  },
  {
   "cell_type": "code",
   "execution_count": 28,
   "id": "5505d099",
   "metadata": {},
   "outputs": [],
   "source": [
    "def invert_dict(d):\n",
    "    inverse = dict()\n",
    "    for key in d:\n",
    "        val = d[key]\n",
    "        if val not in inverse:\n",
    "            inverse[val] = [key]\n",
    "        else:\n",
    "            inverse[val].append(key)\n",
    "    return inverse"
   ]
  },
  {
   "cell_type": "code",
   "execution_count": 29,
   "id": "b2e6efa3",
   "metadata": {},
   "outputs": [
    {
     "data": {
      "text/plain": [
       "{'p': 1, 'a': 1, 'r': 2, 'o': 1, 't': 1}"
      ]
     },
     "execution_count": 29,
     "metadata": {},
     "output_type": "execute_result"
    }
   ],
   "source": [
    "hist = histogram('parrot')\n",
    ">>> hist"
   ]
  },
  {
   "cell_type": "code",
   "execution_count": 30,
   "id": "3dcec9db",
   "metadata": {},
   "outputs": [
    {
     "data": {
      "text/plain": [
       "{1: ['p', 'a', 'o', 't'], 2: ['r']}"
      ]
     },
     "execution_count": 30,
     "metadata": {},
     "output_type": "execute_result"
    }
   ],
   "source": [
    ">>> inverse = invert_dict(hist)\n",
    ">>> inverse"
   ]
  },
  {
   "cell_type": "markdown",
   "id": "f69d6234",
   "metadata": {},
   "source": [
    "Lists can be values in a dictionary, as this example shows, but they cannot be keys. Here’s\n",
    "what happens if you try:"
   ]
  },
  {
   "cell_type": "code",
   "execution_count": 31,
   "id": "5fcec392",
   "metadata": {},
   "outputs": [
    {
     "ename": "TypeError",
     "evalue": "unhashable type: 'list'",
     "output_type": "error",
     "traceback": [
      "\u001b[1;31m---------------------------------------------------------------------------\u001b[0m",
      "\u001b[1;31mTypeError\u001b[0m                                 Traceback (most recent call last)",
      "\u001b[1;32m<ipython-input-31-e3ea20954cd2>\u001b[0m in \u001b[0;36m<module>\u001b[1;34m\u001b[0m\n\u001b[0;32m      1\u001b[0m \u001b[0mt\u001b[0m \u001b[1;33m=\u001b[0m \u001b[1;33m[\u001b[0m\u001b[1;36m1\u001b[0m\u001b[1;33m,\u001b[0m \u001b[1;36m2\u001b[0m\u001b[1;33m,\u001b[0m \u001b[1;36m3\u001b[0m\u001b[1;33m]\u001b[0m\u001b[1;33m\u001b[0m\u001b[1;33m\u001b[0m\u001b[0m\n\u001b[0;32m      2\u001b[0m \u001b[0md\u001b[0m \u001b[1;33m=\u001b[0m \u001b[0mdict\u001b[0m\u001b[1;33m(\u001b[0m\u001b[1;33m)\u001b[0m\u001b[1;33m\u001b[0m\u001b[1;33m\u001b[0m\u001b[0m\n\u001b[1;32m----> 3\u001b[1;33m \u001b[0md\u001b[0m\u001b[1;33m[\u001b[0m\u001b[0mt\u001b[0m\u001b[1;33m]\u001b[0m \u001b[1;33m=\u001b[0m \u001b[1;34m'oops'\u001b[0m\u001b[1;33m\u001b[0m\u001b[1;33m\u001b[0m\u001b[0m\n\u001b[0m",
      "\u001b[1;31mTypeError\u001b[0m: unhashable type: 'list'"
     ]
    }
   ],
   "source": [
    ">>> t = [1, 2, 3]\n",
    ">>> d = dict()\n",
    ">>> d[t] = 'oops'"
   ]
  },
  {
   "cell_type": "markdown",
   "id": "35eec3cc",
   "metadata": {},
   "source": [
    "I mentioned earlier that a dictionary is implemented using a hashtable and that means that\n",
    "the keys have to be hashable.         \n",
    "     \n",
    "A hash is a function that takes a value (of any kind) and returns an integer. Dictionaries\n",
    "use these integers, called hash values, to store and look up key-value pairs."
   ]
  },
  {
   "cell_type": "markdown",
   "id": "1605783b",
   "metadata": {},
   "source": [
    "This system works fine if the keys are immutable. But if the keys are mutable, like lists,\n",
    "bad things happen. For example, when you create a key-value pair, Python hashes the key\n",
    "and stores it in the corresponding location. If you modify the key and then hash it again, it\n",
    "would go to a different location. In that case you might have two entries for the same key,\n",
    "or you might not be able to find a key. Either way, the dictionary wouldn’t work correctly"
   ]
  },
  {
   "cell_type": "markdown",
   "id": "6d83416e",
   "metadata": {},
   "source": [
    "That’s why keys have to be hashable, and why mutable types like lists aren’t. The simplest\n",
    "way to get around this limitation is to use tuples, which we will see in the next chapter"
   ]
  },
  {
   "cell_type": "markdown",
   "id": "3dc14632",
   "metadata": {},
   "source": [
    "Since dictionaries are mutable, they can’t be used as keys, but they can be used as values."
   ]
  },
  {
   "cell_type": "markdown",
   "id": "8bcd6e91",
   "metadata": {},
   "source": [
    "Count how many times fibonacci(0) and fibonacci(1) are called. This is an inefficient\n",
    "solution to the problem, and it gets worse as the argument gets bigger.       \n",
    "     \n",
    "One solution is to keep track of values that have already been computed by storing them\n",
    "in a dictionary. A previously computed value that is stored for later use is called a memo.\n",
    "Here is a “memoized” version of fibonacci:"
   ]
  },
  {
   "cell_type": "code",
   "execution_count": 32,
   "id": "fd5e523d",
   "metadata": {},
   "outputs": [],
   "source": [
    "known = {0:0, 1:1}\n",
    "def fibonacci(n):\n",
    "    if n in known:\n",
    "        return known[n]\n",
    "    res = fibonacci(n-1) + fibonacci(n-2)\n",
    "    known[n] = res\n",
    "    return res"
   ]
  },
  {
   "cell_type": "markdown",
   "id": "54f4e96b",
   "metadata": {},
   "source": [
    "If you run this version of fibonacci and compare it with the original, you will find that it\n",
    "is much faster."
   ]
  },
  {
   "cell_type": "code",
   "execution_count": 33,
   "id": "dac7e34f",
   "metadata": {},
   "outputs": [
    {
     "data": {
      "text/plain": [
       "55"
      ]
     },
     "execution_count": 33,
     "metadata": {},
     "output_type": "execute_result"
    }
   ],
   "source": [
    "fibonacci(10)"
   ]
  },
  {
   "cell_type": "code",
   "execution_count": 34,
   "id": "24b644eb",
   "metadata": {},
   "outputs": [
    {
     "data": {
      "text/plain": [
       "{0: 0, 1: 1, 2: 1, 3: 2, 4: 3, 5: 5, 6: 8, 7: 13, 8: 21, 9: 34, 10: 55}"
      ]
     },
     "execution_count": 34,
     "metadata": {},
     "output_type": "execute_result"
    }
   ],
   "source": [
    "known"
   ]
  },
  {
   "cell_type": "markdown",
   "id": "dac30249",
   "metadata": {},
   "source": [
    "In the previous example, known is created outside the function, so it belongs to the special\n",
    "frame called $\\text{__main__}$. Variables in $\\text{__main__}$ are sometimes called global because they\n",
    "can be accessed from any function. Unlike local variables, which disappear when their\n",
    "function ends, global variables persist from one function call to the next.      \n",
    "         \n",
    "It is common to use global variables for flags; that is, boolean variables that indicate (“flag”)\n",
    "whether a condition is true. For example, some programs use a flag named verbose to\n",
    "control the level of detail in the output:"
   ]
  },
  {
   "cell_type": "code",
   "execution_count": 35,
   "id": "96a0ba5d",
   "metadata": {},
   "outputs": [],
   "source": [
    "verbose = True\n",
    "def example1():\n",
    "    if verbose:\n",
    "        print('Running example1')"
   ]
  },
  {
   "cell_type": "markdown",
   "id": "63a49cea",
   "metadata": {},
   "source": [
    "If you try to reassign a global variable, you might be surprised. The following example is\n",
    "supposed to keep track of whether the function has been called:"
   ]
  },
  {
   "cell_type": "code",
   "execution_count": 36,
   "id": "68fa089a",
   "metadata": {},
   "outputs": [],
   "source": [
    "been_called = False\n",
    "def example2():\n",
    "    been_called = True # WRONG"
   ]
  },
  {
   "cell_type": "markdown",
   "id": "cac086ba",
   "metadata": {},
   "source": [
    "But if you run it you will see that the value of been_called doesn’t change. The problem\n",
    "is that example2 creates a new local variable named been_called. The local variable goes\n",
    "away when the function ends, and has no effect on the global variable.      \n",
    "       \n",
    "To reassign a global variable inside a function you have to declare the global variable before\n",
    "you use it:"
   ]
  },
  {
   "cell_type": "code",
   "execution_count": 37,
   "id": "2db527e0",
   "metadata": {},
   "outputs": [],
   "source": [
    "been_called = False\n",
    "def example2():\n",
    "    global been_called\n",
    "    been_called = True"
   ]
  },
  {
   "cell_type": "markdown",
   "id": "ba45dbba",
   "metadata": {},
   "source": [
    "The global statement tells the interpreter something like, “In this function, when I say\n",
    "been_called, I mean the global variable; don’t create a local one.”"
   ]
  },
  {
   "cell_type": "code",
   "execution_count": 38,
   "id": "aef2a2b2",
   "metadata": {},
   "outputs": [],
   "source": [
    "count = 0\n",
    "def example3():\n",
    "    count = count + 1 # WRONG"
   ]
  },
  {
   "cell_type": "code",
   "execution_count": 39,
   "id": "fc2fac34",
   "metadata": {},
   "outputs": [
    {
     "ename": "UnboundLocalError",
     "evalue": "local variable 'count' referenced before assignment",
     "output_type": "error",
     "traceback": [
      "\u001b[1;31m---------------------------------------------------------------------------\u001b[0m",
      "\u001b[1;31mUnboundLocalError\u001b[0m                         Traceback (most recent call last)",
      "\u001b[1;32m<ipython-input-39-bf3402d0be88>\u001b[0m in \u001b[0;36m<module>\u001b[1;34m\u001b[0m\n\u001b[1;32m----> 1\u001b[1;33m \u001b[0mexample3\u001b[0m\u001b[1;33m(\u001b[0m\u001b[1;33m)\u001b[0m\u001b[1;33m\u001b[0m\u001b[1;33m\u001b[0m\u001b[0m\n\u001b[0m",
      "\u001b[1;32m<ipython-input-38-06485f11fcd1>\u001b[0m in \u001b[0;36mexample3\u001b[1;34m()\u001b[0m\n\u001b[0;32m      1\u001b[0m \u001b[0mcount\u001b[0m \u001b[1;33m=\u001b[0m \u001b[1;36m0\u001b[0m\u001b[1;33m\u001b[0m\u001b[1;33m\u001b[0m\u001b[0m\n\u001b[0;32m      2\u001b[0m \u001b[1;32mdef\u001b[0m \u001b[0mexample3\u001b[0m\u001b[1;33m(\u001b[0m\u001b[1;33m)\u001b[0m\u001b[1;33m:\u001b[0m\u001b[1;33m\u001b[0m\u001b[1;33m\u001b[0m\u001b[0m\n\u001b[1;32m----> 3\u001b[1;33m     \u001b[0mcount\u001b[0m \u001b[1;33m=\u001b[0m \u001b[0mcount\u001b[0m \u001b[1;33m+\u001b[0m \u001b[1;36m1\u001b[0m \u001b[1;31m# WRONG\u001b[0m\u001b[1;33m\u001b[0m\u001b[1;33m\u001b[0m\u001b[0m\n\u001b[0m",
      "\u001b[1;31mUnboundLocalError\u001b[0m: local variable 'count' referenced before assignment"
     ]
    }
   ],
   "source": [
    "example3()"
   ]
  },
  {
   "cell_type": "code",
   "execution_count": 40,
   "id": "8db39f40",
   "metadata": {},
   "outputs": [],
   "source": [
    "def example3():\n",
    "    global count\n",
    "    count += 1"
   ]
  },
  {
   "cell_type": "code",
   "execution_count": 41,
   "id": "590fe694",
   "metadata": {},
   "outputs": [],
   "source": [
    "example3()"
   ]
  },
  {
   "cell_type": "code",
   "execution_count": 42,
   "id": "1bca4820",
   "metadata": {},
   "outputs": [
    {
     "data": {
      "text/plain": [
       "1"
      ]
     },
     "execution_count": 42,
     "metadata": {},
     "output_type": "execute_result"
    }
   ],
   "source": [
    "count"
   ]
  },
  {
   "cell_type": "markdown",
   "id": "b9c9fd86",
   "metadata": {},
   "source": [
    "If a global variable refers to a mutable value, you can modify the value without declaring\n",
    "the variable:\n"
   ]
  },
  {
   "cell_type": "code",
   "execution_count": 43,
   "id": "079689ca",
   "metadata": {},
   "outputs": [],
   "source": [
    "known = {0:0, 1:1}\n",
    "def example4():\n",
    "    known[2] = 1"
   ]
  },
  {
   "cell_type": "code",
   "execution_count": 45,
   "id": "727e01c2",
   "metadata": {},
   "outputs": [],
   "source": [
    "example4()"
   ]
  },
  {
   "cell_type": "code",
   "execution_count": 46,
   "id": "4b693e0f",
   "metadata": {},
   "outputs": [
    {
     "data": {
      "text/plain": [
       "{0: 0, 1: 1, 2: 1}"
      ]
     },
     "execution_count": 46,
     "metadata": {},
     "output_type": "execute_result"
    }
   ],
   "source": [
    "known"
   ]
  },
  {
   "cell_type": "markdown",
   "id": "d6f8546c",
   "metadata": {},
   "source": [
    "So you can add, remove and replace elements of a global list or dictionary, but if you want\n",
    "to reassign the variable, you have to declare it:"
   ]
  },
  {
   "cell_type": "code",
   "execution_count": 47,
   "id": "7ab3da8e",
   "metadata": {},
   "outputs": [],
   "source": [
    "def example5():\n",
    "    global known\n",
    "    known = dict()"
   ]
  },
  {
   "cell_type": "code",
   "execution_count": null,
   "id": "f6695c1a",
   "metadata": {},
   "outputs": [],
   "source": []
  }
 ],
 "metadata": {
  "kernelspec": {
   "display_name": "Python 3 (ipykernel)",
   "language": "python",
   "name": "python3"
  },
  "language_info": {
   "codemirror_mode": {
    "name": "ipython",
    "version": 3
   },
   "file_extension": ".py",
   "mimetype": "text/x-python",
   "name": "python",
   "nbconvert_exporter": "python",
   "pygments_lexer": "ipython3",
   "version": "3.9.18"
  }
 },
 "nbformat": 4,
 "nbformat_minor": 5
}
