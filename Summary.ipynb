{
 "cells": [
  {
   "cell_type": "code",
   "execution_count": 1,
   "metadata": {},
   "outputs": [
    {
     "data": {
      "text/plain": [
       "'3.9.18'"
      ]
     },
     "execution_count": 1,
     "metadata": {},
     "output_type": "execute_result"
    }
   ],
   "source": [
    "import platform\n",
    "platform.python_version()"
   ]
  },
  {
   "cell_type": "code",
   "execution_count": 2,
   "metadata": {},
   "outputs": [
    {
     "data": {
      "text/plain": [
       "('64bit', 'WindowsPE')"
      ]
     },
     "execution_count": 2,
     "metadata": {},
     "output_type": "execute_result"
    }
   ],
   "source": [
    "platform.architecture()"
   ]
  },
  {
   "cell_type": "code",
   "execution_count": 3,
   "metadata": {},
   "outputs": [
    {
     "data": {
      "text/plain": [
       "'AMD64 Family 23 Model 96 Stepping 1, AuthenticAMD'"
      ]
     },
     "execution_count": 3,
     "metadata": {},
     "output_type": "execute_result"
    }
   ],
   "source": [
    "platform.processor()"
   ]
  },
  {
   "cell_type": "code",
   "execution_count": 4,
   "metadata": {},
   "outputs": [
    {
     "data": {
      "text/plain": [
       "'3.9.18 (main, Sep 11 2023, 14:09:26) [MSC v.1916 64 bit (AMD64)]'"
      ]
     },
     "execution_count": 4,
     "metadata": {},
     "output_type": "execute_result"
    }
   ],
   "source": [
    "import sys\n",
    "sys.version"
   ]
  },
  {
   "cell_type": "code",
   "execution_count": 5,
   "metadata": {},
   "outputs": [
    {
     "name": "stdout",
     "output_type": "stream",
     "text": [
      "<class 'str'>\n"
     ]
    }
   ],
   "source": [
    "print(type('Hello, World!'))"
   ]
  },
  {
   "cell_type": "code",
   "execution_count": 6,
   "metadata": {},
   "outputs": [
    {
     "data": {
      "text/plain": [
       "'kiio weds ankit kiio weds ankit '"
      ]
     },
     "execution_count": 6,
     "metadata": {},
     "output_type": "execute_result"
    }
   ],
   "source": [
    "'kiio weds ankit '*2"
   ]
  },
  {
   "cell_type": "code",
   "execution_count": 7,
   "metadata": {},
   "outputs": [
    {
     "data": {
      "text/plain": [
       "<module 'math' (built-in)>"
      ]
     },
     "execution_count": 7,
     "metadata": {},
     "output_type": "execute_result"
    }
   ],
   "source": [
    "import math\n",
    "math"
   ]
  },
  {
   "cell_type": "code",
   "execution_count": 8,
   "metadata": {},
   "outputs": [
    {
     "data": {
      "text/plain": [
       "<module 'my_python_module' from 'C:\\\\Users\\\\ankit19.gupta\\\\ankit\\\\ankit\\\\ML_Code\\\\Python_R_Prolog_Code\\\\Python_Practice\\\\thinkpython\\\\my_python_module.py'>"
      ]
     },
     "execution_count": 8,
     "metadata": {},
     "output_type": "execute_result"
    }
   ],
   "source": [
    "import my_python_module\n",
    "my_python_module"
   ]
  },
  {
   "cell_type": "code",
   "execution_count": 9,
   "metadata": {},
   "outputs": [
    {
     "data": {
      "text/plain": [
       "5"
      ]
     },
     "execution_count": 9,
     "metadata": {},
     "output_type": "execute_result"
    }
   ],
   "source": [
    "from my_python_module import x\n",
    "x"
   ]
  },
  {
   "cell_type": "code",
   "execution_count": 10,
   "metadata": {},
   "outputs": [
    {
     "data": {
      "text/plain": [
       "<function my_python_module.print_name()>"
      ]
     },
     "execution_count": 10,
     "metadata": {},
     "output_type": "execute_result"
    }
   ],
   "source": [
    "from my_python_module import print_name\n",
    "print_name"
   ]
  },
  {
   "cell_type": "code",
   "execution_count": 11,
   "metadata": {},
   "outputs": [
    {
     "name": "stdout",
     "output_type": "stream",
     "text": [
      "ankit\n",
      "Hi, ankit\n"
     ]
    }
   ],
   "source": [
    "print_name()"
   ]
  },
  {
   "cell_type": "code",
   "execution_count": 12,
   "metadata": {},
   "outputs": [
    {
     "data": {
      "text/plain": [
       "5"
      ]
     },
     "execution_count": 12,
     "metadata": {},
     "output_type": "execute_result"
    }
   ],
   "source": [
    "import my_python_module\n",
    "my_python_module.x"
   ]
  },
  {
   "cell_type": "code",
   "execution_count": 13,
   "metadata": {},
   "outputs": [
    {
     "data": {
      "text/plain": [
       "0.7071067811865476"
      ]
     },
     "execution_count": 13,
     "metadata": {},
     "output_type": "execute_result"
    }
   ],
   "source": [
    "import math\n",
    "math.sin(math.pi/4)"
   ]
  },
  {
   "cell_type": "code",
   "execution_count": 14,
   "metadata": {},
   "outputs": [
    {
     "data": {
      "text/plain": [
       "function"
      ]
     },
     "execution_count": 14,
     "metadata": {},
     "output_type": "execute_result"
    }
   ],
   "source": [
    "type(print_name)"
   ]
  },
  {
   "cell_type": "code",
   "execution_count": 15,
   "metadata": {},
   "outputs": [
    {
     "name": "stdout",
     "output_type": "stream",
     "text": [
      "<function print_name at 0x0000015A022ABEE0>\n"
     ]
    }
   ],
   "source": [
    "print(print_name)"
   ]
  },
  {
   "cell_type": "code",
   "execution_count": 16,
   "metadata": {},
   "outputs": [
    {
     "name": "stdout",
     "output_type": "stream",
     "text": [
      "<turtle.Turtle object at 0x0000015A022FB2E0>\n"
     ]
    }
   ],
   "source": [
    "import turtle\n",
    "bob = turtle.Turtle()\n",
    "print(bob)\n",
    "bob.fd(100)\n",
    "bob.lt(90)\n",
    "bob.fd(100)"
   ]
  },
  {
   "cell_type": "code",
   "execution_count": 1,
   "metadata": {},
   "outputs": [
    {
     "data": {
      "text/plain": [
       "bool"
      ]
     },
     "execution_count": 1,
     "metadata": {},
     "output_type": "execute_result"
    }
   ],
   "source": [
    "type(True)"
   ]
  },
  {
   "cell_type": "code",
   "execution_count": 3,
   "metadata": {},
   "outputs": [
    {
     "data": {
      "text/plain": [
       "True"
      ]
     },
     "execution_count": 3,
     "metadata": {},
     "output_type": "execute_result"
    }
   ],
   "source": [
    "not isinstance(1.7, int)"
   ]
  },
  {
   "cell_type": "code",
   "execution_count": 9,
   "metadata": {},
   "outputs": [
    {
     "name": "stdout",
     "output_type": "stream",
     "text": [
      "50000.5\n",
      "estimate of sqrt(a) is 25001.2499900001\n",
      "estimate of sqrt(a) is 12502.624895005849\n",
      "estimate of sqrt(a) is 6255.311607712872\n",
      "estimate of sqrt(a) is 3135.6490107717154\n",
      "estimate of sqrt(a) is 1583.7701676166232\n",
      "estimate of sqrt(a) is 823.455321095483\n",
      "estimate of sqrt(a) is 472.4474090502863\n",
      "estimate of sqrt(a) is 342.0555898147884\n",
      "estimate of sqrt(a) is 317.2028655357483\n",
      "estimate of sqrt(a) is 316.22926477232704\n",
      "estimate of sqrt(a) is 316.2277660203896\n",
      "estimate of sqrt(a) is 316.2277660168379\n"
     ]
    }
   ],
   "source": [
    "# Estimated square root of a number \"a\" using Newton's Method\n",
    "a=100000\n",
    "x=1\n",
    "y=(x+a/x)/2\n",
    "print(y)\n",
    "while not(abs(y-x) < 0.001):\n",
    "    x=y\n",
    "    y=(x+a/x)/2\n",
    "    print(\"estimate of sqrt(a) is\", y)"
   ]
  },
  {
   "cell_type": "code",
   "execution_count": 11,
   "metadata": {},
   "outputs": [
    {
     "data": {
      "text/plain": [
       "316.22776601683796"
      ]
     },
     "execution_count": 11,
     "metadata": {},
     "output_type": "execute_result"
    }
   ],
   "source": [
    "from math import sqrt\n",
    "sqrt(100000)"
   ]
  },
  {
   "cell_type": "code",
   "execution_count": 12,
   "metadata": {},
   "outputs": [
    {
     "name": "stdout",
     "output_type": "stream",
     "text": [
      "kankit\n",
      "aankit\n",
      "tankit\n",
      "eankit\n",
      "eankit\n",
      "eankit\n",
      "eankit\n"
     ]
    }
   ],
   "source": [
    "name=\"kateeee\"\n",
    "new_name=\"ankit\"\n",
    "for i in name:\n",
    "    print(i+new_name)"
   ]
  },
  {
   "cell_type": "code",
   "execution_count": 13,
   "metadata": {},
   "outputs": [
    {
     "data": {
      "text/plain": [
       "'ANKIT'"
      ]
     },
     "execution_count": 13,
     "metadata": {},
     "output_type": "execute_result"
    }
   ],
   "source": [
    "name=\"ankit\"\n",
    "name.upper()"
   ]
  },
  {
   "cell_type": "code",
   "execution_count": 14,
   "metadata": {},
   "outputs": [
    {
     "data": {
      "text/plain": [
       "2"
      ]
     },
     "execution_count": 14,
     "metadata": {},
     "output_type": "execute_result"
    }
   ],
   "source": [
    "# index in a string\n",
    "\n",
    "name.find('k')"
   ]
  },
  {
   "cell_type": "code",
   "execution_count": 16,
   "metadata": {},
   "outputs": [
    {
     "data": {
      "text/plain": [
       "3"
      ]
     },
     "execution_count": 16,
     "metadata": {},
     "output_type": "execute_result"
    }
   ],
   "source": [
    "name.find('it')"
   ]
  },
  {
   "cell_type": "code",
   "execution_count": 17,
   "metadata": {},
   "outputs": [
    {
     "data": {
      "text/plain": [
       "-1"
      ]
     },
     "execution_count": 17,
     "metadata": {},
     "output_type": "execute_result"
    }
   ],
   "source": [
    "name = 'bob'\n",
    "name.find('b', 1, 2) # finding character 'b' from index range 1 to 2 and it returns -1 when search fails"
   ]
  },
  {
   "cell_type": "code",
   "execution_count": 20,
   "metadata": {},
   "outputs": [
    {
     "data": {
      "text/plain": [
       "True"
      ]
     },
     "execution_count": 20,
     "metadata": {},
     "output_type": "execute_result"
    }
   ],
   "source": [
    "'nk' in 'ankit'"
   ]
  },
  {
   "cell_type": "code",
   "execution_count": 56,
   "metadata": {},
   "outputs": [
    {
     "data": {
      "text/plain": [
       "<_io.TextIOWrapper name='words.txt' mode='r+' encoding='cp1252'>"
      ]
     },
     "execution_count": 56,
     "metadata": {},
     "output_type": "execute_result"
    }
   ],
   "source": [
    "fin = open('words.txt','r+') # both read and write\n",
    "fin"
   ]
  },
  {
   "cell_type": "code",
   "execution_count": 57,
   "metadata": {},
   "outputs": [
    {
     "data": {
      "text/plain": [
       "'ankit\\n'"
      ]
     },
     "execution_count": 57,
     "metadata": {},
     "output_type": "execute_result"
    }
   ],
   "source": [
    "fin.readline()"
   ]
  },
  {
   "cell_type": "code",
   "execution_count": 30,
   "metadata": {},
   "outputs": [],
   "source": [
    "#fin.writelines(\"kiio\")"
   ]
  },
  {
   "cell_type": "code",
   "execution_count": 59,
   "metadata": {},
   "outputs": [
    {
     "data": {
      "text/plain": [
       "11"
      ]
     },
     "execution_count": 59,
     "metadata": {},
     "output_type": "execute_result"
    }
   ],
   "source": [
    "fin.tell()"
   ]
  },
  {
   "cell_type": "code",
   "execution_count": 60,
   "metadata": {},
   "outputs": [
    {
     "data": {
      "text/plain": [
       "0"
      ]
     },
     "execution_count": 60,
     "metadata": {},
     "output_type": "execute_result"
    }
   ],
   "source": [
    "fin.seek(0)"
   ]
  },
  {
   "cell_type": "code",
   "execution_count": 61,
   "metadata": {},
   "outputs": [
    {
     "data": {
      "text/plain": [
       "['ankit', 'kiio']"
      ]
     },
     "execution_count": 61,
     "metadata": {},
     "output_type": "execute_result"
    }
   ],
   "source": [
    "[line.strip() for line in fin] "
   ]
  },
  {
   "cell_type": "code",
   "execution_count": 62,
   "metadata": {},
   "outputs": [
    {
     "data": {
      "text/plain": [
       "12"
      ]
     },
     "execution_count": 62,
     "metadata": {},
     "output_type": "execute_result"
    }
   ],
   "source": [
    "fin.write(\"my love kiio\")"
   ]
  },
  {
   "cell_type": "code",
   "execution_count": 63,
   "metadata": {},
   "outputs": [
    {
     "data": {
      "text/plain": [
       "0"
      ]
     },
     "execution_count": 63,
     "metadata": {},
     "output_type": "execute_result"
    }
   ],
   "source": [
    "fin.seek(0)"
   ]
  },
  {
   "cell_type": "code",
   "execution_count": 64,
   "metadata": {},
   "outputs": [
    {
     "data": {
      "text/plain": [
       "['ankit', 'kiiomy love kiio']"
      ]
     },
     "execution_count": 64,
     "metadata": {},
     "output_type": "execute_result"
    }
   ],
   "source": [
    "[line.strip() for line in fin] "
   ]
  },
  {
   "cell_type": "code",
   "execution_count": 65,
   "metadata": {},
   "outputs": [
    {
     "data": {
      "text/plain": [
       "['ankit', 'kiiomy love kiio', 'ankit likes kiio']"
      ]
     },
     "execution_count": 65,
     "metadata": {},
     "output_type": "execute_result"
    }
   ],
   "source": [
    "fin.write(\"\\n ankit likes kiio\")\n",
    "fin.seek(0)\n",
    "[line.strip() for line in fin]"
   ]
  },
  {
   "cell_type": "code",
   "execution_count": 66,
   "metadata": {},
   "outputs": [
    {
     "name": "stdout",
     "output_type": "stream",
     "text": [
      "ankit\n"
     ]
    }
   ],
   "source": [
    "with open(\"words.txt\",'r') as f:\n",
    "    print(f.readline().strip())"
   ]
  },
  {
   "cell_type": "code",
   "execution_count": 67,
   "metadata": {},
   "outputs": [
    {
     "data": {
      "text/plain": [
       "['ankit', 'likes', 'kiio']"
      ]
     },
     "execution_count": 67,
     "metadata": {},
     "output_type": "execute_result"
    }
   ],
   "source": [
    "['ankit','likes']+['kiio']"
   ]
  },
  {
   "cell_type": "code",
   "execution_count": 68,
   "metadata": {},
   "outputs": [
    {
     "data": {
      "text/plain": [
       "['kiio', 'kiio', 'kiio']"
      ]
     },
     "execution_count": 68,
     "metadata": {},
     "output_type": "execute_result"
    }
   ],
   "source": [
    "['kiio']*3"
   ]
  },
  {
   "cell_type": "code",
   "execution_count": 71,
   "metadata": {},
   "outputs": [
    {
     "data": {
      "text/plain": [
       "[1, 2, 3, 4, 5, 6]"
      ]
     },
     "execution_count": 71,
     "metadata": {},
     "output_type": "execute_result"
    }
   ],
   "source": [
    "l=[1,2,3]\n",
    "l.extend([4,5,6])\n",
    "l"
   ]
  },
  {
   "cell_type": "code",
   "execution_count": 74,
   "metadata": {},
   "outputs": [],
   "source": [
    "l.sort(reverse=True)"
   ]
  },
  {
   "cell_type": "code",
   "execution_count": 75,
   "metadata": {},
   "outputs": [
    {
     "data": {
      "text/plain": [
       "[6, 5, 4, 3, 2, 1]"
      ]
     },
     "execution_count": 75,
     "metadata": {},
     "output_type": "execute_result"
    }
   ],
   "source": [
    "l"
   ]
  },
  {
   "cell_type": "code",
   "execution_count": 78,
   "metadata": {},
   "outputs": [
    {
     "data": {
      "text/plain": [
       "['b']"
      ]
     },
     "execution_count": 78,
     "metadata": {},
     "output_type": "execute_result"
    }
   ],
   "source": [
    "t = ['a', 'b', 'c']\n",
    "y=t.pop()\n",
    "x = t.pop(0)\n",
    "t"
   ]
  },
  {
   "cell_type": "code",
   "execution_count": 79,
   "metadata": {},
   "outputs": [
    {
     "data": {
      "text/plain": [
       "'c'"
      ]
     },
     "execution_count": 79,
     "metadata": {},
     "output_type": "execute_result"
    }
   ],
   "source": [
    "y"
   ]
  },
  {
   "cell_type": "code",
   "execution_count": 83,
   "metadata": {},
   "outputs": [
    {
     "data": {
      "text/plain": [
       "['ankit', 'like', 'kiio']"
      ]
     },
     "execution_count": 83,
     "metadata": {},
     "output_type": "execute_result"
    }
   ],
   "source": [
    "\"ankit-like-kiio\".split('-')"
   ]
  },
  {
   "cell_type": "code",
   "execution_count": 85,
   "metadata": {},
   "outputs": [
    {
     "data": {
      "text/plain": [
       "'ankit#like#kiio'"
      ]
     },
     "execution_count": 85,
     "metadata": {},
     "output_type": "execute_result"
    }
   ],
   "source": [
    "\"#\".join(\"ankit-like-kiio\".split('-'))"
   ]
  },
  {
   "cell_type": "code",
   "execution_count": 86,
   "metadata": {},
   "outputs": [
    {
     "data": {
      "text/plain": [
       "[]"
      ]
     },
     "execution_count": 86,
     "metadata": {},
     "output_type": "execute_result"
    }
   ],
   "source": [
    "l=list()\n",
    "d=dict()\n",
    "s=set()\n",
    "t=tuple()\n",
    "l"
   ]
  },
  {
   "cell_type": "code",
   "execution_count": 87,
   "metadata": {},
   "outputs": [
    {
     "data": {
      "text/plain": [
       "{}"
      ]
     },
     "execution_count": 87,
     "metadata": {},
     "output_type": "execute_result"
    }
   ],
   "source": [
    "d"
   ]
  },
  {
   "cell_type": "code",
   "execution_count": 88,
   "metadata": {},
   "outputs": [
    {
     "data": {
      "text/plain": [
       "set()"
      ]
     },
     "execution_count": 88,
     "metadata": {},
     "output_type": "execute_result"
    }
   ],
   "source": [
    "s"
   ]
  },
  {
   "cell_type": "code",
   "execution_count": 89,
   "metadata": {},
   "outputs": [
    {
     "data": {
      "text/plain": [
       "()"
      ]
     },
     "execution_count": 89,
     "metadata": {},
     "output_type": "execute_result"
    }
   ],
   "source": [
    "t"
   ]
  },
  {
   "cell_type": "code",
   "execution_count": 90,
   "metadata": {},
   "outputs": [
    {
     "data": {
      "text/plain": [
       "{'ankit': 'kiio'}"
      ]
     },
     "execution_count": 90,
     "metadata": {},
     "output_type": "execute_result"
    }
   ],
   "source": [
    "d['ankit']='kiio'\n",
    "d"
   ]
  },
  {
   "cell_type": "code",
   "execution_count": 92,
   "metadata": {},
   "outputs": [
    {
     "data": {
      "text/plain": [
       "True"
      ]
     },
     "execution_count": 92,
     "metadata": {},
     "output_type": "execute_result"
    }
   ],
   "source": [
    "'ankit' in d"
   ]
  },
  {
   "cell_type": "code",
   "execution_count": 94,
   "metadata": {},
   "outputs": [
    {
     "data": {
      "text/plain": [
       "dict_keys(['ankit'])"
      ]
     },
     "execution_count": 94,
     "metadata": {},
     "output_type": "execute_result"
    }
   ],
   "source": [
    "d.keys()"
   ]
  },
  {
   "cell_type": "code",
   "execution_count": 95,
   "metadata": {},
   "outputs": [
    {
     "data": {
      "text/plain": [
       "dict_values(['kiio'])"
      ]
     },
     "execution_count": 95,
     "metadata": {},
     "output_type": "execute_result"
    }
   ],
   "source": [
    "d.values()"
   ]
  },
  {
   "cell_type": "code",
   "execution_count": 97,
   "metadata": {},
   "outputs": [
    {
     "data": {
      "text/plain": [
       "dict_items([('ankit', 'kiio')])"
      ]
     },
     "execution_count": 97,
     "metadata": {},
     "output_type": "execute_result"
    }
   ],
   "source": [
    "d.items()"
   ]
  },
  {
   "cell_type": "code",
   "execution_count": 100,
   "metadata": {},
   "outputs": [
    {
     "data": {
      "text/plain": [
       "'kiio'"
      ]
     },
     "execution_count": 100,
     "metadata": {},
     "output_type": "execute_result"
    }
   ],
   "source": [
    "d.get(\"ankit\",\"default value if key does not exist\")"
   ]
  },
  {
   "cell_type": "code",
   "execution_count": 101,
   "metadata": {},
   "outputs": [
    {
     "data": {
      "text/plain": [
       "'default value if key does not exist'"
      ]
     },
     "execution_count": 101,
     "metadata": {},
     "output_type": "execute_result"
    }
   ],
   "source": [
    "d.get(\"key\",\"default value if key does not exist\")"
   ]
  },
  {
   "cell_type": "code",
   "execution_count": 98,
   "metadata": {},
   "outputs": [
    {
     "data": {
      "text/plain": [
       "97"
      ]
     },
     "execution_count": 98,
     "metadata": {},
     "output_type": "execute_result"
    }
   ],
   "source": [
    "ord('a')"
   ]
  },
  {
   "cell_type": "code",
   "execution_count": 99,
   "metadata": {},
   "outputs": [
    {
     "data": {
      "text/plain": [
       "65"
      ]
     },
     "execution_count": 99,
     "metadata": {},
     "output_type": "execute_result"
    }
   ],
   "source": [
    "ord('A')"
   ]
  },
  {
   "cell_type": "code",
   "execution_count": 102,
   "metadata": {},
   "outputs": [],
   "source": [
    "verbose = True\n",
    "def example1():\n",
    "    if verbose:\n",
    "        print('Running example1')"
   ]
  },
  {
   "cell_type": "code",
   "execution_count": 104,
   "metadata": {},
   "outputs": [
    {
     "name": "stdout",
     "output_type": "stream",
     "text": [
      "Running example1\n"
     ]
    }
   ],
   "source": [
    "example1()"
   ]
  },
  {
   "cell_type": "code",
   "execution_count": 105,
   "metadata": {},
   "outputs": [],
   "source": [
    "been_called = False\n",
    "def example2():\n",
    "    been_called = True # WRONG"
   ]
  },
  {
   "cell_type": "code",
   "execution_count": 106,
   "metadata": {},
   "outputs": [
    {
     "data": {
      "text/plain": [
       "False"
      ]
     },
     "execution_count": 106,
     "metadata": {},
     "output_type": "execute_result"
    }
   ],
   "source": [
    "been_called"
   ]
  },
  {
   "cell_type": "code",
   "execution_count": 108,
   "metadata": {},
   "outputs": [
    {
     "data": {
      "text/plain": [
       "True"
      ]
     },
     "execution_count": 108,
     "metadata": {},
     "output_type": "execute_result"
    }
   ],
   "source": [
    "been_called = False\n",
    "def example2():\n",
    "    global been_called\n",
    "    been_called = True\n",
    "example2()\n",
    "been_called"
   ]
  },
  {
   "cell_type": "code",
   "execution_count": 111,
   "metadata": {},
   "outputs": [
    {
     "ename": "UnboundLocalError",
     "evalue": "local variable 'count' referenced before assignment",
     "output_type": "error",
     "traceback": [
      "\u001b[1;31m---------------------------------------------------------------------------\u001b[0m",
      "\u001b[1;31mUnboundLocalError\u001b[0m                         Traceback (most recent call last)",
      "Cell \u001b[1;32mIn[111], line 5\u001b[0m\n\u001b[0;32m      2\u001b[0m \u001b[38;5;28;01mdef\u001b[39;00m \u001b[38;5;21mexample3\u001b[39m():\n\u001b[0;32m      3\u001b[0m     \u001b[38;5;66;03m#count=1\u001b[39;00m\n\u001b[0;32m      4\u001b[0m     count \u001b[38;5;241m=\u001b[39m count \u001b[38;5;241m+\u001b[39m \u001b[38;5;241m1\u001b[39m \u001b[38;5;66;03m# WRONG\u001b[39;00m\n\u001b[1;32m----> 5\u001b[0m \u001b[43mexample3\u001b[49m\u001b[43m(\u001b[49m\u001b[43m)\u001b[49m\n",
      "Cell \u001b[1;32mIn[111], line 4\u001b[0m, in \u001b[0;36mexample3\u001b[1;34m()\u001b[0m\n\u001b[0;32m      2\u001b[0m \u001b[38;5;28;01mdef\u001b[39;00m \u001b[38;5;21mexample3\u001b[39m():\n\u001b[0;32m      3\u001b[0m     \u001b[38;5;66;03m#count=1\u001b[39;00m\n\u001b[1;32m----> 4\u001b[0m     count \u001b[38;5;241m=\u001b[39m \u001b[43mcount\u001b[49m \u001b[38;5;241m+\u001b[39m \u001b[38;5;241m1\u001b[39m\n",
      "\u001b[1;31mUnboundLocalError\u001b[0m: local variable 'count' referenced before assignment"
     ]
    }
   ],
   "source": [
    "count = 0\n",
    "def example3():\n",
    "    #count=1 # now we create the local variable so no error\n",
    "    count = count + 1 # WRONG because we are changing the global variable\n",
    "example3()"
   ]
  },
  {
   "cell_type": "code",
   "execution_count": 115,
   "metadata": {},
   "outputs": [
    {
     "data": {
      "text/plain": [
       "False"
      ]
     },
     "execution_count": 115,
     "metadata": {},
     "output_type": "execute_result"
    }
   ],
   "source": [
    "(1,2,3) < (1,2,3)"
   ]
  },
  {
   "cell_type": "code",
   "execution_count": 116,
   "metadata": {},
   "outputs": [
    {
     "data": {
      "text/plain": [
       "True"
      ]
     },
     "execution_count": 116,
     "metadata": {},
     "output_type": "execute_result"
    }
   ],
   "source": [
    "(1,2,3) < (1,3,2000000)"
   ]
  },
  {
   "cell_type": "code",
   "execution_count": 118,
   "metadata": {},
   "outputs": [
    {
     "name": "stdout",
     "output_type": "stream",
     "text": [
      "2 1\n"
     ]
    }
   ],
   "source": [
    "# swap\n",
    "a=1\n",
    "b=2\n",
    "a, b = b, a\n",
    "print(a,b)"
   ]
  },
  {
   "cell_type": "code",
   "execution_count": 119,
   "metadata": {},
   "outputs": [
    {
     "data": {
      "text/plain": [
       "(2, 2)"
      ]
     },
     "execution_count": 119,
     "metadata": {},
     "output_type": "execute_result"
    }
   ],
   "source": [
    "divmod(8,3)"
   ]
  },
  {
   "cell_type": "code",
   "execution_count": 120,
   "metadata": {},
   "outputs": [
    {
     "name": "stdout",
     "output_type": "stream",
     "text": [
      "(1, 2.0, '3')\n"
     ]
    }
   ],
   "source": [
    "def printall(*args):\n",
    "    print(args)\n",
    "printall(1, 2.0, '3')"
   ]
  },
  {
   "cell_type": "code",
   "execution_count": 121,
   "metadata": {},
   "outputs": [
    {
     "data": {
      "text/plain": [
       "(2, 2)"
      ]
     },
     "execution_count": 121,
     "metadata": {},
     "output_type": "execute_result"
    }
   ],
   "source": [
    "divmod(*[8,3])"
   ]
  },
  {
   "cell_type": "code",
   "execution_count": 122,
   "metadata": {},
   "outputs": [
    {
     "name": "stdout",
     "output_type": "stream",
     "text": [
      "(1, 2.0, '3')\n"
     ]
    }
   ],
   "source": [
    "printall(*[1,2.0,'3'])"
   ]
  },
  {
   "cell_type": "code",
   "execution_count": 127,
   "metadata": {},
   "outputs": [
    {
     "data": {
      "text/plain": [
       "<zip at 0x29063fb42c0>"
      ]
     },
     "execution_count": 127,
     "metadata": {},
     "output_type": "execute_result"
    }
   ],
   "source": [
    "s = 'abc'\n",
    "t = [0, 1, 2]\n",
    "zip(s, t)"
   ]
  },
  {
   "cell_type": "code",
   "execution_count": 129,
   "metadata": {},
   "outputs": [
    {
     "data": {
      "text/plain": [
       "[('a', 0), ('b', 1), ('c', 2)]"
      ]
     },
     "execution_count": 129,
     "metadata": {},
     "output_type": "execute_result"
    }
   ],
   "source": [
    "list(zip(s,t))"
   ]
  },
  {
   "cell_type": "code",
   "execution_count": 128,
   "metadata": {},
   "outputs": [
    {
     "data": {
      "text/plain": [
       "[('A', 'E'), ('n', 'l'), ('n', 'k')]"
      ]
     },
     "execution_count": 128,
     "metadata": {},
     "output_type": "execute_result"
    }
   ],
   "source": [
    "list(zip('Anne', 'Elk'))"
   ]
  },
  {
   "cell_type": "code",
   "execution_count": 130,
   "metadata": {},
   "outputs": [],
   "source": [
    "def has_match(t1, t2):\n",
    "    for x, y in zip(t1, t2):\n",
    "        if x == y:\n",
    "            return True\n",
    "        return False"
   ]
  },
  {
   "cell_type": "code",
   "execution_count": 131,
   "metadata": {},
   "outputs": [
    {
     "data": {
      "text/plain": [
       "True"
      ]
     },
     "execution_count": 131,
     "metadata": {},
     "output_type": "execute_result"
    }
   ],
   "source": [
    "t1=['ankit','kioo']\n",
    "t2=['ankit','kioo']\n",
    "has_match(t1, t2)"
   ]
  },
  {
   "cell_type": "code",
   "execution_count": 132,
   "metadata": {},
   "outputs": [
    {
     "name": "stdout",
     "output_type": "stream",
     "text": [
      "ankit kiio\n"
     ]
    }
   ],
   "source": [
    "for key, value in d.items():\n",
    "    print(key, value)"
   ]
  },
  {
   "cell_type": "code",
   "execution_count": 133,
   "metadata": {},
   "outputs": [
    {
     "data": {
      "text/plain": [
       "dict_items([('ankit', 'kiio')])"
      ]
     },
     "execution_count": 133,
     "metadata": {},
     "output_type": "execute_result"
    }
   ],
   "source": [
    "d.items()"
   ]
  },
  {
   "cell_type": "code",
   "execution_count": 134,
   "metadata": {},
   "outputs": [
    {
     "data": {
      "text/plain": [
       "{'a': 0, 'b': 1, 'c': 2}"
      ]
     },
     "execution_count": 134,
     "metadata": {},
     "output_type": "execute_result"
    }
   ],
   "source": [
    "d = dict(zip('abc', range(3)))\n",
    "d"
   ]
  },
  {
   "cell_type": "code",
   "execution_count": 135,
   "metadata": {},
   "outputs": [
    {
     "data": {
      "text/plain": [
       "'!\"#$%&\\'()*+,-./:;<=>?@[\\\\]^_`{|}~'"
      ]
     },
     "execution_count": 135,
     "metadata": {},
     "output_type": "execute_result"
    }
   ],
   "source": [
    "import string\n",
    "string.punctuation"
   ]
  },
  {
   "cell_type": "code",
   "execution_count": 136,
   "metadata": {},
   "outputs": [
    {
     "data": {
      "text/plain": [
       "10"
      ]
     },
     "execution_count": 136,
     "metadata": {},
     "output_type": "execute_result"
    }
   ],
   "source": [
    "import random\n",
    "random.randint(5, 10)"
   ]
  },
  {
   "cell_type": "code",
   "execution_count": 137,
   "metadata": {},
   "outputs": [
    {
     "data": {
      "text/plain": [
       "3"
      ]
     },
     "execution_count": 137,
     "metadata": {},
     "output_type": "execute_result"
    }
   ],
   "source": [
    "t = [1, 2, 3]\n",
    "random.choice(t)"
   ]
  },
  {
   "cell_type": "code",
   "execution_count": 1,
   "metadata": {},
   "outputs": [
    {
     "data": {
      "text/plain": [
       "'C:\\\\Users\\\\ankit19.gupta\\\\ankit\\\\ankit\\\\ML_Code\\\\Python_R_Prolog_Code\\\\Python_Practice\\\\thinkpython\\\\output.txt'"
      ]
     },
     "execution_count": 1,
     "metadata": {},
     "output_type": "execute_result"
    }
   ],
   "source": [
    "import os\n",
    "os.path.abspath('output.txt')"
   ]
  },
  {
   "cell_type": "code",
   "execution_count": 5,
   "metadata": {},
   "outputs": [
    {
     "data": {
      "text/plain": [
       "True"
      ]
     },
     "execution_count": 5,
     "metadata": {},
     "output_type": "execute_result"
    }
   ],
   "source": [
    "os.path.exists('output.txt')"
   ]
  },
  {
   "cell_type": "code",
   "execution_count": 6,
   "metadata": {},
   "outputs": [
    {
     "data": {
      "text/plain": [
       "False"
      ]
     },
     "execution_count": 6,
     "metadata": {},
     "output_type": "execute_result"
    }
   ],
   "source": [
    "os.path.isdir('output.txt')"
   ]
  },
  {
   "cell_type": "code",
   "execution_count": 7,
   "metadata": {},
   "outputs": [
    {
     "data": {
      "text/plain": [
       "True"
      ]
     },
     "execution_count": 7,
     "metadata": {},
     "output_type": "execute_result"
    }
   ],
   "source": [
    "os.path.isfile('output.txt')"
   ]
  },
  {
   "cell_type": "code",
   "execution_count": 9,
   "metadata": {},
   "outputs": [
    {
     "data": {
      "text/plain": [
       "['.git',\n",
       " '.ipynb_checkpoints',\n",
       " '158-0.txt',\n",
       " 'captions.bak',\n",
       " 'captions.dat',\n",
       " 'captions.dir',\n",
       " 'Chapter_10_Lists.ipynb',\n",
       " 'Chapter_10_Lists.pdf',\n",
       " 'Chapter_11_Dictionary.ipynb',\n",
       " 'Chapter_11_Dictionary.pdf',\n",
       " 'Chapter_12_Tuples.ipynb',\n",
       " 'Chapter_12_Tuples.pdf',\n",
       " 'Chapter_13_Files.ipynb',\n",
       " 'Chapter_13_Files.pdf',\n",
       " 'Chapter_14_Classes_and_objects.ipynb',\n",
       " 'Chapter_14_Classes_and_objects.pdf',\n",
       " 'Chapter_15_Classes_and_functions.ipynb',\n",
       " 'Chapter_15_Classes_and_functions.pdf',\n",
       " 'Chapter_16_Classes_and_methods.ipynb',\n",
       " 'Chapter_16_Classes_and_methods.pdf',\n",
       " 'Chapter_17_Inheritance.ipynb',\n",
       " 'Chapter_17_Inheritance.pdf',\n",
       " 'Chapter_1_The_way_of_the_program.ipynb',\n",
       " 'Chapter_1_The_way_of_the_program.pdf',\n",
       " 'Chapter_2_Variables_expressions_and_statements.ipynb',\n",
       " 'Chapter_2_Variables_expressions_and_statements.pdf',\n",
       " 'Chapter_3_Functions.ipynb',\n",
       " 'Chapter_3_Functions.pdf',\n",
       " 'Chapter_4_Case_study_interface_design.ipynb',\n",
       " 'Chapter_4_Case_study_interface_design.pdf',\n",
       " 'Chapter_5_Conditionals_and_recursion.ipynb',\n",
       " 'Chapter_5_Conditionals_and_recursion.pdf',\n",
       " 'Chapter_6_Fruitful_functions.ipynb',\n",
       " 'Chapter_6_Fruitful_functions.pdf',\n",
       " 'Chapter_7_Iteration.ipynb',\n",
       " 'Chapter_7_Iteration.pdf',\n",
       " 'Chapter_8_Strings.ipynb',\n",
       " 'Chapter_8_Strings.pdf',\n",
       " 'Chapter_9_Case_Study.ipynb',\n",
       " 'Chapter_9_Case_Study.pdf',\n",
       " 'mypolygon.py',\n",
       " 'my_python_module.py',\n",
       " 'output.txt',\n",
       " 'Summary.ipynb',\n",
       " 'Summary.txt',\n",
       " 'wc.py',\n",
       " 'words.txt',\n",
       " '__pycache__']"
      ]
     },
     "execution_count": 9,
     "metadata": {},
     "output_type": "execute_result"
    }
   ],
   "source": [
    "os.listdir(os.getcwd())"
   ]
  },
  {
   "cell_type": "code",
   "execution_count": 12,
   "metadata": {},
   "outputs": [
    {
     "data": {
      "text/plain": [
       "True"
      ]
     },
     "execution_count": 12,
     "metadata": {},
     "output_type": "execute_result"
    }
   ],
   "source": [
    "os.path.isfile(os.path.join('C:\\\\Users\\\\ankit19.gupta\\\\ankit\\\\ankit\\\\ML_Code\\\\Python_R_Prolog_Code\\\\Python_Practice\\\\thinkpython','output.txt'))"
   ]
  },
  {
   "cell_type": "code",
   "execution_count": 13,
   "metadata": {},
   "outputs": [],
   "source": [
    "import dbm\n",
    "db = dbm.open('captions', 'c')"
   ]
  },
  {
   "cell_type": "code",
   "execution_count": 14,
   "metadata": {},
   "outputs": [],
   "source": [
    "db['ankit']='kiio'"
   ]
  },
  {
   "cell_type": "code",
   "execution_count": 15,
   "metadata": {},
   "outputs": [
    {
     "data": {
      "text/plain": [
       "b'kiio'"
      ]
     },
     "execution_count": 15,
     "metadata": {},
     "output_type": "execute_result"
    }
   ],
   "source": [
    "db['ankit']"
   ]
  },
  {
   "cell_type": "code",
   "execution_count": 16,
   "metadata": {},
   "outputs": [
    {
     "name": "stdout",
     "output_type": "stream",
     "text": [
      "b'cleese.png' b'Photo of John Cleese doing a silly walk.'\n",
      "b'ankit' b'kiio'\n"
     ]
    }
   ],
   "source": [
    "for key in db.keys():\n",
    "    print(key, db[key])"
   ]
  },
  {
   "cell_type": "code",
   "execution_count": 17,
   "metadata": {},
   "outputs": [],
   "source": [
    "db.close()"
   ]
  },
  {
   "cell_type": "code",
   "execution_count": 21,
   "metadata": {},
   "outputs": [],
   "source": [
    "import pickle\n",
    "t = [1, 2, 3]\n",
    "s=pickle.dumps(t)"
   ]
  },
  {
   "cell_type": "code",
   "execution_count": 22,
   "metadata": {},
   "outputs": [
    {
     "data": {
      "text/plain": [
       "[1, 2, 3]"
      ]
     },
     "execution_count": 22,
     "metadata": {},
     "output_type": "execute_result"
    }
   ],
   "source": [
    "t2 = pickle.loads(s)\n",
    "t2"
   ]
  },
  {
   "cell_type": "code",
   "execution_count": 26,
   "metadata": {},
   "outputs": [
    {
     "data": {
      "text/plain": [
       "'total 7446\\n-rw-r--r-- 1 Ankit19.Gupta 1049089  927445 Dec 25 01:10 158-0.txt\\n-rw-r--r-- 1 Ankit19.Gupta 1049089   19909 Mar  6 13:52 Chapter_10_Lists.ipynb\\n-rw-r--r-- 1 Ankit19.Gupta 1049089   44071 Mar  6 13:54 Chapter_10_Lists.pdf\\n-rw-r--r-- 1 Ankit19.Gupta 1049089   31874 Apr 15 01:15 Chapter_11_Dictionary.ipynb\\n-rw-r--r-- 1 Ankit19.Gupta 1049089   56848 Mar  6 15:13 Chapter_11_Dictionary.pdf\\n-rw-r--r-- 1 Ankit19.Gupta 1049089   34636 Mar  6 16:05 Chapter_12_Tuples.ipynb\\n-rw-r--r-- 1 Ankit19.Gupta 1049089   57912 Mar  6 16:06 Chapter_12_Tuples.pdf\\n-rw-r--r-- 1 Ankit19.Gupta 1049089   40540 Apr 15 11:10 Chapter_13_Files.ipynb\\n-rw-r--r-- 1 Ankit19.Gupta 1049089  419125 Mar  6 17:07 Chapter_13_Files.pdf\\n-rw-r--r-- 1 Ankit19.Gupta 1049089   39704 Mar  7 11:18 Chapter_14_Classes_and_objects.ipynb\\n-rw-r--r-- 1 Ankit19.Gupta 1049089  326288 Mar  7 11:25 Chapter_14_Classes_and_objects.pdf\\n-rw-r--r-- 1 Ankit19.Gupta 1049089   11364 Mar  7 11:25 Chapter_15_Classes_and_functions.ipynb\\n-rw-r--r-- 1 Ankit19.Gupta 1049089   38935 Mar  7 11:45 Chapter_15_Classes_and_functions.pdf\\n-rw-r--r-- 1 Ankit19.Gupta 1049089   31660 Mar  7 15:10 Chapter_16_Classes_and_methods.ipynb\\n-rw-r--r-- 1 Ankit19.Gupta 1049089  582632 Mar  7 15:14 Chapter_16_Classes_and_methods.pdf\\n-rw-r--r-- 1 Ankit19.Gupta 1049089   92794 Mar  7 16:32 Chapter_17_Inheritance.ipynb\\n-rw-r--r-- 1 Ankit19.Gupta 1049089  943770 Mar  7 16:35 Chapter_17_Inheritance.pdf\\n-rw-r--r-- 1 Ankit19.Gupta 1049089    7395 Apr 14 19:06 Chapter_1_The_way_of_the_program.ipynb\\n-rw-r--r-- 1 Ankit19.Gupta 1049089   32432 Mar  6 00:53 Chapter_1_The_way_of_the_program.pdf\\n-rw-r--r-- 1 Ankit19.Gupta 1049089   13638 Apr 14 19:37 Chapter_2_Variables_expressions_and_statements.ipynb\\n-rw-r--r-- 1 Ankit19.Gupta 1049089   44328 Mar  6 01:23 Chapter_2_Variables_expressions_and_statements.pdf\\n-rw-r--r-- 1 Ankit19.Gupta 1049089   18491 Apr 14 21:04 Chapter_3_Functions.ipynb\\n-rw-r--r-- 1 Ankit19.Gupta 1049089   44175 Mar  6 10:52 Chapter_3_Functions.pdf\\n-rw-r--r-- 1 Ankit19.Gupta 1049089    6359 Mar  6 11:10 Chapter_4_Case_study_interface_design.ipynb\\n-rw-r--r-- 1 Ankit19.Gupta 1049089   31557 Mar  6 11:18 Chapter_4_Case_study_interface_design.pdf\\n-rw-r--r-- 1 Ankit19.Gupta 1049089    6636 Mar  6 11:37 Chapter_5_Conditionals_and_recursion.ipynb\\n-rw-r--r-- 1 Ankit19.Gupta 1049089   30574 Mar  6 11:39 Chapter_5_Conditionals_and_recursion.pdf\\n-rw-r--r-- 1 Ankit19.Gupta 1049089    3035 Mar  6 11:42 Chapter_6_Fruitful_functions.ipynb\\n-rw-r--r-- 1 Ankit19.Gupta 1049089   23841 Mar  6 11:43 Chapter_6_Fruitful_functions.pdf\\n-rw-r--r-- 1 Ankit19.Gupta 1049089    4318 Mar  6 11:54 Chapter_7_Iteration.ipynb\\n-rw-r--r-- 1 Ankit19.Gupta 1049089   28156 Mar  6 11:55 Chapter_7_Iteration.pdf\\n-rw-r--r-- 1 Ankit19.Gupta 1049089   11888 Mar  6 12:09 Chapter_8_Strings.ipynb\\n-rw-r--r-- 1 Ankit19.Gupta 1049089   36587 Mar  6 12:09 Chapter_8_Strings.pdf\\n-rw-r--r-- 1 Ankit19.Gupta 1049089 2281243 Mar  6 13:25 Chapter_9_Case_Study.ipynb\\n-rw-r--r-- 1 Ankit19.Gupta 1049089 1178419 Mar  6 13:30 Chapter_9_Case_Study.pdf\\n-rw-r--r-- 1 Ankit19.Gupta 1049089   35976 Apr 15 11:17 Summary.ipynb\\n-rw-r--r-- 1 Ankit19.Gupta 1049089   19801 Apr 15 11:17 Summary.txt\\ndrwxr-xr-x 1 Ankit19.Gupta 1049089       0 Apr 14 20:01 __pycache__\\n-rw-r--r-- 1 Ankit19.Gupta 1049089      42 Apr 15 10:58 captions.bak\\n-rw-r--r-- 1 Ankit19.Gupta 1049089     516 Apr 15 10:58 captions.dat\\n-rw-r--r-- 1 Ankit19.Gupta 1049089      42 Apr 15 11:00 captions.dir\\n-rw-r--r-- 1 Ankit19.Gupta 1049089      61 Apr 14 20:00 my_python_module.py\\n-rw-r--r-- 1 Ankit19.Gupta 1049089    2428 Nov 11 18:10 mypolygon.py\\n-rw-r--r-- 1 Ankit19.Gupta 1049089       2 Dec 12 13:34 output.txt\\n-rw-r--r-- 1 Ankit19.Gupta 1049089     132 Dec 12 13:35 wc.py\\n-rw-r--r-- 1 Ankit19.Gupta 1049089      42 Apr 15 02:35 words.txt\\n'"
      ]
     },
     "execution_count": 26,
     "metadata": {},
     "output_type": "execute_result"
    }
   ],
   "source": [
    "os.popen('ls -l').read()"
   ]
  },
  {
   "cell_type": "code",
   "execution_count": 27,
   "metadata": {},
   "outputs": [],
   "source": [
    "class Point:\n",
    "    '''\n",
    "    represents point in a 2d\n",
    "    '''"
   ]
  },
  {
   "cell_type": "code",
   "execution_count": 28,
   "metadata": {},
   "outputs": [
    {
     "name": "stdout",
     "output_type": "stream",
     "text": [
      "<class '__main__.Point'>\n"
     ]
    }
   ],
   "source": [
    "print(Point)"
   ]
  },
  {
   "cell_type": "code",
   "execution_count": 29,
   "metadata": {},
   "outputs": [
    {
     "name": "stdout",
     "output_type": "stream",
     "text": [
      "<__main__.Point object at 0x000001E27C74C5E0>\n"
     ]
    }
   ],
   "source": [
    "blank=Point()\n",
    "print(blank)"
   ]
  },
  {
   "cell_type": "code",
   "execution_count": 30,
   "metadata": {},
   "outputs": [],
   "source": [
    "blank.x = 3.0\n",
    "blank.y = 4.0"
   ]
  },
  {
   "cell_type": "code",
   "execution_count": 31,
   "metadata": {},
   "outputs": [
    {
     "data": {
      "text/plain": [
       "'(3, 4)'"
      ]
     },
     "execution_count": 31,
     "metadata": {},
     "output_type": "execute_result"
    }
   ],
   "source": [
    "'(%g, %g)' % (blank.x, blank.y)"
   ]
  },
  {
   "cell_type": "code",
   "execution_count": 32,
   "metadata": {},
   "outputs": [
    {
     "data": {
      "text/plain": [
       "True"
      ]
     },
     "execution_count": 32,
     "metadata": {},
     "output_type": "execute_result"
    }
   ],
   "source": [
    "isinstance(blank,Point)"
   ]
  },
  {
   "cell_type": "code",
   "execution_count": 34,
   "metadata": {},
   "outputs": [
    {
     "data": {
      "text/plain": [
       "True"
      ]
     },
     "execution_count": 34,
     "metadata": {},
     "output_type": "execute_result"
    }
   ],
   "source": [
    "hasattr(blank,'x')"
   ]
  },
  {
   "cell_type": "code",
   "execution_count": 35,
   "metadata": {},
   "outputs": [
    {
     "data": {
      "text/plain": [
       "{'x': 3, 'y': 4}"
      ]
     },
     "execution_count": 35,
     "metadata": {},
     "output_type": "execute_result"
    }
   ],
   "source": [
    "class Point:\n",
    "    \"\"\"Represents a point in 2-D space.\"\"\"\n",
    "p = Point()\n",
    "p.x = 3\n",
    "p.y = 4    \n",
    "vars(p)"
   ]
  },
  {
   "cell_type": "code",
   "execution_count": null,
   "metadata": {},
   "outputs": [],
   "source": []
  }
 ],
 "metadata": {
  "kernelspec": {
   "display_name": "Python 3 (ipykernel)",
   "language": "python",
   "name": "python3"
  },
  "language_info": {
   "codemirror_mode": {
    "name": "ipython",
    "version": 3
   },
   "file_extension": ".py",
   "mimetype": "text/x-python",
   "name": "python",
   "nbconvert_exporter": "python",
   "pygments_lexer": "ipython3",
   "version": "3.8.5"
  }
 },
 "nbformat": 4,
 "nbformat_minor": 4
}
